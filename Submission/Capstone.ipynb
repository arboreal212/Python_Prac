{
 "cells": [
  {
   "cell_type": "markdown",
   "metadata": {},
   "source": [
    "<h1> Predicting the Probability of a Loan being Crowdfunded on Kiva </h1>\n",
    "\n",
    "This project attempts to find the probability of a loan being funded on the crowdfunding micro finance website – Kiva.org. \n",
    "\n",
    "Kiva Microfunds is a non-profit organization that allows people to lend money via the internet to low-income entrepreneurs and students throughout the world. Kiva's mission is \"to connect people through lending to alleviate poverty.\" Since 2005, Kiva has crowd-funded more than a million loans, totaling more than $1 billion. The Kiva platform has attracted a community of well over a million lenders from around the world.\n"
   ]
  },
  {
   "cell_type": "markdown",
   "metadata": {},
   "source": [
    "<h2> The Data </h2>\n",
    "\n",
    "I downloaded a “snapshot” from Kiva’s own website with over 1 million records of borrowers and corresponding lenders https://build.kiva.org/docs/data/snapshots\n"
   ]
  },
  {
   "cell_type": "markdown",
   "metadata": {},
   "source": [
    "<h2> Methodology </h2>\n",
    "\n",
    "I treated this as a supervised learning classification problem. The binary variable 'funded’ indicates whether a loan was funded or not. \n",
    "\n",
    "<h3> Libraries </h3>\n",
    "\n",
    "pandas for:\n",
    "    data loading, wrangling, cleaning, and manipulation\n",
    "    feature selection and engineering\n",
    "    descriptive statistics\n",
    "\n",
    "numpy for:\n",
    "    array data structure, the primary input for classifiers\n",
    "    model comparison\n",
    "    matrix manipulation\n",
    "\n",
    "scikit-learn for:\n",
    "    classifier models\n",
    "    parameter gridsearch\n",
    "    model evaluation\n",
    "\n",
    "matplotlib and seaborn for:\n",
    "    data visualization\n",
    "\n"
   ]
  },
  {
   "cell_type": "markdown",
   "metadata": {},
   "source": [
    "<h2> Data Wrangling and Cleaning </h2>\n",
    "\n",
    "The data was loaded as a CSV and was relatively easy to manipulate with pandas. I had to do various string manipulations for “borrower_genders” and “pictured” as they were just loaded as a long string. Aside from that, there was standard one hot encoding for countries, activities and sectors as those were features that were key to my analysis. \n"
   ]
  },
  {
   "cell_type": "markdown",
   "metadata": {},
   "source": [
    "<h2> Feature Selection and Engineering </h2>\n",
    "\n",
    "I have included as many variables as possible, both categorical and numeric. Kiva provided a lot of excellent data about demographic attributes, location and reasons why the borrower needs a loan. Details are in the code below. \n",
    "\n",
    "<h2> Model Fitting and Evaluation </h2>\n",
    "\n",
    "Since this is a binary classification problem, I had 2 modelling approaches: \n",
    "\n"
   ]
  },
  {
   "cell_type": "markdown",
   "metadata": {},
   "source": [
    "<h4> Logistic Regression (Logit) </h4>\n",
    "\n",
    "Logistic regression is useful in that it returns coefficients for each feature, which might be positive or negative, giving an indication of whether a particular feature is weakening or strengthening an application. \n",
    "\n",
    "<h4> Random Forest </h4>\n",
    "\n",
    "This ensemble method pairs well with Decisions Trees, as it creates random trees and evaluates them. This is a good way to check many different trees, as opposed to DTC. \n",
    "\n"
   ]
  },
  {
   "cell_type": "markdown",
   "metadata": {},
   "source": [
    "<h1> Code </h1>"
   ]
  },
  {
   "cell_type": "code",
   "execution_count": 1,
   "metadata": {},
   "outputs": [],
   "source": [
    "# import modules\n",
    "import pandas as pd\n",
    "import numpy as np\n",
    "import matplotlib.pylab as plt\n",
    "import seaborn as sns\n",
    "%matplotlib inline\n",
    "from matplotlib.pylab import rcParams"
   ]
  },
  {
   "cell_type": "code",
   "execution_count": 2,
   "metadata": {},
   "outputs": [],
   "source": [
    "# take a chunk of the file as its massive\n",
    "chunksize = 200000\n",
    "chunks = []\n",
    "for chunk in pd.read_csv('loans.csv', chunksize=chunksize, low_memory=False):\n",
    "    chunks.append(chunk)\n",
    "df = pd.concat(chunks, axis=0)"
   ]
  },
  {
   "cell_type": "code",
   "execution_count": 3,
   "metadata": {},
   "outputs": [
    {
     "name": "stdout",
     "output_type": "stream",
     "text": [
      "<class 'pandas.core.frame.DataFrame'>\n",
      "RangeIndex: 1419607 entries, 0 to 1419606\n",
      "Data columns (total 34 columns):\n",
      "LOAN_ID                            1419607 non-null int64\n",
      "LOAN_NAME                          1372049 non-null object\n",
      "ORIGINAL_LANGUAGE                  1376356 non-null object\n",
      "DESCRIPTION                        1376322 non-null object\n",
      "DESCRIPTION_TRANSLATED             966929 non-null object\n",
      "FUNDED_AMOUNT                      1419607 non-null float64\n",
      "LOAN_AMOUNT                        1419607 non-null float64\n",
      "STATUS                             1419607 non-null object\n",
      "IMAGE_ID                           1376356 non-null float64\n",
      "VIDEO_ID                           610 non-null float64\n",
      "ACTIVITY_NAME                      1419607 non-null object\n",
      "SECTOR_NAME                        1419607 non-null object\n",
      "LOAN_USE                           1376334 non-null object\n",
      "COUNTRY_CODE                       1419598 non-null object\n",
      "COUNTRY_NAME                       1419607 non-null object\n",
      "TOWN_NAME                          1257849 non-null object\n",
      "CURRENCY_POLICY                    1419607 non-null object\n",
      "CURRENCY_EXCHANGE_COVERAGE_RATE    1098081 non-null float64\n",
      "CURRENCY                           1419607 non-null object\n",
      "PARTNER_ID                         1402817 non-null float64\n",
      "POSTED_TIME                        1419607 non-null object\n",
      "PLANNED_EXPIRATION_TIME            1047773 non-null object\n",
      "DISBURSE_TIME                      1416794 non-null object\n",
      "RAISED_TIME                        1355325 non-null object\n",
      "LENDER_TERM                        1419583 non-null float64\n",
      "NUM_LENDERS_TOTAL                  1419607 non-null int64\n",
      "NUM_JOURNAL_ENTRIES                1419607 non-null int64\n",
      "NUM_BULK_ENTRIES                   1419607 non-null int64\n",
      "TAGS                               635553 non-null object\n",
      "BORROWER_NAMES                     1372049 non-null object\n",
      "BORROWER_GENDERS                   1376356 non-null object\n",
      "BORROWER_PICTURED                  1376356 non-null object\n",
      "REPAYMENT_INTERVAL                 1419607 non-null object\n",
      "DISTRIBUTION_MODEL                 1419607 non-null object\n",
      "dtypes: float64(7), int64(4), object(23)\n",
      "memory usage: 368.2+ MB\n"
     ]
    }
   ],
   "source": [
    "df.info()"
   ]
  },
  {
   "cell_type": "code",
   "execution_count": 4,
   "metadata": {},
   "outputs": [],
   "source": [
    "'''Make everything lower case '''\n",
    "df.columns = [x.lower() for x in df.columns]"
   ]
  },
  {
   "cell_type": "markdown",
   "metadata": {},
   "source": [
    "<ul> <b> Key Observations : </b>\n",
    "    <li> Description translated fields have many missing values. This is likely because they were already written in English and do not need translations <b> (32% missing) </b> </li>\n",
    "  <li> Planned expiration time <b> (26% missing) </b>.  </li>\n",
    "  <li> Currency exchange coverage rates <b> (23% missing) </b> </li>\n",
    "  <li> Tags <b> (54% missing)</b> </li>\n",
    "</ul>"
   ]
  },
  {
   "cell_type": "markdown",
   "metadata": {},
   "source": [
    "<h3> Exploratory analysis </h3>"
   ]
  },
  {
   "cell_type": "code",
   "execution_count": 5,
   "metadata": {},
   "outputs": [
    {
     "data": {
      "text/plain": [
       "<matplotlib.axes._subplots.AxesSubplot at 0x1030b4390>"
      ]
     },
     "execution_count": 5,
     "metadata": {},
     "output_type": "execute_result"
    },
    {
     "data": {
      "image/png": "[encoded data removed]",
      "text/plain": [
       "<matplotlib.figure.Figure at 0x1a446d2e80>"
      ]
     },
     "metadata": {},
     "output_type": "display_data"
    }
   ],
   "source": [
    "plt.figure(figsize=(14,6))\n",
    "sns.countplot(x=\"status\", data=df, palette=\"cubehelix\")"
   ]
  },
  {
   "cell_type": "markdown",
   "metadata": {},
   "source": [
    "<h3>Here lies our problem.. majority of the loans in this sample have been funded. This is going to skew our results considerably moving forward </h3> "
   ]
  },
  {
   "cell_type": "markdown",
   "metadata": {},
   "source": [
    "There are certain values here that will not be relevant to our analysis. These include image_id, video_id and town_name. Other variables, such as tags have too many missing values. I will also drop those for now."
   ]
  },
  {
   "cell_type": "code",
   "execution_count": 6,
   "metadata": {},
   "outputs": [],
   "source": [
    "df.drop(['image_id', 'video_id','tags','town_name','country_code','description','description_translated'], axis=1, inplace=True)"
   ]
  },
  {
   "cell_type": "markdown",
   "metadata": {},
   "source": [
    "<h3> Exploring loan amounts </h3>"
   ]
  },
  {
   "cell_type": "code",
   "execution_count": 7,
   "metadata": {},
   "outputs": [
    {
     "data": {
      "image/png": "[encoded data removed]",
      "text/plain": [
       "<matplotlib.figure.Figure at 0x107065d68>"
      ]
     },
     "metadata": {},
     "output_type": "display_data"
    }
   ],
   "source": [
    "plt.figure(figsize=(8, 6))\n",
    "sns.distplot(df['loan_amount'], color='g', bins=100,hist=False, kde_kws={'clip': (0.0, 3000)});"
   ]
  },
  {
   "cell_type": "code",
   "execution_count": 8,
   "metadata": {},
   "outputs": [
    {
     "name": "stdout",
     "output_type": "stream",
     "text": [
      "The mean loan amount is 832.2284265997562\n",
      "The max loan amount is 100000.0\n",
      "The min loan amount is 25.0\n"
     ]
    }
   ],
   "source": [
    "print (\"The mean loan amount is\", df.loan_amount.mean())\n",
    "print (\"The max loan amount is\", df.loan_amount.max())\n",
    "print (\"The min loan amount is\", df.loan_amount.min())"
   ]
  },
  {
   "cell_type": "markdown",
   "metadata": {},
   "source": [
    "<h3> The average requested loan amount is about 800. The min of $25 makes sense as that is the minimum amount any lender can lend on Kiva </h3>"
   ]
  },
  {
   "cell_type": "code",
   "execution_count": 9,
   "metadata": {},
   "outputs": [
    {
     "data": {
      "image/png": "[encoded data removed]",
      "text/plain": [
       "<matplotlib.figure.Figure at 0x1a0f410780>"
      ]
     },
     "metadata": {},
     "output_type": "display_data"
    }
   ],
   "source": [
    "plt.figure(figsize=(9, 8))\n",
    "sns.distplot(df['funded_amount'], color='b', bins=100,hist=False, kde_kws={'clip': (0.0, 3000)});"
   ]
  },
  {
   "cell_type": "code",
   "execution_count": 10,
   "metadata": {},
   "outputs": [
    {
     "name": "stdout",
     "output_type": "stream",
     "text": [
      "The mean funded loan amount is 796.125385405961\n",
      "The max funded loan amount is 100000.0\n",
      "The min funded loan amount is 0.0\n"
     ]
    }
   ],
   "source": [
    "print (\"The mean funded loan amount is\", df.funded_amount.mean())\n",
    "print (\"The max funded loan amount is\", df.funded_amount.max())\n",
    "print (\"The min funded loan amount is\", df.funded_amount.min())"
   ]
  },
  {
   "cell_type": "markdown",
   "metadata": {},
   "source": [
    "<h3> The average funded loan amount is about 800. The min of 0 makes sense as there are a couple of loans that are not funded within this dataset </h3>"
   ]
  },
  {
   "cell_type": "code",
   "execution_count": 11,
   "metadata": {},
   "outputs": [
    {
     "data": {
      "text/plain": [
       "<matplotlib.axes._subplots.AxesSubplot at 0x1a0f410e10>"
      ]
     },
     "execution_count": 11,
     "metadata": {},
     "output_type": "execute_result"
    },
    {
     "data": {
      "image/png": "[encoded data removed]",
      "text/plain": [
       "<matplotlib.figure.Figure at 0x1a0f2a8da0>"
      ]
     },
     "metadata": {},
     "output_type": "display_data"
    }
   ],
   "source": [
    "# exploring by sector\n",
    "plt.figure(figsize=(22,6))\n",
    "sns.countplot(x=\"sector_name\", data=df, palette='cubehelix')"
   ]
  },
  {
   "cell_type": "markdown",
   "metadata": {},
   "source": [
    "<h3> Most requested loans are in Agriculture and Food sectors. Intutively it makes sense as a lot of borrowers on Kiva are farmers </h3>"
   ]
  },
  {
   "cell_type": "code",
   "execution_count": 12,
   "metadata": {},
   "outputs": [
    {
     "data": {
      "text/plain": [
       "<matplotlib.axes._subplots.AxesSubplot at 0x1a12ff5080>"
      ]
     },
     "execution_count": 12,
     "metadata": {},
     "output_type": "execute_result"
    },
    {
     "data": {
      "image/png": "[encoded data removed]",
      "text/plain": [
       "<matplotlib.figure.Figure at 0x1a1304c940>"
      ]
     },
     "metadata": {},
     "output_type": "display_data"
    }
   ],
   "source": [
    "plt.figure(figsize=(20,6))\n",
    "sns.countplot(x=\"repayment_interval\", data=df, palette='rainbow')"
   ]
  },
  {
   "cell_type": "markdown",
   "metadata": {},
   "source": [
    "<h3> Most loans are repaid on a monthly interval. Another majority are irregular and very few are bullet (paid towards the end of the term) </h3>"
   ]
  },
  {
   "cell_type": "code",
   "execution_count": 13,
   "metadata": {},
   "outputs": [],
   "source": [
    "# converting funded vs non funded into binary variables for machine learning\n",
    "def score_to_numeric(x):\n",
    "    if x=='funded':\n",
    "        return 1\n",
    "    if x=='expired':\n",
    "        return 0\n",
    "    if x=='refunded':\n",
    "        return 0\n",
    "    if x=='fundRaising':\n",
    "        return 0"
   ]
  },
  {
   "cell_type": "code",
   "execution_count": 14,
   "metadata": {},
   "outputs": [],
   "source": [
    "df['status_num'] = df['status'].apply(score_to_numeric)"
   ]
  },
  {
   "cell_type": "code",
   "execution_count": 15,
   "metadata": {},
   "outputs": [
    {
     "data": {
      "text/plain": [
       "<matplotlib.axes._subplots.AxesSubplot at 0x1a12ffbda0>"
      ]
     },
     "execution_count": 15,
     "metadata": {},
     "output_type": "execute_result"
    },
    {
     "data": {
      "image/png": "[encoded data removed]",
      "text/plain": [
       "<matplotlib.figure.Figure at 0x1a1303d748>"
      ]
     },
     "metadata": {},
     "output_type": "display_data"
    }
   ],
   "source": [
    "# Avg loan and funded amount by sector\n",
    "df.pivot_table(index=['sector_name'], values=['loan_amount', 'funded_amount']).plot(kind= 'bar')"
   ]
  },
  {
   "cell_type": "markdown",
   "metadata": {},
   "source": [
    "<h3> This tells me to expect a significant difference in funding rates across sectors </h3>"
   ]
  },
  {
   "cell_type": "code",
   "execution_count": 16,
   "metadata": {},
   "outputs": [
    {
     "data": {
      "text/html": [
       "<div>\n",
       "<style scoped>\n",
       "    .dataframe tbody tr th:only-of-type {\n",
       "        vertical-align: middle;\n",
       "    }\n",
       "\n",
       "    .dataframe tbody tr th {\n",
       "        vertical-align: top;\n",
       "    }\n",
       "\n",
       "    .dataframe thead th {\n",
       "        text-align: right;\n",
       "    }\n",
       "</style>\n",
       "<table border=\"1\" class=\"dataframe\">\n",
       "  <thead>\n",
       "    <tr style=\"text-align: right;\">\n",
       "      <th></th>\n",
       "      <th>status_num</th>\n",
       "    </tr>\n",
       "    <tr>\n",
       "      <th>country_name</th>\n",
       "      <th></th>\n",
       "    </tr>\n",
       "  </thead>\n",
       "  <tbody>\n",
       "    <tr>\n",
       "      <th>Papua New Guinea</th>\n",
       "      <td>1.000000</td>\n",
       "    </tr>\n",
       "    <tr>\n",
       "      <th>Saint Vincent and the Grenadines</th>\n",
       "      <td>1.000000</td>\n",
       "    </tr>\n",
       "    <tr>\n",
       "      <th>Lesotho</th>\n",
       "      <td>1.000000</td>\n",
       "    </tr>\n",
       "    <tr>\n",
       "      <th>Mauritania</th>\n",
       "      <td>1.000000</td>\n",
       "    </tr>\n",
       "    <tr>\n",
       "      <th>Namibia</th>\n",
       "      <td>1.000000</td>\n",
       "    </tr>\n",
       "    <tr>\n",
       "      <th>Canada</th>\n",
       "      <td>1.000000</td>\n",
       "    </tr>\n",
       "    <tr>\n",
       "      <th>Botswana</th>\n",
       "      <td>1.000000</td>\n",
       "    </tr>\n",
       "    <tr>\n",
       "      <th>Lao People's Democratic Republic</th>\n",
       "      <td>1.000000</td>\n",
       "    </tr>\n",
       "    <tr>\n",
       "      <th>Somalia</th>\n",
       "      <td>1.000000</td>\n",
       "    </tr>\n",
       "    <tr>\n",
       "      <th>Uruguay</th>\n",
       "      <td>1.000000</td>\n",
       "    </tr>\n",
       "    <tr>\n",
       "      <th>Vanuatu</th>\n",
       "      <td>1.000000</td>\n",
       "    </tr>\n",
       "    <tr>\n",
       "      <th>Turkey</th>\n",
       "      <td>0.999004</td>\n",
       "    </tr>\n",
       "    <tr>\n",
       "      <th>Madagascar</th>\n",
       "      <td>0.998358</td>\n",
       "    </tr>\n",
       "    <tr>\n",
       "      <th>Nepal</th>\n",
       "      <td>0.998194</td>\n",
       "    </tr>\n",
       "    <tr>\n",
       "      <th>Bulgaria</th>\n",
       "      <td>0.996622</td>\n",
       "    </tr>\n",
       "    <tr>\n",
       "      <th>Liberia</th>\n",
       "      <td>0.996419</td>\n",
       "    </tr>\n",
       "    <tr>\n",
       "      <th>Panama</th>\n",
       "      <td>0.994898</td>\n",
       "    </tr>\n",
       "    <tr>\n",
       "      <th>South Africa</th>\n",
       "      <td>0.993681</td>\n",
       "    </tr>\n",
       "    <tr>\n",
       "      <th>Congo</th>\n",
       "      <td>0.992647</td>\n",
       "    </tr>\n",
       "    <tr>\n",
       "      <th>China</th>\n",
       "      <td>0.992537</td>\n",
       "    </tr>\n",
       "    <tr>\n",
       "      <th>South Sudan</th>\n",
       "      <td>0.992096</td>\n",
       "    </tr>\n",
       "    <tr>\n",
       "      <th>Malawi</th>\n",
       "      <td>0.991912</td>\n",
       "    </tr>\n",
       "    <tr>\n",
       "      <th>Chile</th>\n",
       "      <td>0.991031</td>\n",
       "    </tr>\n",
       "    <tr>\n",
       "      <th>Philippines</th>\n",
       "      <td>0.989391</td>\n",
       "    </tr>\n",
       "    <tr>\n",
       "      <th>Israel</th>\n",
       "      <td>0.989224</td>\n",
       "    </tr>\n",
       "    <tr>\n",
       "      <th>Burkina Faso</th>\n",
       "      <td>0.988535</td>\n",
       "    </tr>\n",
       "    <tr>\n",
       "      <th>Zimbabwe</th>\n",
       "      <td>0.986033</td>\n",
       "    </tr>\n",
       "    <tr>\n",
       "      <th>Solomon Islands</th>\n",
       "      <td>0.985604</td>\n",
       "    </tr>\n",
       "    <tr>\n",
       "      <th>Benin</th>\n",
       "      <td>0.985200</td>\n",
       "    </tr>\n",
       "    <tr>\n",
       "      <th>Cambodia</th>\n",
       "      <td>0.983501</td>\n",
       "    </tr>\n",
       "    <tr>\n",
       "      <th>...</th>\n",
       "      <td>...</td>\n",
       "    </tr>\n",
       "    <tr>\n",
       "      <th>Suriname</th>\n",
       "      <td>0.938356</td>\n",
       "    </tr>\n",
       "    <tr>\n",
       "      <th>Indonesia</th>\n",
       "      <td>0.938219</td>\n",
       "    </tr>\n",
       "    <tr>\n",
       "      <th>Nicaragua</th>\n",
       "      <td>0.936852</td>\n",
       "    </tr>\n",
       "    <tr>\n",
       "      <th>Zambia</th>\n",
       "      <td>0.935787</td>\n",
       "    </tr>\n",
       "    <tr>\n",
       "      <th>Lebanon</th>\n",
       "      <td>0.930538</td>\n",
       "    </tr>\n",
       "    <tr>\n",
       "      <th>Uganda</th>\n",
       "      <td>0.925287</td>\n",
       "    </tr>\n",
       "    <tr>\n",
       "      <th>Georgia</th>\n",
       "      <td>0.923184</td>\n",
       "    </tr>\n",
       "    <tr>\n",
       "      <th>Kyrgyzstan</th>\n",
       "      <td>0.919594</td>\n",
       "    </tr>\n",
       "    <tr>\n",
       "      <th>Bolivia</th>\n",
       "      <td>0.917386</td>\n",
       "    </tr>\n",
       "    <tr>\n",
       "      <th>Tajikistan</th>\n",
       "      <td>0.914319</td>\n",
       "    </tr>\n",
       "    <tr>\n",
       "      <th>Azerbaijan</th>\n",
       "      <td>0.911424</td>\n",
       "    </tr>\n",
       "    <tr>\n",
       "      <th>Moldova</th>\n",
       "      <td>0.909836</td>\n",
       "    </tr>\n",
       "    <tr>\n",
       "      <th>Iraq</th>\n",
       "      <td>0.900280</td>\n",
       "    </tr>\n",
       "    <tr>\n",
       "      <th>Palestine</th>\n",
       "      <td>0.897407</td>\n",
       "    </tr>\n",
       "    <tr>\n",
       "      <th>Albania</th>\n",
       "      <td>0.887805</td>\n",
       "    </tr>\n",
       "    <tr>\n",
       "      <th>Cote D'Ivoire</th>\n",
       "      <td>0.883392</td>\n",
       "    </tr>\n",
       "    <tr>\n",
       "      <th>Kosovo</th>\n",
       "      <td>0.875574</td>\n",
       "    </tr>\n",
       "    <tr>\n",
       "      <th>Gaza</th>\n",
       "      <td>0.875000</td>\n",
       "    </tr>\n",
       "    <tr>\n",
       "      <th>El Salvador</th>\n",
       "      <td>0.868810</td>\n",
       "    </tr>\n",
       "    <tr>\n",
       "      <th>Jordan</th>\n",
       "      <td>0.864285</td>\n",
       "    </tr>\n",
       "    <tr>\n",
       "      <th>Colombia</th>\n",
       "      <td>0.851967</td>\n",
       "    </tr>\n",
       "    <tr>\n",
       "      <th>Myanmar (Burma)</th>\n",
       "      <td>0.845081</td>\n",
       "    </tr>\n",
       "    <tr>\n",
       "      <th>Armenia</th>\n",
       "      <td>0.806408</td>\n",
       "    </tr>\n",
       "    <tr>\n",
       "      <th>Puerto Rico</th>\n",
       "      <td>0.750000</td>\n",
       "    </tr>\n",
       "    <tr>\n",
       "      <th>Sri Lanka</th>\n",
       "      <td>0.742424</td>\n",
       "    </tr>\n",
       "    <tr>\n",
       "      <th>United States</th>\n",
       "      <td>0.692157</td>\n",
       "    </tr>\n",
       "    <tr>\n",
       "      <th>Bhutan</th>\n",
       "      <td>0.500000</td>\n",
       "    </tr>\n",
       "    <tr>\n",
       "      <th>Guam</th>\n",
       "      <td>0.500000</td>\n",
       "    </tr>\n",
       "    <tr>\n",
       "      <th>Chad</th>\n",
       "      <td>0.000000</td>\n",
       "    </tr>\n",
       "    <tr>\n",
       "      <th>Virgin Islands</th>\n",
       "      <td>0.000000</td>\n",
       "    </tr>\n",
       "  </tbody>\n",
       "</table>\n",
       "<p>96 rows × 1 columns</p>\n",
       "</div>"
      ],
      "text/plain": [
       "                                  status_num\n",
       "country_name                                \n",
       "Papua New Guinea                    1.000000\n",
       "Saint Vincent and the Grenadines    1.000000\n",
       "Lesotho                             1.000000\n",
       "Mauritania                          1.000000\n",
       "Namibia                             1.000000\n",
       "Canada                              1.000000\n",
       "Botswana                            1.000000\n",
       "Lao People's Democratic Republic    1.000000\n",
       "Somalia                             1.000000\n",
       "Uruguay                             1.000000\n",
       "Vanuatu                             1.000000\n",
       "Turkey                              0.999004\n",
       "Madagascar                          0.998358\n",
       "Nepal                               0.998194\n",
       "Bulgaria                            0.996622\n",
       "Liberia                             0.996419\n",
       "Panama                              0.994898\n",
       "South Africa                        0.993681\n",
       "Congo                               0.992647\n",
       "China                               0.992537\n",
       "South Sudan                         0.992096\n",
       "Malawi                              0.991912\n",
       "Chile                               0.991031\n",
       "Philippines                         0.989391\n",
       "Israel                              0.989224\n",
       "Burkina Faso                        0.988535\n",
       "Zimbabwe                            0.986033\n",
       "Solomon Islands                     0.985604\n",
       "Benin                               0.985200\n",
       "Cambodia                            0.983501\n",
       "...                                      ...\n",
       "Suriname                            0.938356\n",
       "Indonesia                           0.938219\n",
       "Nicaragua                           0.936852\n",
       "Zambia                              0.935787\n",
       "Lebanon                             0.930538\n",
       "Uganda                              0.925287\n",
       "Georgia                             0.923184\n",
       "Kyrgyzstan                          0.919594\n",
       "Bolivia                             0.917386\n",
       "Tajikistan                          0.914319\n",
       "Azerbaijan                          0.911424\n",
       "Moldova                             0.909836\n",
       "Iraq                                0.900280\n",
       "Palestine                           0.897407\n",
       "Albania                             0.887805\n",
       "Cote D'Ivoire                       0.883392\n",
       "Kosovo                              0.875574\n",
       "Gaza                                0.875000\n",
       "El Salvador                         0.868810\n",
       "Jordan                              0.864285\n",
       "Colombia                            0.851967\n",
       "Myanmar (Burma)                     0.845081\n",
       "Armenia                             0.806408\n",
       "Puerto Rico                         0.750000\n",
       "Sri Lanka                           0.742424\n",
       "United States                       0.692157\n",
       "Bhutan                              0.500000\n",
       "Guam                                0.500000\n",
       "Chad                                0.000000\n",
       "Virgin Islands                      0.000000\n",
       "\n",
       "[96 rows x 1 columns]"
      ]
     },
     "execution_count": 16,
     "metadata": {},
     "output_type": "execute_result"
    }
   ],
   "source": [
    "df.pivot_table(index=['country_name'], values=['status_num']).sort_values(by=['status_num'], ascending=False)"
   ]
  },
  {
   "cell_type": "code",
   "execution_count": 17,
   "metadata": {},
   "outputs": [
    {
     "data": {
      "text/html": [
       "<div>\n",
       "<style scoped>\n",
       "    .dataframe tbody tr th:only-of-type {\n",
       "        vertical-align: middle;\n",
       "    }\n",
       "\n",
       "    .dataframe tbody tr th {\n",
       "        vertical-align: top;\n",
       "    }\n",
       "\n",
       "    .dataframe thead th {\n",
       "        text-align: right;\n",
       "    }\n",
       "</style>\n",
       "<table border=\"1\" class=\"dataframe\">\n",
       "  <thead>\n",
       "    <tr style=\"text-align: right;\">\n",
       "      <th></th>\n",
       "      <th>status_num</th>\n",
       "    </tr>\n",
       "    <tr>\n",
       "      <th>sector_name</th>\n",
       "      <th></th>\n",
       "    </tr>\n",
       "  </thead>\n",
       "  <tbody>\n",
       "    <tr>\n",
       "      <th>Manufacturing</th>\n",
       "      <td>0.994081</td>\n",
       "    </tr>\n",
       "    <tr>\n",
       "      <th>Arts</th>\n",
       "      <td>0.989001</td>\n",
       "    </tr>\n",
       "    <tr>\n",
       "      <th>Education</th>\n",
       "      <td>0.977983</td>\n",
       "    </tr>\n",
       "    <tr>\n",
       "      <th>Wholesale</th>\n",
       "      <td>0.968246</td>\n",
       "    </tr>\n",
       "    <tr>\n",
       "      <th>Construction</th>\n",
       "      <td>0.968015</td>\n",
       "    </tr>\n",
       "    <tr>\n",
       "      <th>Food</th>\n",
       "      <td>0.962711</td>\n",
       "    </tr>\n",
       "    <tr>\n",
       "      <th>Personal Use</th>\n",
       "      <td>0.960746</td>\n",
       "    </tr>\n",
       "    <tr>\n",
       "      <th>Health</th>\n",
       "      <td>0.949701</td>\n",
       "    </tr>\n",
       "    <tr>\n",
       "      <th>Agriculture</th>\n",
       "      <td>0.948660</td>\n",
       "    </tr>\n",
       "    <tr>\n",
       "      <th>Retail</th>\n",
       "      <td>0.946829</td>\n",
       "    </tr>\n",
       "    <tr>\n",
       "      <th>Services</th>\n",
       "      <td>0.943805</td>\n",
       "    </tr>\n",
       "    <tr>\n",
       "      <th>Clothing</th>\n",
       "      <td>0.941973</td>\n",
       "    </tr>\n",
       "    <tr>\n",
       "      <th>Entertainment</th>\n",
       "      <td>0.930398</td>\n",
       "    </tr>\n",
       "    <tr>\n",
       "      <th>Transportation</th>\n",
       "      <td>0.929776</td>\n",
       "    </tr>\n",
       "    <tr>\n",
       "      <th>Housing</th>\n",
       "      <td>0.902011</td>\n",
       "    </tr>\n",
       "  </tbody>\n",
       "</table>\n",
       "</div>"
      ],
      "text/plain": [
       "                status_num\n",
       "sector_name               \n",
       "Manufacturing     0.994081\n",
       "Arts              0.989001\n",
       "Education         0.977983\n",
       "Wholesale         0.968246\n",
       "Construction      0.968015\n",
       "Food              0.962711\n",
       "Personal Use      0.960746\n",
       "Health            0.949701\n",
       "Agriculture       0.948660\n",
       "Retail            0.946829\n",
       "Services          0.943805\n",
       "Clothing          0.941973\n",
       "Entertainment     0.930398\n",
       "Transportation    0.929776\n",
       "Housing           0.902011"
      ]
     },
     "execution_count": 17,
     "metadata": {},
     "output_type": "execute_result"
    }
   ],
   "source": [
    "df.pivot_table(index=['sector_name'], values=['status_num']).sort_values(by=['status_num'], ascending=False)"
   ]
  },
  {
   "cell_type": "markdown",
   "metadata": {},
   "source": [
    "<h4> Expect country to be a significant predictor of whether a loan is funded or not </h4>"
   ]
  },
  {
   "cell_type": "code",
   "execution_count": 18,
   "metadata": {},
   "outputs": [
    {
     "data": {
      "text/html": [
       "<div>\n",
       "<style scoped>\n",
       "    .dataframe tbody tr th:only-of-type {\n",
       "        vertical-align: middle;\n",
       "    }\n",
       "\n",
       "    .dataframe tbody tr th {\n",
       "        vertical-align: top;\n",
       "    }\n",
       "\n",
       "    .dataframe thead th {\n",
       "        text-align: right;\n",
       "    }\n",
       "</style>\n",
       "<table border=\"1\" class=\"dataframe\">\n",
       "  <thead>\n",
       "    <tr style=\"text-align: right;\">\n",
       "      <th></th>\n",
       "      <th>loan_id</th>\n",
       "      <th>funded_amount</th>\n",
       "      <th>loan_amount</th>\n",
       "      <th>currency_exchange_coverage_rate</th>\n",
       "      <th>partner_id</th>\n",
       "      <th>lender_term</th>\n",
       "      <th>num_lenders_total</th>\n",
       "      <th>num_journal_entries</th>\n",
       "      <th>num_bulk_entries</th>\n",
       "      <th>status_num</th>\n",
       "    </tr>\n",
       "  </thead>\n",
       "  <tbody>\n",
       "    <tr>\n",
       "      <th>loan_id</th>\n",
       "      <td>1.000000</td>\n",
       "      <td>-0.010612</td>\n",
       "      <td>0.012491</td>\n",
       "      <td>-0.674888</td>\n",
       "      <td>0.452031</td>\n",
       "      <td>0.076137</td>\n",
       "      <td>-0.079016</td>\n",
       "      <td>-0.224209</td>\n",
       "      <td>-0.132481</td>\n",
       "      <td>-0.105102</td>\n",
       "    </tr>\n",
       "    <tr>\n",
       "      <th>funded_amount</th>\n",
       "      <td>-0.010612</td>\n",
       "      <td>1.000000</td>\n",
       "      <td>0.960592</td>\n",
       "      <td>-0.008082</td>\n",
       "      <td>-0.066195</td>\n",
       "      <td>0.159129</td>\n",
       "      <td>0.875975</td>\n",
       "      <td>0.053751</td>\n",
       "      <td>0.045534</td>\n",
       "      <td>0.017201</td>\n",
       "    </tr>\n",
       "    <tr>\n",
       "      <th>loan_amount</th>\n",
       "      <td>0.012491</td>\n",
       "      <td>0.960592</td>\n",
       "      <td>1.000000</td>\n",
       "      <td>-0.020547</td>\n",
       "      <td>-0.057106</td>\n",
       "      <td>0.188700</td>\n",
       "      <td>0.836980</td>\n",
       "      <td>0.035009</td>\n",
       "      <td>0.034500</td>\n",
       "      <td>-0.131059</td>\n",
       "    </tr>\n",
       "    <tr>\n",
       "      <th>currency_exchange_coverage_rate</th>\n",
       "      <td>-0.674888</td>\n",
       "      <td>-0.008082</td>\n",
       "      <td>-0.020547</td>\n",
       "      <td>1.000000</td>\n",
       "      <td>-0.256584</td>\n",
       "      <td>-0.100725</td>\n",
       "      <td>0.040180</td>\n",
       "      <td>0.078716</td>\n",
       "      <td>0.024960</td>\n",
       "      <td>0.080260</td>\n",
       "    </tr>\n",
       "    <tr>\n",
       "      <th>partner_id</th>\n",
       "      <td>0.452031</td>\n",
       "      <td>-0.066195</td>\n",
       "      <td>-0.057106</td>\n",
       "      <td>-0.256584</td>\n",
       "      <td>1.000000</td>\n",
       "      <td>0.115435</td>\n",
       "      <td>-0.038321</td>\n",
       "      <td>-0.051707</td>\n",
       "      <td>-0.023171</td>\n",
       "      <td>-0.032987</td>\n",
       "    </tr>\n",
       "    <tr>\n",
       "      <th>lender_term</th>\n",
       "      <td>0.076137</td>\n",
       "      <td>0.159129</td>\n",
       "      <td>0.188700</td>\n",
       "      <td>-0.100725</td>\n",
       "      <td>0.115435</td>\n",
       "      <td>1.000000</td>\n",
       "      <td>0.211348</td>\n",
       "      <td>0.063248</td>\n",
       "      <td>0.145360</td>\n",
       "      <td>-0.145695</td>\n",
       "    </tr>\n",
       "    <tr>\n",
       "      <th>num_lenders_total</th>\n",
       "      <td>-0.079016</td>\n",
       "      <td>0.875975</td>\n",
       "      <td>0.836980</td>\n",
       "      <td>0.040180</td>\n",
       "      <td>-0.038321</td>\n",
       "      <td>0.211348</td>\n",
       "      <td>1.000000</td>\n",
       "      <td>0.079652</td>\n",
       "      <td>0.066337</td>\n",
       "      <td>0.037170</td>\n",
       "    </tr>\n",
       "    <tr>\n",
       "      <th>num_journal_entries</th>\n",
       "      <td>-0.224209</td>\n",
       "      <td>0.053751</td>\n",
       "      <td>0.035009</td>\n",
       "      <td>0.078716</td>\n",
       "      <td>-0.051707</td>\n",
       "      <td>0.063248</td>\n",
       "      <td>0.079652</td>\n",
       "      <td>1.000000</td>\n",
       "      <td>0.871624</td>\n",
       "      <td>0.099766</td>\n",
       "    </tr>\n",
       "    <tr>\n",
       "      <th>num_bulk_entries</th>\n",
       "      <td>-0.132481</td>\n",
       "      <td>0.045534</td>\n",
       "      <td>0.034500</td>\n",
       "      <td>0.024960</td>\n",
       "      <td>-0.023171</td>\n",
       "      <td>0.145360</td>\n",
       "      <td>0.066337</td>\n",
       "      <td>0.871624</td>\n",
       "      <td>1.000000</td>\n",
       "      <td>0.057532</td>\n",
       "    </tr>\n",
       "    <tr>\n",
       "      <th>status_num</th>\n",
       "      <td>-0.105102</td>\n",
       "      <td>0.017201</td>\n",
       "      <td>-0.131059</td>\n",
       "      <td>0.080260</td>\n",
       "      <td>-0.032987</td>\n",
       "      <td>-0.145695</td>\n",
       "      <td>0.037170</td>\n",
       "      <td>0.099766</td>\n",
       "      <td>0.057532</td>\n",
       "      <td>1.000000</td>\n",
       "    </tr>\n",
       "  </tbody>\n",
       "</table>\n",
       "</div>"
      ],
      "text/plain": [
       "                                  loan_id  funded_amount  loan_amount  \\\n",
       "loan_id                          1.000000      -0.010612     0.012491   \n",
       "funded_amount                   -0.010612       1.000000     0.960592   \n",
       "loan_amount                      0.012491       0.960592     1.000000   \n",
       "currency_exchange_coverage_rate -0.674888      -0.008082    -0.020547   \n",
       "partner_id                       0.452031      -0.066195    -0.057106   \n",
       "lender_term                      0.076137       0.159129     0.188700   \n",
       "num_lenders_total               -0.079016       0.875975     0.836980   \n",
       "num_journal_entries             -0.224209       0.053751     0.035009   \n",
       "num_bulk_entries                -0.132481       0.045534     0.034500   \n",
       "status_num                      -0.105102       0.017201    -0.131059   \n",
       "\n",
       "                                 currency_exchange_coverage_rate  partner_id  \\\n",
       "loan_id                                                -0.674888    0.452031   \n",
       "funded_amount                                          -0.008082   -0.066195   \n",
       "loan_amount                                            -0.020547   -0.057106   \n",
       "currency_exchange_coverage_rate                         1.000000   -0.256584   \n",
       "partner_id                                             -0.256584    1.000000   \n",
       "lender_term                                            -0.100725    0.115435   \n",
       "num_lenders_total                                       0.040180   -0.038321   \n",
       "num_journal_entries                                     0.078716   -0.051707   \n",
       "num_bulk_entries                                        0.024960   -0.023171   \n",
       "status_num                                              0.080260   -0.032987   \n",
       "\n",
       "                                 lender_term  num_lenders_total  \\\n",
       "loan_id                             0.076137          -0.079016   \n",
       "funded_amount                       0.159129           0.875975   \n",
       "loan_amount                         0.188700           0.836980   \n",
       "currency_exchange_coverage_rate    -0.100725           0.040180   \n",
       "partner_id                          0.115435          -0.038321   \n",
       "lender_term                         1.000000           0.211348   \n",
       "num_lenders_total                   0.211348           1.000000   \n",
       "num_journal_entries                 0.063248           0.079652   \n",
       "num_bulk_entries                    0.145360           0.066337   \n",
       "status_num                         -0.145695           0.037170   \n",
       "\n",
       "                                 num_journal_entries  num_bulk_entries  \\\n",
       "loan_id                                    -0.224209         -0.132481   \n",
       "funded_amount                               0.053751          0.045534   \n",
       "loan_amount                                 0.035009          0.034500   \n",
       "currency_exchange_coverage_rate             0.078716          0.024960   \n",
       "partner_id                                 -0.051707         -0.023171   \n",
       "lender_term                                 0.063248          0.145360   \n",
       "num_lenders_total                           0.079652          0.066337   \n",
       "num_journal_entries                         1.000000          0.871624   \n",
       "num_bulk_entries                            0.871624          1.000000   \n",
       "status_num                                  0.099766          0.057532   \n",
       "\n",
       "                                 status_num  \n",
       "loan_id                           -0.105102  \n",
       "funded_amount                      0.017201  \n",
       "loan_amount                       -0.131059  \n",
       "currency_exchange_coverage_rate    0.080260  \n",
       "partner_id                        -0.032987  \n",
       "lender_term                       -0.145695  \n",
       "num_lenders_total                  0.037170  \n",
       "num_journal_entries                0.099766  \n",
       "num_bulk_entries                   0.057532  \n",
       "status_num                         1.000000  "
      ]
     },
     "execution_count": 18,
     "metadata": {},
     "output_type": "execute_result"
    }
   ],
   "source": [
    "# Correlation matrix\n",
    "df.corr()"
   ]
  },
  {
   "cell_type": "markdown",
   "metadata": {},
   "source": [
    "<h4> Some of these correlations make a lot of sense! For example, higher loan amounts are correlated with a lower probability of funding. Number of lenders, journal entries and bulk entries increase probability of funding. Also, higher currenct exchange coverage rates increase probability of funding </h4>"
   ]
  },
  {
   "cell_type": "markdown",
   "metadata": {},
   "source": [
    "<h2> Feature Creation </h2>"
   ]
  },
  {
   "cell_type": "code",
   "execution_count": 19,
   "metadata": {},
   "outputs": [],
   "source": [
    "# for group loans, we want to assign a single female/male variable\n",
    "df['female_count'] = df.borrower_genders.str.count('female') # counts number of females\n",
    "df['total_gender_count'] = df.borrower_genders.str.count('male') # counts all genders\n",
    "df['one_gender'] = np.where(df['female_count']>=(0.5*df['total_gender_count']), \n",
    "                                           'female', 'male') #assigned 'female' if female lenders make up 50% or more of the group"
   ]
  },
  {
   "cell_type": "code",
   "execution_count": 20,
   "metadata": {},
   "outputs": [],
   "source": [
    "# single true/false variable of whether the borrower is pictured\n",
    "df['pictured'] = np.where(df['borrower_pictured'].str.contains(\"true\", case=False, na=False), 'true', 'false')"
   ]
  },
  {
   "cell_type": "code",
   "execution_count": 21,
   "metadata": {},
   "outputs": [],
   "source": [
    "# getting rid of other columns that do not predictive purpose\n",
    "lp = df.drop(['loan_id', 'loan_name','funded_amount','status','loan_use','currency_policy','borrower_pictured','posted_time','planned_expiration_time','disburse_time','raised_time','borrower_names','borrower_genders','borrower_pictured'], axis=1)"
   ]
  },
  {
   "cell_type": "code",
   "execution_count": 22,
   "metadata": {},
   "outputs": [],
   "source": [
    "# ONE HOT ENCODE ALL THE THINGS\n",
    "lp_dummies = pd.concat([lp.drop(['currency'], axis=1), pd.get_dummies(lp['currency'])], axis=1)"
   ]
  },
  {
   "cell_type": "code",
   "execution_count": 23,
   "metadata": {},
   "outputs": [],
   "source": [
    "lp_dummies = pd.concat([lp_dummies.drop(['original_language'], axis=1), pd.get_dummies(lp_dummies['original_language'])], axis=1)"
   ]
  },
  {
   "cell_type": "code",
   "execution_count": 24,
   "metadata": {},
   "outputs": [],
   "source": [
    "lp_dummies = pd.concat([lp_dummies.drop(['activity_name'], axis=1), pd.get_dummies(lp_dummies['activity_name'])], axis=1)"
   ]
  },
  {
   "cell_type": "code",
   "execution_count": 25,
   "metadata": {},
   "outputs": [],
   "source": [
    "lp_dummies = pd.concat([lp_dummies.drop(['sector_name'], axis=1), pd.get_dummies(lp_dummies['sector_name'])], axis=1)"
   ]
  },
  {
   "cell_type": "code",
   "execution_count": 26,
   "metadata": {},
   "outputs": [],
   "source": [
    "lp_dummies = pd.concat([lp_dummies.drop(['country_name'], axis=1), pd.get_dummies(lp_dummies['country_name'])], axis=1)"
   ]
  },
  {
   "cell_type": "code",
   "execution_count": 27,
   "metadata": {},
   "outputs": [],
   "source": [
    "lp_dummies = pd.concat([lp_dummies.drop(['repayment_interval'], axis=1), pd.get_dummies(lp_dummies['repayment_interval'])], axis=1)"
   ]
  },
  {
   "cell_type": "code",
   "execution_count": 28,
   "metadata": {},
   "outputs": [],
   "source": [
    "lp_dummies = pd.concat([lp_dummies.drop(['distribution_model'], axis=1), pd.get_dummies(lp_dummies['distribution_model'])], axis=1)"
   ]
  },
  {
   "cell_type": "code",
   "execution_count": 29,
   "metadata": {},
   "outputs": [],
   "source": [
    "lp_dummies = pd.concat([lp_dummies.drop(['one_gender'], axis=1), pd.get_dummies(lp_dummies['one_gender'])], axis=1)"
   ]
  },
  {
   "cell_type": "code",
   "execution_count": 30,
   "metadata": {},
   "outputs": [],
   "source": [
    "lp_dummies = pd.concat([lp_dummies.drop(['pictured'], axis=1), pd.get_dummies(lp_dummies['pictured'])], axis=1)"
   ]
  },
  {
   "cell_type": "code",
   "execution_count": 31,
   "metadata": {},
   "outputs": [
    {
     "data": {
      "text/html": [
       "<div>\n",
       "<style scoped>\n",
       "    .dataframe tbody tr th:only-of-type {\n",
       "        vertical-align: middle;\n",
       "    }\n",
       "\n",
       "    .dataframe tbody tr th {\n",
       "        vertical-align: top;\n",
       "    }\n",
       "\n",
       "    .dataframe thead th {\n",
       "        text-align: right;\n",
       "    }\n",
       "</style>\n",
       "<table border=\"1\" class=\"dataframe\">\n",
       "  <thead>\n",
       "    <tr style=\"text-align: right;\">\n",
       "      <th></th>\n",
       "      <th>loan_amount</th>\n",
       "      <th>currency_exchange_coverage_rate</th>\n",
       "      <th>partner_id</th>\n",
       "      <th>lender_term</th>\n",
       "      <th>num_lenders_total</th>\n",
       "      <th>num_journal_entries</th>\n",
       "      <th>num_bulk_entries</th>\n",
       "      <th>status_num</th>\n",
       "      <th>female_count</th>\n",
       "      <th>total_gender_count</th>\n",
       "      <th>...</th>\n",
       "      <th>bullet</th>\n",
       "      <th>irregular</th>\n",
       "      <th>monthly</th>\n",
       "      <th>weekly</th>\n",
       "      <th>direct</th>\n",
       "      <th>field_partner</th>\n",
       "      <th>female</th>\n",
       "      <th>male</th>\n",
       "      <th>false</th>\n",
       "      <th>true</th>\n",
       "    </tr>\n",
       "  </thead>\n",
       "  <tbody>\n",
       "    <tr>\n",
       "      <th>0</th>\n",
       "      <td>125.0</td>\n",
       "      <td>0.1</td>\n",
       "      <td>126.0</td>\n",
       "      <td>7.0</td>\n",
       "      <td>3</td>\n",
       "      <td>2</td>\n",
       "      <td>1</td>\n",
       "      <td>1</td>\n",
       "      <td>1.0</td>\n",
       "      <td>1.0</td>\n",
       "      <td>...</td>\n",
       "      <td>0</td>\n",
       "      <td>1</td>\n",
       "      <td>0</td>\n",
       "      <td>0</td>\n",
       "      <td>0</td>\n",
       "      <td>1</td>\n",
       "      <td>1</td>\n",
       "      <td>0</td>\n",
       "      <td>0</td>\n",
       "      <td>1</td>\n",
       "    </tr>\n",
       "    <tr>\n",
       "      <th>1</th>\n",
       "      <td>400.0</td>\n",
       "      <td>0.1</td>\n",
       "      <td>201.0</td>\n",
       "      <td>8.0</td>\n",
       "      <td>11</td>\n",
       "      <td>2</td>\n",
       "      <td>1</td>\n",
       "      <td>1</td>\n",
       "      <td>1.0</td>\n",
       "      <td>1.0</td>\n",
       "      <td>...</td>\n",
       "      <td>0</td>\n",
       "      <td>0</td>\n",
       "      <td>1</td>\n",
       "      <td>0</td>\n",
       "      <td>0</td>\n",
       "      <td>1</td>\n",
       "      <td>1</td>\n",
       "      <td>0</td>\n",
       "      <td>0</td>\n",
       "      <td>1</td>\n",
       "    </tr>\n",
       "  </tbody>\n",
       "</table>\n",
       "<p>2 rows × 377 columns</p>\n",
       "</div>"
      ],
      "text/plain": [
       "   loan_amount  currency_exchange_coverage_rate  partner_id  lender_term  \\\n",
       "0        125.0                              0.1       126.0          7.0   \n",
       "1        400.0                              0.1       201.0          8.0   \n",
       "\n",
       "   num_lenders_total  num_journal_entries  num_bulk_entries  status_num  \\\n",
       "0                  3                    2                 1           1   \n",
       "1                 11                    2                 1           1   \n",
       "\n",
       "   female_count  total_gender_count  ...   bullet  irregular  monthly  weekly  \\\n",
       "0           1.0                 1.0  ...        0          1        0       0   \n",
       "1           1.0                 1.0  ...        0          0        1       0   \n",
       "\n",
       "   direct  field_partner  female  male  false  true  \n",
       "0       0              1       1     0      0     1  \n",
       "1       0              1       1     0      0     1  \n",
       "\n",
       "[2 rows x 377 columns]"
      ]
     },
     "execution_count": 31,
     "metadata": {},
     "output_type": "execute_result"
    }
   ],
   "source": [
    "lp_dummies.head(2)"
   ]
  },
  {
   "cell_type": "code",
   "execution_count": 32,
   "metadata": {},
   "outputs": [],
   "source": [
    "# drop NA values\n",
    "lp_dummies2 = lp_dummies.dropna()"
   ]
  },
  {
   "cell_type": "code",
   "execution_count": 33,
   "metadata": {},
   "outputs": [],
   "source": [
    "# READY FOR SOME MACHINE LEARNING\n",
    "from sklearn.model_selection import train_test_split\n",
    "from sklearn.linear_model import LogisticRegression\n",
    "from sklearn import metrics \n",
    "from sklearn.metrics import recall_score\n",
    "from sklearn.metrics import classification_report"
   ]
  },
  {
   "cell_type": "code",
   "execution_count": 34,
   "metadata": {},
   "outputs": [],
   "source": [
    "# feature set\n",
    "X = lp_dummies2.loc[:, lp_dummies2.columns != 'status_num']"
   ]
  },
  {
   "cell_type": "code",
   "execution_count": 35,
   "metadata": {},
   "outputs": [],
   "source": [
    "# target variable\n",
    "y = lp_dummies2.status_num"
   ]
  },
  {
   "cell_type": "code",
   "execution_count": 36,
   "metadata": {},
   "outputs": [
    {
     "name": "stdout",
     "output_type": "stream",
     "text": [
      "(745707, 376) (745707,)\n",
      "(319589, 376) (319589,)\n"
     ]
    }
   ],
   "source": [
    "# train test split\n",
    "X_train, X_test, y_train, y_test = train_test_split(X, y, test_size=0.3)\n",
    "print (X_train.shape, y_train.shape)\n",
    "print (X_test.shape, y_test.shape)"
   ]
  },
  {
   "cell_type": "markdown",
   "metadata": {},
   "source": [
    "<h2> Logistic regression </h2>"
   ]
  },
  {
   "cell_type": "code",
   "execution_count": 37,
   "metadata": {},
   "outputs": [
    {
     "data": {
      "text/plain": [
       "LogisticRegression(C=1.0, class_weight=None, dual=False, fit_intercept=True,\n",
       "          intercept_scaling=1, max_iter=100, multi_class='ovr', n_jobs=1,\n",
       "          penalty='l2', random_state=None, solver='liblinear', tol=0.0001,\n",
       "          verbose=0, warm_start=False)"
      ]
     },
     "execution_count": 37,
     "metadata": {},
     "output_type": "execute_result"
    }
   ],
   "source": [
    "LogReg = LogisticRegression()\n",
    "LogReg.fit(X_train, y_train)"
   ]
  },
  {
   "cell_type": "code",
   "execution_count": 38,
   "metadata": {},
   "outputs": [],
   "source": [
    "y_pred = LogReg.predict(X_test)"
   ]
  },
  {
   "cell_type": "code",
   "execution_count": 39,
   "metadata": {},
   "outputs": [
    {
     "data": {
      "text/plain": [
       "array([[  5968,  10066],\n",
       "       [  1420, 302135]])"
      ]
     },
     "execution_count": 39,
     "metadata": {},
     "output_type": "execute_result"
    }
   ],
   "source": [
    "from sklearn.metrics import confusion_matrix\n",
    "confusion_matrix = confusion_matrix(y_test, y_pred)\n",
    "confusion_matrix"
   ]
  },
  {
   "cell_type": "code",
   "execution_count": 40,
   "metadata": {},
   "outputs": [
    {
     "name": "stdout",
     "output_type": "stream",
     "text": [
      "             precision    recall  f1-score   support\n",
      "\n",
      "          0       0.81      0.37      0.51     16034\n",
      "          1       0.97      1.00      0.98    303555\n",
      "\n",
      "avg / total       0.96      0.96      0.96    319589\n",
      "\n"
     ]
    }
   ],
   "source": [
    "print(classification_report(y_test, y_pred))"
   ]
  },
  {
   "cell_type": "markdown",
   "metadata": {},
   "source": [
    "This model is good at determining if a loan will be funded, but not good at determining which loans will not fund. this is very likely to the class imbalance issue mentioned earlier.  \n",
    "\n",
    "The model correctly identifies 40% of all expired loans as \"not funded\" "
   ]
  },
  {
   "cell_type": "markdown",
   "metadata": {},
   "source": [
    "<h3> any way to get feature importance? </h3> not really"
   ]
  },
  {
   "cell_type": "markdown",
   "metadata": {},
   "source": [
    "<h3> Random Forest </h3>"
   ]
  },
  {
   "cell_type": "code",
   "execution_count": 41,
   "metadata": {},
   "outputs": [
    {
     "data": {
      "text/plain": [
       "RandomForestClassifier(bootstrap=True, class_weight=None, criterion='gini',\n",
       "            max_depth=None, max_features='auto', max_leaf_nodes=None,\n",
       "            min_impurity_decrease=0.0, min_impurity_split=None,\n",
       "            min_samples_leaf=1, min_samples_split=2,\n",
       "            min_weight_fraction_leaf=0.0, n_estimators=100, n_jobs=1,\n",
       "            oob_score=True, random_state=123456, verbose=0,\n",
       "            warm_start=False)"
      ]
     },
     "execution_count": 41,
     "metadata": {},
     "output_type": "execute_result"
    }
   ],
   "source": [
    "\n",
    "from sklearn.ensemble import RandomForestClassifier\n",
    "rf = RandomForestClassifier(n_estimators=100, oob_score=True, random_state=123456)\n",
    "rf.fit(X_train, y_train)"
   ]
  },
  {
   "cell_type": "code",
   "execution_count": 42,
   "metadata": {},
   "outputs": [
    {
     "name": "stdout",
     "output_type": "stream",
     "text": [
      "Out-of-bag score estimate: 0.973\n",
      "Mean accuracy score: 0.974\n"
     ]
    }
   ],
   "source": [
    "from sklearn.metrics import accuracy_score\n",
    "predicted = rf.predict(X_test)\n",
    "accuracy = accuracy_score(y_test, predicted)\n",
    "print(f'Out-of-bag score estimate: {rf.oob_score_:.3}')\n",
    "print(f'Mean accuracy score: {accuracy:.3}')"
   ]
  },
  {
   "cell_type": "code",
   "execution_count": 43,
   "metadata": {},
   "outputs": [
    {
     "name": "stdout",
     "output_type": "stream",
     "text": [
      "             precision    recall  f1-score   support\n",
      "\n",
      "          0       0.80      0.63      0.71     16034\n",
      "          1       0.98      0.99      0.99    303555\n",
      "\n",
      "avg / total       0.97      0.97      0.97    319589\n",
      "\n"
     ]
    }
   ],
   "source": [
    "print(classification_report(y_test, predicted))"
   ]
  },
  {
   "cell_type": "markdown",
   "metadata": {},
   "source": [
    "The model correctly identifies 62% of all expired loans as \"not funded\""
   ]
  },
  {
   "cell_type": "code",
   "execution_count": 44,
   "metadata": {},
   "outputs": [],
   "source": [
    "feature_importances = pd.DataFrame(rf.feature_importances_,\n",
    "                                   index = X_train.columns,\n",
    "                                    columns=['importance']).sort_values('importance',ascending=False)"
   ]
  },
  {
   "cell_type": "code",
   "execution_count": 45,
   "metadata": {},
   "outputs": [
    {
     "data": {
      "text/html": [
       "<div>\n",
       "<style scoped>\n",
       "    .dataframe tbody tr th:only-of-type {\n",
       "        vertical-align: middle;\n",
       "    }\n",
       "\n",
       "    .dataframe tbody tr th {\n",
       "        vertical-align: top;\n",
       "    }\n",
       "\n",
       "    .dataframe thead th {\n",
       "        text-align: right;\n",
       "    }\n",
       "</style>\n",
       "<table border=\"1\" class=\"dataframe\">\n",
       "  <thead>\n",
       "    <tr style=\"text-align: right;\">\n",
       "      <th></th>\n",
       "      <th>importance</th>\n",
       "    </tr>\n",
       "  </thead>\n",
       "  <tbody>\n",
       "    <tr>\n",
       "      <th>num_lenders_total</th>\n",
       "      <td>3.360063e-01</td>\n",
       "    </tr>\n",
       "    <tr>\n",
       "      <th>loan_amount</th>\n",
       "      <td>2.250238e-01</td>\n",
       "    </tr>\n",
       "    <tr>\n",
       "      <th>lender_term</th>\n",
       "      <td>9.079882e-02</td>\n",
       "    </tr>\n",
       "    <tr>\n",
       "      <th>num_journal_entries</th>\n",
       "      <td>4.483235e-02</td>\n",
       "    </tr>\n",
       "    <tr>\n",
       "      <th>partner_id</th>\n",
       "      <td>3.458688e-02</td>\n",
       "    </tr>\n",
       "    <tr>\n",
       "      <th>female_count</th>\n",
       "      <td>1.776936e-02</td>\n",
       "    </tr>\n",
       "    <tr>\n",
       "      <th>total_gender_count</th>\n",
       "      <td>1.388052e-02</td>\n",
       "    </tr>\n",
       "    <tr>\n",
       "      <th>currency_exchange_coverage_rate</th>\n",
       "      <td>1.144534e-02</td>\n",
       "    </tr>\n",
       "    <tr>\n",
       "      <th>male</th>\n",
       "      <td>8.434157e-03</td>\n",
       "    </tr>\n",
       "    <tr>\n",
       "      <th>female</th>\n",
       "      <td>7.800972e-03</td>\n",
       "    </tr>\n",
       "    <tr>\n",
       "      <th>num_bulk_entries</th>\n",
       "      <td>7.420291e-03</td>\n",
       "    </tr>\n",
       "    <tr>\n",
       "      <th>El Salvador</th>\n",
       "      <td>6.600428e-03</td>\n",
       "    </tr>\n",
       "    <tr>\n",
       "      <th>Retail</th>\n",
       "      <td>5.361923e-03</td>\n",
       "    </tr>\n",
       "    <tr>\n",
       "      <th>irregular</th>\n",
       "      <td>4.646716e-03</td>\n",
       "    </tr>\n",
       "    <tr>\n",
       "      <th>monthly</th>\n",
       "      <td>4.530461e-03</td>\n",
       "    </tr>\n",
       "    <tr>\n",
       "      <th>USD</th>\n",
       "      <td>4.027354e-03</td>\n",
       "    </tr>\n",
       "    <tr>\n",
       "      <th>Agriculture</th>\n",
       "      <td>3.963288e-03</td>\n",
       "    </tr>\n",
       "    <tr>\n",
       "      <th>Colombia</th>\n",
       "      <td>3.497257e-03</td>\n",
       "    </tr>\n",
       "    <tr>\n",
       "      <th>Food</th>\n",
       "      <td>3.480147e-03</td>\n",
       "    </tr>\n",
       "    <tr>\n",
       "      <th>Farming</th>\n",
       "      <td>3.390956e-03</td>\n",
       "    </tr>\n",
       "    <tr>\n",
       "      <th>Armenia</th>\n",
       "      <td>3.247631e-03</td>\n",
       "    </tr>\n",
       "    <tr>\n",
       "      <th>General Store</th>\n",
       "      <td>3.142660e-03</td>\n",
       "    </tr>\n",
       "    <tr>\n",
       "      <th>Spanish</th>\n",
       "      <td>2.994439e-03</td>\n",
       "    </tr>\n",
       "    <tr>\n",
       "      <th>COP</th>\n",
       "      <td>2.935639e-03</td>\n",
       "    </tr>\n",
       "    <tr>\n",
       "      <th>English</th>\n",
       "      <td>2.925937e-03</td>\n",
       "    </tr>\n",
       "    <tr>\n",
       "      <th>Retail</th>\n",
       "      <td>2.816001e-03</td>\n",
       "    </tr>\n",
       "    <tr>\n",
       "      <th>bullet</th>\n",
       "      <td>2.638806e-03</td>\n",
       "    </tr>\n",
       "    <tr>\n",
       "      <th>Education</th>\n",
       "      <td>2.593739e-03</td>\n",
       "    </tr>\n",
       "    <tr>\n",
       "      <th>Personal Housing Expenses</th>\n",
       "      <td>2.581502e-03</td>\n",
       "    </tr>\n",
       "    <tr>\n",
       "      <th>Housing</th>\n",
       "      <td>2.581475e-03</td>\n",
       "    </tr>\n",
       "    <tr>\n",
       "      <th>...</th>\n",
       "      <td>...</td>\n",
       "    </tr>\n",
       "    <tr>\n",
       "      <th>Mauritania</th>\n",
       "      <td>1.192970e-09</td>\n",
       "    </tr>\n",
       "    <tr>\n",
       "      <th>Vietnamese</th>\n",
       "      <td>4.697211e-10</td>\n",
       "    </tr>\n",
       "    <tr>\n",
       "      <th>BAM</th>\n",
       "      <td>3.711668e-10</td>\n",
       "    </tr>\n",
       "    <tr>\n",
       "      <th>Puerto Rico</th>\n",
       "      <td>0.000000e+00</td>\n",
       "    </tr>\n",
       "    <tr>\n",
       "      <th>Bosnia and Herzegovina</th>\n",
       "      <td>0.000000e+00</td>\n",
       "    </tr>\n",
       "    <tr>\n",
       "      <th>Bhutan</th>\n",
       "      <td>0.000000e+00</td>\n",
       "    </tr>\n",
       "    <tr>\n",
       "      <th>BGN</th>\n",
       "      <td>0.000000e+00</td>\n",
       "    </tr>\n",
       "    <tr>\n",
       "      <th>field_partner</th>\n",
       "      <td>0.000000e+00</td>\n",
       "    </tr>\n",
       "    <tr>\n",
       "      <th>Afghanistan</th>\n",
       "      <td>0.000000e+00</td>\n",
       "    </tr>\n",
       "    <tr>\n",
       "      <th>weekly</th>\n",
       "      <td>0.000000e+00</td>\n",
       "    </tr>\n",
       "    <tr>\n",
       "      <th>direct</th>\n",
       "      <td>0.000000e+00</td>\n",
       "    </tr>\n",
       "    <tr>\n",
       "      <th>Virgin Islands</th>\n",
       "      <td>0.000000e+00</td>\n",
       "    </tr>\n",
       "    <tr>\n",
       "      <th>AFN</th>\n",
       "      <td>0.000000e+00</td>\n",
       "    </tr>\n",
       "    <tr>\n",
       "      <th>false</th>\n",
       "      <td>0.000000e+00</td>\n",
       "    </tr>\n",
       "    <tr>\n",
       "      <th>Botswana</th>\n",
       "      <td>0.000000e+00</td>\n",
       "    </tr>\n",
       "    <tr>\n",
       "      <th>IQD</th>\n",
       "      <td>0.000000e+00</td>\n",
       "    </tr>\n",
       "    <tr>\n",
       "      <th>Bulgaria</th>\n",
       "      <td>0.000000e+00</td>\n",
       "    </tr>\n",
       "    <tr>\n",
       "      <th>Vanuatu</th>\n",
       "      <td>0.000000e+00</td>\n",
       "    </tr>\n",
       "    <tr>\n",
       "      <th>Uruguay</th>\n",
       "      <td>0.000000e+00</td>\n",
       "    </tr>\n",
       "    <tr>\n",
       "      <th>Canada</th>\n",
       "      <td>0.000000e+00</td>\n",
       "    </tr>\n",
       "    <tr>\n",
       "      <th>Chad</th>\n",
       "      <td>0.000000e+00</td>\n",
       "    </tr>\n",
       "    <tr>\n",
       "      <th>VUV</th>\n",
       "      <td>0.000000e+00</td>\n",
       "    </tr>\n",
       "    <tr>\n",
       "      <th>Timor-Leste</th>\n",
       "      <td>0.000000e+00</td>\n",
       "    </tr>\n",
       "    <tr>\n",
       "      <th>Gaza</th>\n",
       "      <td>0.000000e+00</td>\n",
       "    </tr>\n",
       "    <tr>\n",
       "      <th>Guam</th>\n",
       "      <td>0.000000e+00</td>\n",
       "    </tr>\n",
       "    <tr>\n",
       "      <th>CDF</th>\n",
       "      <td>0.000000e+00</td>\n",
       "    </tr>\n",
       "    <tr>\n",
       "      <th>ZWD</th>\n",
       "      <td>0.000000e+00</td>\n",
       "    </tr>\n",
       "    <tr>\n",
       "      <th>Indonesian</th>\n",
       "      <td>0.000000e+00</td>\n",
       "    </tr>\n",
       "    <tr>\n",
       "      <th>Adult Care</th>\n",
       "      <td>0.000000e+00</td>\n",
       "    </tr>\n",
       "    <tr>\n",
       "      <th>true</th>\n",
       "      <td>0.000000e+00</td>\n",
       "    </tr>\n",
       "  </tbody>\n",
       "</table>\n",
       "<p>376 rows × 1 columns</p>\n",
       "</div>"
      ],
      "text/plain": [
       "                                   importance\n",
       "num_lenders_total                3.360063e-01\n",
       "loan_amount                      2.250238e-01\n",
       "lender_term                      9.079882e-02\n",
       "num_journal_entries              4.483235e-02\n",
       "partner_id                       3.458688e-02\n",
       "female_count                     1.776936e-02\n",
       "total_gender_count               1.388052e-02\n",
       "currency_exchange_coverage_rate  1.144534e-02\n",
       "male                             8.434157e-03\n",
       "female                           7.800972e-03\n",
       "num_bulk_entries                 7.420291e-03\n",
       "El Salvador                      6.600428e-03\n",
       "Retail                           5.361923e-03\n",
       "irregular                        4.646716e-03\n",
       "monthly                          4.530461e-03\n",
       "USD                              4.027354e-03\n",
       "Agriculture                      3.963288e-03\n",
       "Colombia                         3.497257e-03\n",
       "Food                             3.480147e-03\n",
       "Farming                          3.390956e-03\n",
       "Armenia                          3.247631e-03\n",
       "General Store                    3.142660e-03\n",
       "Spanish                          2.994439e-03\n",
       "COP                              2.935639e-03\n",
       "English                          2.925937e-03\n",
       "Retail                           2.816001e-03\n",
       "bullet                           2.638806e-03\n",
       "Education                        2.593739e-03\n",
       "Personal Housing Expenses        2.581502e-03\n",
       "Housing                          2.581475e-03\n",
       "...                                       ...\n",
       "Mauritania                       1.192970e-09\n",
       "Vietnamese                       4.697211e-10\n",
       "BAM                              3.711668e-10\n",
       "Puerto Rico                      0.000000e+00\n",
       "Bosnia and Herzegovina           0.000000e+00\n",
       "Bhutan                           0.000000e+00\n",
       "BGN                              0.000000e+00\n",
       "field_partner                    0.000000e+00\n",
       "Afghanistan                      0.000000e+00\n",
       "weekly                           0.000000e+00\n",
       "direct                           0.000000e+00\n",
       "Virgin Islands                   0.000000e+00\n",
       "AFN                              0.000000e+00\n",
       "false                            0.000000e+00\n",
       "Botswana                         0.000000e+00\n",
       "IQD                              0.000000e+00\n",
       "Bulgaria                         0.000000e+00\n",
       "Vanuatu                          0.000000e+00\n",
       "Uruguay                          0.000000e+00\n",
       "Canada                           0.000000e+00\n",
       "Chad                             0.000000e+00\n",
       "VUV                              0.000000e+00\n",
       "Timor-Leste                      0.000000e+00\n",
       "Gaza                             0.000000e+00\n",
       "Guam                             0.000000e+00\n",
       "CDF                              0.000000e+00\n",
       "ZWD                              0.000000e+00\n",
       "Indonesian                       0.000000e+00\n",
       "Adult Care                       0.000000e+00\n",
       "true                             0.000000e+00\n",
       "\n",
       "[376 rows x 1 columns]"
      ]
     },
     "execution_count": 45,
     "metadata": {},
     "output_type": "execute_result"
    }
   ],
   "source": [
    "feature_importances"
   ]
  },
  {
   "cell_type": "markdown",
   "metadata": {},
   "source": [
    "<h2> Conclusion </h2> \n",
    "What does this mean for the client? \n",
    "How will this change the business?\n",
    "Optional: Monetary measurements to quantify and/or social impact analysis\n",
    "(Largely be dictated by feature importance) "
   ]
  },
  {
   "cell_type": "code",
   "execution_count": null,
   "metadata": {},
   "outputs": [],
   "source": []
  }
 ],
 "metadata": {
  "kernelspec": {
   "display_name": "Python 3",
   "language": "python",
   "name": "python3"
  },
  "language_info": {
   "codemirror_mode": {
    "name": "ipython",
    "version": 3
   },
   "file_extension": ".py",
   "mimetype": "text/x-python",
   "name": "python",
   "nbconvert_exporter": "python",
   "pygments_lexer": "ipython3",
   "version": "3.6.4"
  }
 },
 "nbformat": 4,
 "nbformat_minor": 2
}
