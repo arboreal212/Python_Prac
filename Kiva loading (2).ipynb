{
 "cells": [
  {
   "cell_type": "code",
   "execution_count": null,
   "metadata": {},
   "outputs": [],
   "source": [
    "import pandas as pd\n",
    "import numpy as np\n",
    "import matplotlib.pylab as plt\n",
    "import seaborn as sns\n",
    "%matplotlib inline\n",
    "from matplotlib.pylab import rcParams"
   ]
  },
  {
   "cell_type": "code",
   "execution_count": null,
   "metadata": {},
   "outputs": [],
   "source": [
    "lenders = pd.read_csv('lenders.csv')\n",
    "lenders.head()"
   ]
  },
  {
   "cell_type": "code",
   "execution_count": 35,
   "metadata": {},
   "outputs": [
    {
     "data": {
      "text/plain": [
       "PERMANENT_NAME             0\n",
       "DISPLAY_NAME            2768\n",
       "MAIN_PIC_ID          1590116\n",
       "CITY                 1619306\n",
       "STATE                1713481\n",
       "COUNTRY_CODE         1458635\n",
       "MEMBER_SINCE               0\n",
       "PERSONAL_URL         2189805\n",
       "OCCUPATION           1844514\n",
       "LOAN_BECAUSE         2174852\n",
       "OTHER_INFO           2154640\n",
       "LOAN_PURCHASE_NUM     894281\n",
       "INVITED_BY           1852349\n",
       "NUM_INVITED                0\n",
       "dtype: int64"
      ]
     },
     "execution_count": 35,
     "metadata": {},
     "output_type": "execute_result"
    }
   ],
   "source": [
    "lenders.isnull().sum()"
   ]
  },
  {
   "cell_type": "code",
   "execution_count": 36,
   "metadata": {},
   "outputs": [
    {
     "data": {
      "text/plain": [
       "PERMANENT_NAME       0.000000\n",
       "DISPLAY_NAME         0.001178\n",
       "MAIN_PIC_ID          0.676883\n",
       "CITY                 0.689309\n",
       "STATE                0.729397\n",
       "COUNTRY_CODE         0.620914\n",
       "MEMBER_SINCE         0.000000\n",
       "PERSONAL_URL         0.932160\n",
       "OCCUPATION           0.785176\n",
       "LOAN_BECAUSE         0.925794\n",
       "OTHER_INFO           0.917190\n",
       "LOAN_PURCHASE_NUM    0.380679\n",
       "INVITED_BY           0.788511\n",
       "NUM_INVITED          0.000000\n",
       "dtype: float64"
      ]
     },
     "execution_count": 36,
     "metadata": {},
     "output_type": "execute_result"
    }
   ],
   "source": [
    "lenders.isnull().sum()/lenders.shape[0]"
   ]
  },
  {
   "cell_type": "markdown",
   "metadata": {},
   "source": [
    "<ul> <b> Key Observations : </b>\n",
    "    <li> How many loans has each lender funded <b> (38% missing) </b> </li> (null or 0 funded?)\n",
    "  <li> What country are they from? <b> (62% missing) </b>. It would have been nice to see the flow of capital across countries if we had more data. </li>\n",
    "  <li>How many people has each lender referred to Kiva? <b> (0% missing) </b> </li>\n",
    "  <li> Invited by contains the full name of a person who referred the current lender <b> (78% missing)</b> </li>\n",
    "</ul>"
   ]
  },
  {
   "cell_type": "markdown",
   "metadata": {},
   "source": [
    "<h3> Next we move on to see which lenders have funded each loan </h3>"
   ]
  },
  {
   "cell_type": "code",
   "execution_count": 37,
   "metadata": {},
   "outputs": [],
   "source": [
    "ll = pd.read_csv('loans_lenders.csv')"
   ]
  },
  {
   "cell_type": "code",
   "execution_count": 38,
   "metadata": {},
   "outputs": [
    {
     "data": {
      "text/html": [
       "<div>\n",
       "<style scoped>\n",
       "    .dataframe tbody tr th:only-of-type {\n",
       "        vertical-align: middle;\n",
       "    }\n",
       "\n",
       "    .dataframe tbody tr th {\n",
       "        vertical-align: top;\n",
       "    }\n",
       "\n",
       "    .dataframe thead th {\n",
       "        text-align: right;\n",
       "    }\n",
       "</style>\n",
       "<table border=\"1\" class=\"dataframe\">\n",
       "  <thead>\n",
       "    <tr style=\"text-align: right;\">\n",
       "      <th></th>\n",
       "      <th>LOAN_ID</th>\n",
       "      <th>LENDERS</th>\n",
       "    </tr>\n",
       "  </thead>\n",
       "  <tbody>\n",
       "    <tr>\n",
       "      <th>0</th>\n",
       "      <td>483693</td>\n",
       "      <td>muc888, sam4326, camaran3922, lachheb1865, reb...</td>\n",
       "    </tr>\n",
       "    <tr>\n",
       "      <th>1</th>\n",
       "      <td>483738</td>\n",
       "      <td>muc888, nora3555, williammanashi, barbara5610,...</td>\n",
       "    </tr>\n",
       "    <tr>\n",
       "      <th>2</th>\n",
       "      <td>485000</td>\n",
       "      <td>muc888, terrystl, richardandsusan8352, sherri4...</td>\n",
       "    </tr>\n",
       "    <tr>\n",
       "      <th>3</th>\n",
       "      <td>486087</td>\n",
       "      <td>muc888, james5068, rudi5955, daniel9859, don92...</td>\n",
       "    </tr>\n",
       "    <tr>\n",
       "      <th>4</th>\n",
       "      <td>534428</td>\n",
       "      <td>muc888, niki3008, teresa9174, mike4896, david7...</td>\n",
       "    </tr>\n",
       "  </tbody>\n",
       "</table>\n",
       "</div>"
      ],
      "text/plain": [
       "   LOAN_ID                                            LENDERS\n",
       "0   483693  muc888, sam4326, camaran3922, lachheb1865, reb...\n",
       "1   483738  muc888, nora3555, williammanashi, barbara5610,...\n",
       "2   485000  muc888, terrystl, richardandsusan8352, sherri4...\n",
       "3   486087  muc888, james5068, rudi5955, daniel9859, don92...\n",
       "4   534428  muc888, niki3008, teresa9174, mike4896, david7..."
      ]
     },
     "execution_count": 38,
     "metadata": {},
     "output_type": "execute_result"
    }
   ],
   "source": [
    "ll.head()"
   ]
  },
  {
   "cell_type": "code",
   "execution_count": 39,
   "metadata": {},
   "outputs": [],
   "source": [
    "ll['num_lenders']=ll['LENDERS'].str.split(',').apply(len)"
   ]
  },
  {
   "cell_type": "code",
   "execution_count": 40,
   "metadata": {},
   "outputs": [
    {
     "data": {
      "text/html": [
       "<div>\n",
       "<style scoped>\n",
       "    .dataframe tbody tr th:only-of-type {\n",
       "        vertical-align: middle;\n",
       "    }\n",
       "\n",
       "    .dataframe tbody tr th {\n",
       "        vertical-align: top;\n",
       "    }\n",
       "\n",
       "    .dataframe thead th {\n",
       "        text-align: right;\n",
       "    }\n",
       "</style>\n",
       "<table border=\"1\" class=\"dataframe\">\n",
       "  <thead>\n",
       "    <tr style=\"text-align: right;\">\n",
       "      <th></th>\n",
       "      <th>LOAN_ID</th>\n",
       "      <th>LENDERS</th>\n",
       "      <th>num_lenders</th>\n",
       "    </tr>\n",
       "  </thead>\n",
       "  <tbody>\n",
       "    <tr>\n",
       "      <th>0</th>\n",
       "      <td>483693</td>\n",
       "      <td>muc888, sam4326, camaran3922, lachheb1865, reb...</td>\n",
       "      <td>40</td>\n",
       "    </tr>\n",
       "    <tr>\n",
       "      <th>1</th>\n",
       "      <td>483738</td>\n",
       "      <td>muc888, nora3555, williammanashi, barbara5610,...</td>\n",
       "      <td>15</td>\n",
       "    </tr>\n",
       "    <tr>\n",
       "      <th>2</th>\n",
       "      <td>485000</td>\n",
       "      <td>muc888, terrystl, richardandsusan8352, sherri4...</td>\n",
       "      <td>15</td>\n",
       "    </tr>\n",
       "    <tr>\n",
       "      <th>3</th>\n",
       "      <td>486087</td>\n",
       "      <td>muc888, james5068, rudi5955, daniel9859, don92...</td>\n",
       "      <td>13</td>\n",
       "    </tr>\n",
       "    <tr>\n",
       "      <th>4</th>\n",
       "      <td>534428</td>\n",
       "      <td>muc888, niki3008, teresa9174, mike4896, david7...</td>\n",
       "      <td>19</td>\n",
       "    </tr>\n",
       "  </tbody>\n",
       "</table>\n",
       "</div>"
      ],
      "text/plain": [
       "   LOAN_ID                                            LENDERS  num_lenders\n",
       "0   483693  muc888, sam4326, camaran3922, lachheb1865, reb...           40\n",
       "1   483738  muc888, nora3555, williammanashi, barbara5610,...           15\n",
       "2   485000  muc888, terrystl, richardandsusan8352, sherri4...           15\n",
       "3   486087  muc888, james5068, rudi5955, daniel9859, don92...           13\n",
       "4   534428  muc888, niki3008, teresa9174, mike4896, david7...           19"
      ]
     },
     "execution_count": 40,
     "metadata": {},
     "output_type": "execute_result"
    }
   ],
   "source": [
    "ll.head()"
   ]
  },
  {
   "cell_type": "markdown",
   "metadata": {},
   "source": [
    "We now have the total number of lenders for each loan! "
   ]
  },
  {
   "cell_type": "code",
   "execution_count": 41,
   "metadata": {},
   "outputs": [
    {
     "data": {
      "text/plain": [
       "(array([ 35440.,  78594., 121851., 129825., 127073., 108458.,  94743.,\n",
       "         82799.,  72173.,  62840.,  52798.,  45903.,  40355.,  35947.,\n",
       "         32293.,  29318.,  26721.,  23747.,  19857.,  15798.,  13052.,\n",
       "         10877.,   9384.,   8250.,   7515.,   6840.,   5891.,   5140.,\n",
       "          4715.,   4483.,   4194.,   4002.,   3803.,   3501.,   3214.,\n",
       "          3209.,   2780.,   2693.,   2514.,   2453.,   2337.,   2280.,\n",
       "          2196.,   2013.,   1934.,   1876.,   1676.,   1721.,   1532.,\n",
       "          2166.]),\n",
       " array([  0.,   2.,   4.,   6.,   8.,  10.,  12.,  14.,  16.,  18.,  20.,\n",
       "         22.,  24.,  26.,  28.,  30.,  32.,  34.,  36.,  38.,  40.,  42.,\n",
       "         44.,  46.,  48.,  50.,  52.,  54.,  56.,  58.,  60.,  62.,  64.,\n",
       "         66.,  68.,  70.,  72.,  74.,  76.,  78.,  80.,  82.,  84.,  86.,\n",
       "         88.,  90.,  92.,  94.,  96.,  98., 100.]),\n",
       " <a list of 50 Patch objects>)"
      ]
     },
     "execution_count": 41,
     "metadata": {},
     "output_type": "execute_result"
    },
    {
     "data": {
      "image/png": "[encoded data removed]",
      "text/plain": [
       "<matplotlib.figure.Figure at 0x1a322ae2e8>"
      ]
     },
     "metadata": {},
     "output_type": "display_data"
    }
   ],
   "source": [
    "plt.hist(ll['num_lenders'], range = [0, 100], bins=50)"
   ]
  },
  {
   "cell_type": "code",
   "execution_count": 42,
   "metadata": {},
   "outputs": [
    {
     "name": "stdout",
     "output_type": "stream",
     "text": [
      "The mean number of lenders per loan is  20.39302178413068\n",
      "The median number of lenders per loan is  13.0\n",
      "The max number of lenders per loan is  2888\n",
      "The min number of lenders per loan is  1\n"
     ]
    }
   ],
   "source": [
    "print (\"The mean number of lenders per loan is \", ll.num_lenders.mean())\n",
    "print (\"The median number of lenders per loan is \", ll.num_lenders.median())\n",
    "print (\"The max number of lenders per loan is \", ll.num_lenders.max())\n",
    "print (\"The min number of lenders per loan is \", ll.num_lenders.min())"
   ]
  },
  {
   "cell_type": "markdown",
   "metadata": {},
   "source": [
    "Top 5/10 lenders by country"
   ]
  },
  {
   "cell_type": "markdown",
   "metadata": {},
   "source": [
    "<h4> Next, we load in the big loans file. This contains loan level details on the borrowers. Their names, description, amount requested, amount funded etc </h4>"
   ]
  },
  {
   "cell_type": "code",
   "execution_count": 43,
   "metadata": {},
   "outputs": [],
   "source": [
    "chunksize = 100000\n",
    "chunks = []\n",
    "for chunk in pd.read_csv('loans.csv', chunksize=chunksize, low_memory=False):\n",
    "    chunks.append(chunk)\n",
    "df = pd.concat(chunks, axis=0)"
   ]
  },
  {
   "cell_type": "code",
   "execution_count": 44,
   "metadata": {},
   "outputs": [
    {
     "data": {
      "text/html": [
       "<div>\n",
       "<style scoped>\n",
       "    .dataframe tbody tr th:only-of-type {\n",
       "        vertical-align: middle;\n",
       "    }\n",
       "\n",
       "    .dataframe tbody tr th {\n",
       "        vertical-align: top;\n",
       "    }\n",
       "\n",
       "    .dataframe thead th {\n",
       "        text-align: right;\n",
       "    }\n",
       "</style>\n",
       "<table border=\"1\" class=\"dataframe\">\n",
       "  <thead>\n",
       "    <tr style=\"text-align: right;\">\n",
       "      <th></th>\n",
       "      <th>LOAN_ID</th>\n",
       "      <th>LOAN_NAME</th>\n",
       "      <th>ORIGINAL_LANGUAGE</th>\n",
       "      <th>DESCRIPTION</th>\n",
       "      <th>DESCRIPTION_TRANSLATED</th>\n",
       "      <th>FUNDED_AMOUNT</th>\n",
       "      <th>LOAN_AMOUNT</th>\n",
       "      <th>STATUS</th>\n",
       "      <th>IMAGE_ID</th>\n",
       "      <th>VIDEO_ID</th>\n",
       "      <th>...</th>\n",
       "      <th>LENDER_TERM</th>\n",
       "      <th>NUM_LENDERS_TOTAL</th>\n",
       "      <th>NUM_JOURNAL_ENTRIES</th>\n",
       "      <th>NUM_BULK_ENTRIES</th>\n",
       "      <th>TAGS</th>\n",
       "      <th>BORROWER_NAMES</th>\n",
       "      <th>BORROWER_GENDERS</th>\n",
       "      <th>BORROWER_PICTURED</th>\n",
       "      <th>REPAYMENT_INTERVAL</th>\n",
       "      <th>DISTRIBUTION_MODEL</th>\n",
       "    </tr>\n",
       "  </thead>\n",
       "  <tbody>\n",
       "    <tr>\n",
       "      <th>0</th>\n",
       "      <td>657307</td>\n",
       "      <td>Aivy</td>\n",
       "      <td>English</td>\n",
       "      <td>Aivy, 21 years of age, is single and lives in ...</td>\n",
       "      <td>NaN</td>\n",
       "      <td>125.0</td>\n",
       "      <td>125.0</td>\n",
       "      <td>funded</td>\n",
       "      <td>1511246.0</td>\n",
       "      <td>NaN</td>\n",
       "      <td>...</td>\n",
       "      <td>7.0</td>\n",
       "      <td>3</td>\n",
       "      <td>2</td>\n",
       "      <td>1</td>\n",
       "      <td>NaN</td>\n",
       "      <td>Aivy</td>\n",
       "      <td>female</td>\n",
       "      <td>true</td>\n",
       "      <td>irregular</td>\n",
       "      <td>field_partner</td>\n",
       "    </tr>\n",
       "    <tr>\n",
       "      <th>1</th>\n",
       "      <td>657259</td>\n",
       "      <td>Idalia Marizza</td>\n",
       "      <td>Spanish</td>\n",
       "      <td>Doña Idalia, esta casada, tiene 57 años de eda...</td>\n",
       "      <td>Idalia, 57, is married and lives with her husb...</td>\n",
       "      <td>400.0</td>\n",
       "      <td>400.0</td>\n",
       "      <td>funded</td>\n",
       "      <td>1507947.0</td>\n",
       "      <td>NaN</td>\n",
       "      <td>...</td>\n",
       "      <td>8.0</td>\n",
       "      <td>11</td>\n",
       "      <td>2</td>\n",
       "      <td>1</td>\n",
       "      <td>NaN</td>\n",
       "      <td>Idalia Marizza</td>\n",
       "      <td>female</td>\n",
       "      <td>true</td>\n",
       "      <td>monthly</td>\n",
       "      <td>field_partner</td>\n",
       "    </tr>\n",
       "    <tr>\n",
       "      <th>2</th>\n",
       "      <td>658010</td>\n",
       "      <td>Aasia</td>\n",
       "      <td>English</td>\n",
       "      <td>Aasia is a 45-year-old married lady and she ha...</td>\n",
       "      <td>NaN</td>\n",
       "      <td>400.0</td>\n",
       "      <td>400.0</td>\n",
       "      <td>funded</td>\n",
       "      <td>1512245.0</td>\n",
       "      <td>NaN</td>\n",
       "      <td>...</td>\n",
       "      <td>14.0</td>\n",
       "      <td>16</td>\n",
       "      <td>2</td>\n",
       "      <td>1</td>\n",
       "      <td>#Woman Owned Biz, #Supporting Family, user_fav...</td>\n",
       "      <td>Aasia</td>\n",
       "      <td>female</td>\n",
       "      <td>true</td>\n",
       "      <td>monthly</td>\n",
       "      <td>field_partner</td>\n",
       "    </tr>\n",
       "    <tr>\n",
       "      <th>3</th>\n",
       "      <td>659347</td>\n",
       "      <td>Gulmira</td>\n",
       "      <td>Russian</td>\n",
       "      <td>Гулмире 36 лет, замужем, вместе с супругом вос...</td>\n",
       "      <td>Gulmira is 36 years old and married.  She and ...</td>\n",
       "      <td>625.0</td>\n",
       "      <td>625.0</td>\n",
       "      <td>funded</td>\n",
       "      <td>1514419.0</td>\n",
       "      <td>NaN</td>\n",
       "      <td>...</td>\n",
       "      <td>14.0</td>\n",
       "      <td>21</td>\n",
       "      <td>2</td>\n",
       "      <td>1</td>\n",
       "      <td>user_favorite</td>\n",
       "      <td>Gulmira</td>\n",
       "      <td>female</td>\n",
       "      <td>true</td>\n",
       "      <td>monthly</td>\n",
       "      <td>field_partner</td>\n",
       "    </tr>\n",
       "    <tr>\n",
       "      <th>4</th>\n",
       "      <td>656933</td>\n",
       "      <td>Ricky\\t</td>\n",
       "      <td>English</td>\n",
       "      <td>Ricky is a farmer who currently cultivates his...</td>\n",
       "      <td>NaN</td>\n",
       "      <td>425.0</td>\n",
       "      <td>425.0</td>\n",
       "      <td>funded</td>\n",
       "      <td>1506830.0</td>\n",
       "      <td>NaN</td>\n",
       "      <td>...</td>\n",
       "      <td>7.0</td>\n",
       "      <td>15</td>\n",
       "      <td>2</td>\n",
       "      <td>1</td>\n",
       "      <td>#Animals, #Eco-friendly, #Sustainable Ag</td>\n",
       "      <td>Ricky\\t</td>\n",
       "      <td>male</td>\n",
       "      <td>true</td>\n",
       "      <td>bullet</td>\n",
       "      <td>field_partner</td>\n",
       "    </tr>\n",
       "  </tbody>\n",
       "</table>\n",
       "<p>5 rows × 34 columns</p>\n",
       "</div>"
      ],
      "text/plain": [
       "   LOAN_ID       LOAN_NAME ORIGINAL_LANGUAGE  \\\n",
       "0   657307            Aivy           English   \n",
       "1   657259  Idalia Marizza           Spanish   \n",
       "2   658010           Aasia           English   \n",
       "3   659347         Gulmira           Russian   \n",
       "4   656933         Ricky\\t           English   \n",
       "\n",
       "                                         DESCRIPTION  \\\n",
       "0  Aivy, 21 years of age, is single and lives in ...   \n",
       "1  Doña Idalia, esta casada, tiene 57 años de eda...   \n",
       "2  Aasia is a 45-year-old married lady and she ha...   \n",
       "3  Гулмире 36 лет, замужем, вместе с супругом вос...   \n",
       "4  Ricky is a farmer who currently cultivates his...   \n",
       "\n",
       "                              DESCRIPTION_TRANSLATED  FUNDED_AMOUNT  \\\n",
       "0                                                NaN          125.0   \n",
       "1  Idalia, 57, is married and lives with her husb...          400.0   \n",
       "2                                                NaN          400.0   \n",
       "3  Gulmira is 36 years old and married.  She and ...          625.0   \n",
       "4                                                NaN          425.0   \n",
       "\n",
       "   LOAN_AMOUNT  STATUS   IMAGE_ID  VIDEO_ID         ...         LENDER_TERM  \\\n",
       "0        125.0  funded  1511246.0       NaN         ...                 7.0   \n",
       "1        400.0  funded  1507947.0       NaN         ...                 8.0   \n",
       "2        400.0  funded  1512245.0       NaN         ...                14.0   \n",
       "3        625.0  funded  1514419.0       NaN         ...                14.0   \n",
       "4        425.0  funded  1506830.0       NaN         ...                 7.0   \n",
       "\n",
       "  NUM_LENDERS_TOTAL NUM_JOURNAL_ENTRIES NUM_BULK_ENTRIES  \\\n",
       "0                 3                   2                1   \n",
       "1                11                   2                1   \n",
       "2                16                   2                1   \n",
       "3                21                   2                1   \n",
       "4                15                   2                1   \n",
       "\n",
       "                                                TAGS  BORROWER_NAMES  \\\n",
       "0                                                NaN            Aivy   \n",
       "1                                                NaN  Idalia Marizza   \n",
       "2  #Woman Owned Biz, #Supporting Family, user_fav...           Aasia   \n",
       "3                                      user_favorite         Gulmira   \n",
       "4           #Animals, #Eco-friendly, #Sustainable Ag         Ricky\\t   \n",
       "\n",
       "  BORROWER_GENDERS  BORROWER_PICTURED REPAYMENT_INTERVAL  DISTRIBUTION_MODEL  \n",
       "0           female               true          irregular       field_partner  \n",
       "1           female               true            monthly       field_partner  \n",
       "2           female               true            monthly       field_partner  \n",
       "3           female               true            monthly       field_partner  \n",
       "4             male               true             bullet       field_partner  \n",
       "\n",
       "[5 rows x 34 columns]"
      ]
     },
     "execution_count": 44,
     "metadata": {},
     "output_type": "execute_result"
    }
   ],
   "source": [
    "df.head()"
   ]
  },
  {
   "cell_type": "code",
   "execution_count": 45,
   "metadata": {},
   "outputs": [],
   "source": [
    "lp = df.merge(ll, left_on=\"LOAN_ID\", right_on=\"LOAN_ID\")"
   ]
  },
  {
   "cell_type": "code",
   "execution_count": 46,
   "metadata": {},
   "outputs": [
    {
     "data": {
      "text/plain": [
       "LOAN_ID                            0.000000\n",
       "LOAN_NAME                          0.033894\n",
       "ORIGINAL_LANGUAGE                  0.030805\n",
       "DESCRIPTION                        0.030828\n",
       "DESCRIPTION_TRANSLATED             0.325073\n",
       "FUNDED_AMOUNT                      0.000000\n",
       "LOAN_AMOUNT                        0.000000\n",
       "STATUS                             0.000000\n",
       "IMAGE_ID                           0.030805\n",
       "VIDEO_ID                           0.999568\n",
       "ACTIVITY_NAME                      0.000000\n",
       "SECTOR_NAME                        0.000000\n",
       "LOAN_USE                           0.030820\n",
       "COUNTRY_CODE                       0.000006\n",
       "COUNTRY_NAME                       0.000000\n",
       "TOWN_NAME                          0.115176\n",
       "CURRENCY_POLICY                    0.000000\n",
       "CURRENCY_EXCHANGE_COVERAGE_RATE    0.230156\n",
       "CURRENCY                           0.000000\n",
       "PARTNER_ID                         0.011248\n",
       "POSTED_TIME                        0.000000\n",
       "PLANNED_EXPIRATION_TIME            0.267206\n",
       "DISBURSE_TIME                      0.001197\n",
       "RAISED_TIME                        0.044305\n",
       "LENDER_TERM                        0.000017\n",
       "NUM_LENDERS_TOTAL                  0.000000\n",
       "NUM_JOURNAL_ENTRIES                0.000000\n",
       "NUM_BULK_ENTRIES                   0.000000\n",
       "TAGS                               0.546713\n",
       "BORROWER_NAMES                     0.033894\n",
       "BORROWER_GENDERS                   0.030805\n",
       "BORROWER_PICTURED                  0.030805\n",
       "REPAYMENT_INTERVAL                 0.000000\n",
       "DISTRIBUTION_MODEL                 0.000000\n",
       "LENDERS                            0.000000\n",
       "num_lenders                        0.000000\n",
       "dtype: float64"
      ]
     },
     "execution_count": 46,
     "metadata": {},
     "output_type": "execute_result"
    }
   ],
   "source": [
    "lp.isnull().sum()/lp.shape[0]"
   ]
  },
  {
   "cell_type": "code",
   "execution_count": 47,
   "metadata": {},
   "outputs": [],
   "source": [
    "'''Make everything lower case '''\n",
    "lp.columns = [x.lower() for x in lp.columns]"
   ]
  },
  {
   "cell_type": "markdown",
   "metadata": {},
   "source": [
    "\n",
    "<ul> <b> Key Observations : </b>\n",
    "    <li> Description translated fields have many missing values. This is likely because they were already written in English and do not need translations <b> (32% missing) </b> </li>\n",
    "  <li> Planned expiration time <b> (26% missing) </b>.  </li>\n",
    "  <li> Currency exchange coverage rates <b> (23% missing) </b> </li>\n",
    "  <li> Tags <b> (54% missing)</b> </li>\n",
    "</ul>"
   ]
  },
  {
   "cell_type": "markdown",
   "metadata": {},
   "source": [
    "<h4> Testing to see how many non English entries are missing a translation </h4>"
   ]
  },
  {
   "cell_type": "code",
   "execution_count": 48,
   "metadata": {},
   "outputs": [],
   "source": [
    "lp_non_eng = lp[lp.original_language != 'English']"
   ]
  },
  {
   "cell_type": "code",
   "execution_count": 49,
   "metadata": {},
   "outputs": [
    {
     "data": {
      "text/plain": [
       "loan_id                            0.000000\n",
       "loan_name                          0.094033\n",
       "original_language                  0.087905\n",
       "description                        0.087905\n",
       "description_translated             0.131955\n",
       "funded_amount                      0.000000\n",
       "loan_amount                        0.000000\n",
       "status                             0.000000\n",
       "image_id                           0.087905\n",
       "video_id                           0.999800\n",
       "activity_name                      0.000000\n",
       "sector_name                        0.000000\n",
       "loan_use                           0.087926\n",
       "country_code                       0.000000\n",
       "country_name                       0.000000\n",
       "town_name                          0.195253\n",
       "currency_policy                    0.000000\n",
       "currency_exchange_coverage_rate    0.292859\n",
       "currency                           0.000000\n",
       "partner_id                         0.000825\n",
       "posted_time                        0.000000\n",
       "planned_expiration_time            0.312626\n",
       "disburse_time                      0.000806\n",
       "raised_time                        0.055051\n",
       "lender_term                        0.000002\n",
       "num_lenders_total                  0.000000\n",
       "num_journal_entries                0.000000\n",
       "num_bulk_entries                   0.000000\n",
       "tags                               0.568683\n",
       "borrower_names                     0.094033\n",
       "borrower_genders                   0.087905\n",
       "borrower_pictured                  0.087905\n",
       "repayment_interval                 0.000000\n",
       "distribution_model                 0.000000\n",
       "lenders                            0.000000\n",
       "num_lenders                        0.000000\n",
       "dtype: float64"
      ]
     },
     "execution_count": 49,
     "metadata": {},
     "output_type": "execute_result"
    }
   ],
   "source": [
    "lp_non_eng.isnull().sum()/lp_non_eng.shape[0]"
   ]
  },
  {
   "cell_type": "markdown",
   "metadata": {},
   "source": [
    "<h4>It looks like even for non-English loans, 64k entries are missing a translation. This represents 13% of non-English entries. </h4>"
   ]
  },
  {
   "cell_type": "markdown",
   "metadata": {},
   "source": [
    "<h3> Conduct some exploratory analysis on the master loans table </h3>"
   ]
  },
  {
   "cell_type": "code",
   "execution_count": 50,
   "metadata": {},
   "outputs": [
    {
     "data": {
      "text/plain": [
       "<matplotlib.axes._subplots.AxesSubplot at 0x1b27edb748>"
      ]
     },
     "execution_count": 50,
     "metadata": {},
     "output_type": "execute_result"
    },
    {
     "data": {
      "image/png": "[encoded data removed]",
      "text/plain": [
       "<matplotlib.figure.Figure at 0x1a31f7de80>"
      ]
     },
     "metadata": {},
     "output_type": "display_data"
    }
   ],
   "source": [
    "plt.figure(figsize=(14,6))\n",
    "sns.countplot(x=\"status\", data=lp, palette=\"cubehelix\")"
   ]
  },
  {
   "cell_type": "code",
   "execution_count": 51,
   "metadata": {},
   "outputs": [
    {
     "data": {
      "text/plain": [
       "status\n",
       "expired          57716\n",
       "fundRaising       2535\n",
       "funded         1320997\n",
       "refunded          6180\n",
       "dtype: int64"
      ]
     },
     "execution_count": 51,
     "metadata": {},
     "output_type": "execute_result"
    }
   ],
   "source": [
    "grouped = lp.groupby(\"status\")\n",
    "grouped.size()"
   ]
  },
  {
   "cell_type": "code",
   "execution_count": 52,
   "metadata": {},
   "outputs": [
    {
     "data": {
      "text/plain": [
       "8     63517\n",
       "9     61445\n",
       "7     59359\n",
       "10    58630\n",
       "5     58039\n",
       "6     52328\n",
       "12    51297\n",
       "11    51214\n",
       "13    45634\n",
       "14    44501\n",
       "Name: num_lenders_total, dtype: int64"
      ]
     },
     "execution_count": 52,
     "metadata": {},
     "output_type": "execute_result"
    }
   ],
   "source": [
    "lp['num_lenders_total'].value_counts().head(10)"
   ]
  },
  {
   "cell_type": "code",
   "execution_count": 53,
   "metadata": {},
   "outputs": [
    {
     "data": {
      "text/plain": [
       "7     66463\n",
       "8     65508\n",
       "5     64184\n",
       "6     63362\n",
       "9     61565\n",
       "4     57666\n",
       "10    56630\n",
       "11    51827\n",
       "12    48839\n",
       "13    45904\n",
       "Name: num_lenders, dtype: int64"
      ]
     },
     "execution_count": 53,
     "metadata": {},
     "output_type": "execute_result"
    }
   ],
   "source": [
    "lp['num_lenders'].value_counts().head(10)"
   ]
  },
  {
   "cell_type": "markdown",
   "metadata": {},
   "source": [
    "Isolate rows where these fields are not the same"
   ]
  },
  {
   "cell_type": "code",
   "execution_count": 54,
   "metadata": {},
   "outputs": [
    {
     "data": {
      "text/html": [
       "<div>\n",
       "<style scoped>\n",
       "    .dataframe tbody tr th:only-of-type {\n",
       "        vertical-align: middle;\n",
       "    }\n",
       "\n",
       "    .dataframe tbody tr th {\n",
       "        vertical-align: top;\n",
       "    }\n",
       "\n",
       "    .dataframe thead th {\n",
       "        text-align: right;\n",
       "    }\n",
       "</style>\n",
       "<table border=\"1\" class=\"dataframe\">\n",
       "  <thead>\n",
       "    <tr style=\"text-align: right;\">\n",
       "      <th></th>\n",
       "      <th>loan_id</th>\n",
       "      <th>loan_name</th>\n",
       "      <th>original_language</th>\n",
       "      <th>description</th>\n",
       "      <th>description_translated</th>\n",
       "      <th>funded_amount</th>\n",
       "      <th>loan_amount</th>\n",
       "      <th>status</th>\n",
       "      <th>image_id</th>\n",
       "      <th>video_id</th>\n",
       "      <th>...</th>\n",
       "      <th>num_journal_entries</th>\n",
       "      <th>num_bulk_entries</th>\n",
       "      <th>tags</th>\n",
       "      <th>borrower_names</th>\n",
       "      <th>borrower_genders</th>\n",
       "      <th>borrower_pictured</th>\n",
       "      <th>repayment_interval</th>\n",
       "      <th>distribution_model</th>\n",
       "      <th>lenders</th>\n",
       "      <th>num_lenders</th>\n",
       "    </tr>\n",
       "  </thead>\n",
       "  <tbody>\n",
       "    <tr>\n",
       "      <th>0</th>\n",
       "      <td>657307</td>\n",
       "      <td>Aivy</td>\n",
       "      <td>English</td>\n",
       "      <td>Aivy, 21 years of age, is single and lives in ...</td>\n",
       "      <td>NaN</td>\n",
       "      <td>125.0</td>\n",
       "      <td>125.0</td>\n",
       "      <td>funded</td>\n",
       "      <td>1511246.0</td>\n",
       "      <td>NaN</td>\n",
       "      <td>...</td>\n",
       "      <td>2</td>\n",
       "      <td>1</td>\n",
       "      <td>NaN</td>\n",
       "      <td>Aivy</td>\n",
       "      <td>female</td>\n",
       "      <td>true</td>\n",
       "      <td>irregular</td>\n",
       "      <td>field_partner</td>\n",
       "      <td>spencer5657, matthew8640, larry71496105</td>\n",
       "      <td>3</td>\n",
       "    </tr>\n",
       "    <tr>\n",
       "      <th>1</th>\n",
       "      <td>657259</td>\n",
       "      <td>Idalia Marizza</td>\n",
       "      <td>Spanish</td>\n",
       "      <td>Doña Idalia, esta casada, tiene 57 años de eda...</td>\n",
       "      <td>Idalia, 57, is married and lives with her husb...</td>\n",
       "      <td>400.0</td>\n",
       "      <td>400.0</td>\n",
       "      <td>funded</td>\n",
       "      <td>1507947.0</td>\n",
       "      <td>NaN</td>\n",
       "      <td>...</td>\n",
       "      <td>2</td>\n",
       "      <td>1</td>\n",
       "      <td>NaN</td>\n",
       "      <td>Idalia Marizza</td>\n",
       "      <td>female</td>\n",
       "      <td>true</td>\n",
       "      <td>monthly</td>\n",
       "      <td>field_partner</td>\n",
       "      <td>ltr, andrew5306, dana9865, WHYu, robert9784528...</td>\n",
       "      <td>7</td>\n",
       "    </tr>\n",
       "    <tr>\n",
       "      <th>2</th>\n",
       "      <td>658010</td>\n",
       "      <td>Aasia</td>\n",
       "      <td>English</td>\n",
       "      <td>Aasia is a 45-year-old married lady and she ha...</td>\n",
       "      <td>NaN</td>\n",
       "      <td>400.0</td>\n",
       "      <td>400.0</td>\n",
       "      <td>funded</td>\n",
       "      <td>1512245.0</td>\n",
       "      <td>NaN</td>\n",
       "      <td>...</td>\n",
       "      <td>2</td>\n",
       "      <td>1</td>\n",
       "      <td>#Woman Owned Biz, #Supporting Family, user_fav...</td>\n",
       "      <td>Aasia</td>\n",
       "      <td>female</td>\n",
       "      <td>true</td>\n",
       "      <td>monthly</td>\n",
       "      <td>field_partner</td>\n",
       "      <td>kathy3100, omar7511, amirali5409, bingo, genie...</td>\n",
       "      <td>14</td>\n",
       "    </tr>\n",
       "  </tbody>\n",
       "</table>\n",
       "<p>3 rows × 36 columns</p>\n",
       "</div>"
      ],
      "text/plain": [
       "   loan_id       loan_name original_language  \\\n",
       "0   657307            Aivy           English   \n",
       "1   657259  Idalia Marizza           Spanish   \n",
       "2   658010           Aasia           English   \n",
       "\n",
       "                                         description  \\\n",
       "0  Aivy, 21 years of age, is single and lives in ...   \n",
       "1  Doña Idalia, esta casada, tiene 57 años de eda...   \n",
       "2  Aasia is a 45-year-old married lady and she ha...   \n",
       "\n",
       "                              description_translated  funded_amount  \\\n",
       "0                                                NaN          125.0   \n",
       "1  Idalia, 57, is married and lives with her husb...          400.0   \n",
       "2                                                NaN          400.0   \n",
       "\n",
       "   loan_amount  status   image_id  video_id     ...      num_journal_entries  \\\n",
       "0        125.0  funded  1511246.0       NaN     ...                        2   \n",
       "1        400.0  funded  1507947.0       NaN     ...                        2   \n",
       "2        400.0  funded  1512245.0       NaN     ...                        2   \n",
       "\n",
       "  num_bulk_entries                                               tags  \\\n",
       "0                1                                                NaN   \n",
       "1                1                                                NaN   \n",
       "2                1  #Woman Owned Biz, #Supporting Family, user_fav...   \n",
       "\n",
       "   borrower_names borrower_genders borrower_pictured repayment_interval  \\\n",
       "0            Aivy           female              true          irregular   \n",
       "1  Idalia Marizza           female              true            monthly   \n",
       "2           Aasia           female              true            monthly   \n",
       "\n",
       "   distribution_model                                            lenders  \\\n",
       "0       field_partner            spencer5657, matthew8640, larry71496105   \n",
       "1       field_partner  ltr, andrew5306, dana9865, WHYu, robert9784528...   \n",
       "2       field_partner  kathy3100, omar7511, amirali5409, bingo, genie...   \n",
       "\n",
       "   num_lenders  \n",
       "0            3  \n",
       "1            7  \n",
       "2           14  \n",
       "\n",
       "[3 rows x 36 columns]"
      ]
     },
     "execution_count": 54,
     "metadata": {},
     "output_type": "execute_result"
    }
   ],
   "source": [
    "lp.head(3)"
   ]
  },
  {
   "cell_type": "markdown",
   "metadata": {},
   "source": [
    "<h4> There is a discrepancy in our calculated \"number of lenders\" vs those in the loans table. Technically these should be the same. </h4>"
   ]
  },
  {
   "cell_type": "markdown",
   "metadata": {},
   "source": [
    "There are certain values here that will not be relevant to our analysis. These include image_id, video_id and town_name. Other variables, such as tags have too many missing values. I will also drop those for now. \"Description translated\" also has many missing values but I will keep those for now, as there may be some useful text analysis to come out of it in the future. "
   ]
  },
  {
   "cell_type": "code",
   "execution_count": 55,
   "metadata": {},
   "outputs": [],
   "source": [
    "lp.drop(['image_id', 'video_id','tags'], axis=1, inplace=True)"
   ]
  },
  {
   "cell_type": "markdown",
   "metadata": {},
   "source": [
    "<h4> Start by exploring loan amounts </h4>"
   ]
  },
  {
   "cell_type": "code",
   "execution_count": 56,
   "metadata": {},
   "outputs": [
    {
     "data": {
      "image/png": "[encoded data removed]",
      "text/plain": [
       "<matplotlib.figure.Figure at 0x1b27ef85f8>"
      ]
     },
     "metadata": {},
     "output_type": "display_data"
    }
   ],
   "source": [
    "plt.figure(figsize=(9, 8))\n",
    "sns.distplot(lp['loan_amount'], color='g', bins=100,hist=False, kde_kws={'clip': (0.0, 4000)});"
   ]
  },
  {
   "cell_type": "code",
   "execution_count": 57,
   "metadata": {},
   "outputs": [
    {
     "name": "stdout",
     "output_type": "stream",
     "text": [
      "The mean loan amount is 838.5547754550146\n",
      "The max loan amount is 100000.0\n",
      "The min loan amount is 25.0\n"
     ]
    }
   ],
   "source": [
    "print (\"The mean loan amount is\", lp.loan_amount.mean())\n",
    "print (\"The max loan amount is\", lp.loan_amount.max())\n",
    "print (\"The min loan amount is\", lp.loan_amount.min())"
   ]
  },
  {
   "cell_type": "code",
   "execution_count": 58,
   "metadata": {},
   "outputs": [
    {
     "data": {
      "image/png": "[encoded data removed]",
      "text/plain": [
       "<matplotlib.figure.Figure at 0x1ac587a550>"
      ]
     },
     "metadata": {},
     "output_type": "display_data"
    }
   ],
   "source": [
    "plt.figure(figsize=(9, 8))\n",
    "sns.distplot(lp['funded_amount'], color='b', bins=100,hist=False, kde_kws={'clip': (0.0, 5000)});"
   ]
  },
  {
   "cell_type": "code",
   "execution_count": 59,
   "metadata": {},
   "outputs": [
    {
     "name": "stdout",
     "output_type": "stream",
     "text": [
      "The mean funded loan amount is 805.7079898920881\n",
      "The max funded loan amount is 100000.0\n",
      "The min funded loan amount is 5.0\n"
     ]
    }
   ],
   "source": [
    "print (\"The mean funded loan amount is\", lp.funded_amount.mean())\n",
    "print (\"The max funded loan amount is\", lp.funded_amount.max())\n",
    "print (\"The min funded loan amount is\", lp.funded_amount.min())"
   ]
  },
  {
   "cell_type": "markdown",
   "metadata": {},
   "source": [
    "The mean funded loan amount is 33 lower than the requested amount. The max loan amount of 100k is funded ! The min funded loan amount of $5 looks like it may be an outlier. The minimum loan amount on Kiva is 25. "
   ]
  },
  {
   "cell_type": "code",
   "execution_count": 60,
   "metadata": {},
   "outputs": [
    {
     "data": {
      "text/html": [
       "<div>\n",
       "<style scoped>\n",
       "    .dataframe tbody tr th:only-of-type {\n",
       "        vertical-align: middle;\n",
       "    }\n",
       "\n",
       "    .dataframe tbody tr th {\n",
       "        vertical-align: top;\n",
       "    }\n",
       "\n",
       "    .dataframe thead th {\n",
       "        text-align: right;\n",
       "    }\n",
       "</style>\n",
       "<table border=\"1\" class=\"dataframe\">\n",
       "  <thead>\n",
       "    <tr style=\"text-align: right;\">\n",
       "      <th></th>\n",
       "      <th>loan_id</th>\n",
       "      <th>loan_name</th>\n",
       "      <th>original_language</th>\n",
       "      <th>description</th>\n",
       "      <th>description_translated</th>\n",
       "      <th>funded_amount</th>\n",
       "      <th>loan_amount</th>\n",
       "      <th>status</th>\n",
       "      <th>activity_name</th>\n",
       "      <th>sector_name</th>\n",
       "      <th>...</th>\n",
       "      <th>num_lenders_total</th>\n",
       "      <th>num_journal_entries</th>\n",
       "      <th>num_bulk_entries</th>\n",
       "      <th>borrower_names</th>\n",
       "      <th>borrower_genders</th>\n",
       "      <th>borrower_pictured</th>\n",
       "      <th>repayment_interval</th>\n",
       "      <th>distribution_model</th>\n",
       "      <th>lenders</th>\n",
       "      <th>num_lenders</th>\n",
       "    </tr>\n",
       "  </thead>\n",
       "  <tbody>\n",
       "    <tr>\n",
       "      <th>135956</th>\n",
       "      <td>1089026</td>\n",
       "      <td>Brian</td>\n",
       "      <td>English</td>\n",
       "      <td>I grew up on the south side of Chicago, IL in ...</td>\n",
       "      <td>I grew up on the south side of Chicago, IL in ...</td>\n",
       "      <td>5.0</td>\n",
       "      <td>5000.0</td>\n",
       "      <td>expired</td>\n",
       "      <td>Construction</td>\n",
       "      <td>Construction</td>\n",
       "      <td>...</td>\n",
       "      <td>1</td>\n",
       "      <td>1</td>\n",
       "      <td>1</td>\n",
       "      <td>Brian</td>\n",
       "      <td>male</td>\n",
       "      <td>true</td>\n",
       "      <td>bullet</td>\n",
       "      <td>direct</td>\n",
       "      <td>josie6558</td>\n",
       "      <td>1</td>\n",
       "    </tr>\n",
       "    <tr>\n",
       "      <th>725946</th>\n",
       "      <td>1089253</td>\n",
       "      <td>Treyvon</td>\n",
       "      <td>English</td>\n",
       "      <td>My name is Treyvon Wilson, I'm a student and s...</td>\n",
       "      <td>My name is Treyvon Wilson, I'm a student and s...</td>\n",
       "      <td>5.0</td>\n",
       "      <td>2950.0</td>\n",
       "      <td>expired</td>\n",
       "      <td>Entertainment</td>\n",
       "      <td>Entertainment</td>\n",
       "      <td>...</td>\n",
       "      <td>1</td>\n",
       "      <td>1</td>\n",
       "      <td>1</td>\n",
       "      <td>Treyvon</td>\n",
       "      <td>male</td>\n",
       "      <td>true</td>\n",
       "      <td>bullet</td>\n",
       "      <td>direct</td>\n",
       "      <td>trey4018</td>\n",
       "      <td>1</td>\n",
       "    </tr>\n",
       "    <tr>\n",
       "      <th>1038811</th>\n",
       "      <td>1079636</td>\n",
       "      <td>Marsha</td>\n",
       "      <td>English</td>\n",
       "      <td>I've always had a love of beauty from when i w...</td>\n",
       "      <td>I've always had a love of beauty from when i w...</td>\n",
       "      <td>5.0</td>\n",
       "      <td>5000.0</td>\n",
       "      <td>expired</td>\n",
       "      <td>Services</td>\n",
       "      <td>Services</td>\n",
       "      <td>...</td>\n",
       "      <td>1</td>\n",
       "      <td>1</td>\n",
       "      <td>1</td>\n",
       "      <td>Marsha</td>\n",
       "      <td>female</td>\n",
       "      <td>true</td>\n",
       "      <td>bullet</td>\n",
       "      <td>direct</td>\n",
       "      <td>jonnycprice</td>\n",
       "      <td>1</td>\n",
       "    </tr>\n",
       "    <tr>\n",
       "      <th>1190462</th>\n",
       "      <td>1088863</td>\n",
       "      <td>Ivette</td>\n",
       "      <td>English</td>\n",
       "      <td>I always say, I was made in Puerto Rico and bo...</td>\n",
       "      <td>I always say, I was made in Puerto Rico and bo...</td>\n",
       "      <td>5.0</td>\n",
       "      <td>500.0</td>\n",
       "      <td>expired</td>\n",
       "      <td>Services</td>\n",
       "      <td>Services</td>\n",
       "      <td>...</td>\n",
       "      <td>1</td>\n",
       "      <td>1</td>\n",
       "      <td>1</td>\n",
       "      <td>Ivette</td>\n",
       "      <td>female</td>\n",
       "      <td>true</td>\n",
       "      <td>bullet</td>\n",
       "      <td>direct</td>\n",
       "      <td>kmackay</td>\n",
       "      <td>1</td>\n",
       "    </tr>\n",
       "  </tbody>\n",
       "</table>\n",
       "<p>4 rows × 33 columns</p>\n",
       "</div>"
      ],
      "text/plain": [
       "         loan_id loan_name original_language  \\\n",
       "135956   1089026     Brian           English   \n",
       "725946   1089253   Treyvon           English   \n",
       "1038811  1079636    Marsha           English   \n",
       "1190462  1088863    Ivette           English   \n",
       "\n",
       "                                               description  \\\n",
       "135956   I grew up on the south side of Chicago, IL in ...   \n",
       "725946   My name is Treyvon Wilson, I'm a student and s...   \n",
       "1038811  I've always had a love of beauty from when i w...   \n",
       "1190462  I always say, I was made in Puerto Rico and bo...   \n",
       "\n",
       "                                    description_translated  funded_amount  \\\n",
       "135956   I grew up on the south side of Chicago, IL in ...            5.0   \n",
       "725946   My name is Treyvon Wilson, I'm a student and s...            5.0   \n",
       "1038811  I've always had a love of beauty from when i w...            5.0   \n",
       "1190462  I always say, I was made in Puerto Rico and bo...            5.0   \n",
       "\n",
       "         loan_amount   status  activity_name    sector_name     ...      \\\n",
       "135956        5000.0  expired   Construction   Construction     ...       \n",
       "725946        2950.0  expired  Entertainment  Entertainment     ...       \n",
       "1038811       5000.0  expired       Services       Services     ...       \n",
       "1190462        500.0  expired       Services       Services     ...       \n",
       "\n",
       "        num_lenders_total num_journal_entries num_bulk_entries borrower_names  \\\n",
       "135956                  1                   1                1          Brian   \n",
       "725946                  1                   1                1        Treyvon   \n",
       "1038811                 1                   1                1         Marsha   \n",
       "1190462                 1                   1                1         Ivette   \n",
       "\n",
       "        borrower_genders  borrower_pictured repayment_interval  \\\n",
       "135956              male               true             bullet   \n",
       "725946              male               true             bullet   \n",
       "1038811           female               true             bullet   \n",
       "1190462           female               true             bullet   \n",
       "\n",
       "         distribution_model      lenders num_lenders  \n",
       "135956               direct    josie6558           1  \n",
       "725946               direct     trey4018           1  \n",
       "1038811              direct  jonnycprice           1  \n",
       "1190462              direct      kmackay           1  \n",
       "\n",
       "[4 rows x 33 columns]"
      ]
     },
     "execution_count": 60,
     "metadata": {},
     "output_type": "execute_result"
    }
   ],
   "source": [
    "lp.loc[lp['funded_amount'] == 5]"
   ]
  },
  {
   "cell_type": "markdown",
   "metadata": {},
   "source": [
    "<h4> Ah, these loans are all expired. They did not manage to reach the loan_amount in each row. Still, this seems strange since you have to fund a minimum of 25 on each loan as a lender </h4>"
   ]
  },
  {
   "cell_type": "code",
   "execution_count": 61,
   "metadata": {},
   "outputs": [
    {
     "data": {
      "text/plain": [
       "<matplotlib.axes._subplots.AxesSubplot at 0x1a326f84e0>"
      ]
     },
     "execution_count": 61,
     "metadata": {},
     "output_type": "execute_result"
    },
    {
     "data": {
      "image/png": "[encoded data removed]",
      "text/plain": [
       "<matplotlib.figure.Figure at 0x1a64a57160>"
      ]
     },
     "metadata": {},
     "output_type": "display_data"
    }
   ],
   "source": [
    "plt.figure(figsize=(20,6))\n",
    "sns.countplot(x=\"sector_name\", data=lp, palette='cubehelix')"
   ]
  },
  {
   "cell_type": "code",
   "execution_count": 62,
   "metadata": {},
   "outputs": [
    {
     "data": {
      "text/plain": [
       "Farming                      130849\n",
       "General Store                117129\n",
       "Retail                        69322\n",
       "Food Production/Sales         62960\n",
       "Agriculture                   58206\n",
       "Clothing Sales                58171\n",
       "Personal Housing Expenses     56471\n",
       "Grocery Store                 41669\n",
       "Pigs                          41455\n",
       "Fruits & Vegetables           35810\n",
       "Higher education costs        28557\n",
       "Food Market                   26467\n",
       "Home Appliances               25690\n",
       "Fish Selling                  25284\n",
       "Livestock                     24122\n",
       "Animal Sales                  21212\n",
       "Services                      20156\n",
       "Food Stall                    19926\n",
       "Tailoring                     19863\n",
       "Food                          18954\n",
       "Poultry                       17992\n",
       "Sewing                        17876\n",
       "Cattle                        17864\n",
       "Dairy                         16376\n",
       "Fishing                       15683\n",
       "Beauty Salon                  15459\n",
       "Motorcycle Transport          15329\n",
       "Cereals                       14004\n",
       "Cosmetics Sales               12871\n",
       "Restaurant                    12769\n",
       "                              ...  \n",
       "Tourism                         367\n",
       "Music Discs & Tapes             356\n",
       "Secretarial Services            354\n",
       "Phone Repair                    347\n",
       "Upholstery                      313\n",
       "Machine Shop                    311\n",
       "Machinery Rental                266\n",
       "Cleaning Services               264\n",
       "Energy                          263\n",
       "Religious Articles              216\n",
       "Musical Instruments             208\n",
       "Aquaculture                     207\n",
       "Bicycle Sales                   176\n",
       "Technology                      169\n",
       "Sporting Good Sales             161\n",
       "Computer                        139\n",
       "Air Conditioning                119\n",
       "Patchwork                       118\n",
       "Balut-Making                    113\n",
       "Florist                         107\n",
       "Communications                  105\n",
       "Well digging                    100\n",
       "Beekeeping                       91\n",
       "Funerals                         66\n",
       "Landscaping / Gardening          59\n",
       "Bookbinding                      56\n",
       "Film                             40\n",
       "Event Planning                   29\n",
       "Personal Care Products           26\n",
       "Celebrations                     10\n",
       "Name: activity_name, Length: 162, dtype: int64"
      ]
     },
     "execution_count": 62,
     "metadata": {},
     "output_type": "execute_result"
    }
   ],
   "source": [
    "lp.activity_name.value_counts()"
   ]
  },
  {
   "cell_type": "markdown",
   "metadata": {},
   "source": [
    "<h4> Definitely looks like there is a HEAVY correlation between activity types and sectors. Farming and agriculture are the most common loan uses </h4>"
   ]
  },
  {
   "cell_type": "code",
   "execution_count": 63,
   "metadata": {},
   "outputs": [
    {
     "data": {
      "text/plain": [
       "sector_name\n",
       "Personal Use       456.080922\n",
       "Housing            745.347832\n",
       "Transportation     746.514576\n",
       "Agriculture        801.842673\n",
       "Retail             812.144578\n",
       "Food               832.486518\n",
       "Manufacturing      868.704450\n",
       "Arts               935.902003\n",
       "Construction       952.787452\n",
       "Education          991.154439\n",
       "Services          1008.922389\n",
       "Clothing          1029.444078\n",
       "Health            1043.933476\n",
       "Entertainment     1301.755894\n",
       "Wholesale         1326.607143\n",
       "Name: loan_amount, dtype: float64"
      ]
     },
     "execution_count": 63,
     "metadata": {},
     "output_type": "execute_result"
    }
   ],
   "source": [
    "lp.groupby('sector_name')['loan_amount'].mean().sort_values()"
   ]
  },
  {
   "cell_type": "code",
   "execution_count": 64,
   "metadata": {},
   "outputs": [
    {
     "data": {
      "text/plain": [
       "sector_name\n",
       "Personal Use       435.138310\n",
       "Housing            688.967416\n",
       "Transportation     702.060567\n",
       "Agriculture        769.086679\n",
       "Retail             778.281295\n",
       "Food               806.982179\n",
       "Manufacturing      865.140327\n",
       "Arts               925.748064\n",
       "Construction       929.887216\n",
       "Services           959.163503\n",
       "Education          971.183521\n",
       "Clothing           989.127617\n",
       "Health            1001.380836\n",
       "Entertainment     1183.914538\n",
       "Wholesale         1289.321429\n",
       "Name: funded_amount, dtype: float64"
      ]
     },
     "execution_count": 64,
     "metadata": {},
     "output_type": "execute_result"
    }
   ],
   "source": [
    "lp.groupby('sector_name')['funded_amount'].mean().sort_values()"
   ]
  },
  {
   "cell_type": "code",
   "execution_count": 65,
   "metadata": {},
   "outputs": [],
   "source": [
    "group_by_sector = lp.groupby(['sector_name','status'])"
   ]
  },
  {
   "cell_type": "code",
   "execution_count": null,
   "metadata": {},
   "outputs": [],
   "source": [
    "group_by_sector.size()"
   ]
  },
  {
   "cell_type": "code",
   "execution_count": null,
   "metadata": {},
   "outputs": [],
   "source": [
    "g =(lp.groupby('sector_name')\n",
    "      .agg({'status':['sum',lambda x: x.sum()/ lp['status'].sum(),'mean']}))"
   ]
  },
  {
   "cell_type": "code",
   "execution_count": null,
   "metadata": {},
   "outputs": [],
   "source": [
    "count_group_by_sector = group_by_sector.size().unstack()"
   ]
  },
  {
   "cell_type": "code",
   "execution_count": null,
   "metadata": {},
   "outputs": [],
   "source": [
    "count_group_by_sector"
   ]
  },
  {
   "cell_type": "code",
   "execution_count": null,
   "metadata": {},
   "outputs": [],
   "source": [
    "plt.figure(figsize=(20,6))\n",
    "sns.countplot(x=\"original_language\", data=lp, palette='rainbow')"
   ]
  },
  {
   "cell_type": "code",
   "execution_count": null,
   "metadata": {},
   "outputs": [],
   "source": [
    "plt.figure(figsize=(20,6))\n",
    "sns.countplot(x=\"repayment_interval\", data=lp, palette='rainbow')"
   ]
  },
  {
   "cell_type": "code",
   "execution_count": null,
   "metadata": {},
   "outputs": [],
   "source": [
    "lp.country_name.value_counts()"
   ]
  },
  {
   "cell_type": "markdown",
   "metadata": {},
   "source": [
    "<h4> Very interesting how Phillipines makes up majority of this sample! </h4>"
   ]
  },
  {
   "cell_type": "code",
   "execution_count": null,
   "metadata": {},
   "outputs": [],
   "source": [
    "lp.borrower_genders.value_counts()"
   ]
  },
  {
   "cell_type": "code",
   "execution_count": null,
   "metadata": {},
   "outputs": [],
   "source": []
  }
 ],
 "metadata": {
  "kernelspec": {
   "display_name": "Python 3",
   "language": "python",
   "name": "python3"
  }
 },
 "nbformat": 4,
 "nbformat_minor": 2
}
