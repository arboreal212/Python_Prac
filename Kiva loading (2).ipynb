{
 "cells": [
  {
   "cell_type": "code",
   "execution_count": 1,
   "metadata": {},
   "outputs": [],
   "source": [
    "import pandas as pd\n",
    "import numpy as np\n",
    "import matplotlib.pylab as plt\n",
    "import seaborn as sns\n",
    "%matplotlib inline\n",
    "from matplotlib.pylab import rcParams"
   ]
  },
  {
   "cell_type": "code",
   "execution_count": 2,
   "metadata": {},
   "outputs": [
    {
     "data": {
      "text/html": [
       "<div>\n",
       "<style scoped>\n",
       "    .dataframe tbody tr th:only-of-type {\n",
       "        vertical-align: middle;\n",
       "    }\n",
       "\n",
       "    .dataframe tbody tr th {\n",
       "        vertical-align: top;\n",
       "    }\n",
       "\n",
       "    .dataframe thead th {\n",
       "        text-align: right;\n",
       "    }\n",
       "</style>\n",
       "<table border=\"1\" class=\"dataframe\">\n",
       "  <thead>\n",
       "    <tr style=\"text-align: right;\">\n",
       "      <th></th>\n",
       "      <th>PERMANENT_NAME</th>\n",
       "      <th>DISPLAY_NAME</th>\n",
       "      <th>MAIN_PIC_ID</th>\n",
       "      <th>CITY</th>\n",
       "      <th>STATE</th>\n",
       "      <th>COUNTRY_CODE</th>\n",
       "      <th>MEMBER_SINCE</th>\n",
       "      <th>PERSONAL_URL</th>\n",
       "      <th>OCCUPATION</th>\n",
       "      <th>LOAN_BECAUSE</th>\n",
       "      <th>OTHER_INFO</th>\n",
       "      <th>LOAN_PURCHASE_NUM</th>\n",
       "      <th>INVITED_BY</th>\n",
       "      <th>NUM_INVITED</th>\n",
       "    </tr>\n",
       "  </thead>\n",
       "  <tbody>\n",
       "    <tr>\n",
       "      <th>0</th>\n",
       "      <td>qian3013</td>\n",
       "      <td>Qian</td>\n",
       "      <td>NaN</td>\n",
       "      <td>NaN</td>\n",
       "      <td>NaN</td>\n",
       "      <td>NaN</td>\n",
       "      <td>1461300457</td>\n",
       "      <td>NaN</td>\n",
       "      <td>NaN</td>\n",
       "      <td>NaN</td>\n",
       "      <td>NaN</td>\n",
       "      <td>1.0</td>\n",
       "      <td>NaN</td>\n",
       "      <td>0</td>\n",
       "    </tr>\n",
       "    <tr>\n",
       "      <th>1</th>\n",
       "      <td>reena6733</td>\n",
       "      <td>Reena</td>\n",
       "      <td>NaN</td>\n",
       "      <td>NaN</td>\n",
       "      <td>NaN</td>\n",
       "      <td>NaN</td>\n",
       "      <td>1461300634</td>\n",
       "      <td>NaN</td>\n",
       "      <td>NaN</td>\n",
       "      <td>NaN</td>\n",
       "      <td>NaN</td>\n",
       "      <td>9.0</td>\n",
       "      <td>NaN</td>\n",
       "      <td>0</td>\n",
       "    </tr>\n",
       "    <tr>\n",
       "      <th>2</th>\n",
       "      <td>mai5982</td>\n",
       "      <td>Mai</td>\n",
       "      <td>NaN</td>\n",
       "      <td>NaN</td>\n",
       "      <td>NaN</td>\n",
       "      <td>NaN</td>\n",
       "      <td>1461300853</td>\n",
       "      <td>NaN</td>\n",
       "      <td>NaN</td>\n",
       "      <td>NaN</td>\n",
       "      <td>NaN</td>\n",
       "      <td>NaN</td>\n",
       "      <td>NaN</td>\n",
       "      <td>0</td>\n",
       "    </tr>\n",
       "    <tr>\n",
       "      <th>3</th>\n",
       "      <td>andrew86079135</td>\n",
       "      <td>Andrew</td>\n",
       "      <td>NaN</td>\n",
       "      <td>NaN</td>\n",
       "      <td>NaN</td>\n",
       "      <td>NaN</td>\n",
       "      <td>1461301091</td>\n",
       "      <td>NaN</td>\n",
       "      <td>NaN</td>\n",
       "      <td>NaN</td>\n",
       "      <td>NaN</td>\n",
       "      <td>5.0</td>\n",
       "      <td>Peter Tan</td>\n",
       "      <td>0</td>\n",
       "    </tr>\n",
       "    <tr>\n",
       "      <th>4</th>\n",
       "      <td>nguyen6962</td>\n",
       "      <td>Nguyen</td>\n",
       "      <td>NaN</td>\n",
       "      <td>NaN</td>\n",
       "      <td>NaN</td>\n",
       "      <td>NaN</td>\n",
       "      <td>1461301154</td>\n",
       "      <td>NaN</td>\n",
       "      <td>NaN</td>\n",
       "      <td>NaN</td>\n",
       "      <td>NaN</td>\n",
       "      <td>NaN</td>\n",
       "      <td>NaN</td>\n",
       "      <td>0</td>\n",
       "    </tr>\n",
       "  </tbody>\n",
       "</table>\n",
       "</div>"
      ],
      "text/plain": [
       "   PERMANENT_NAME DISPLAY_NAME  MAIN_PIC_ID CITY STATE COUNTRY_CODE  \\\n",
       "0        qian3013         Qian          NaN  NaN   NaN          NaN   \n",
       "1       reena6733        Reena          NaN  NaN   NaN          NaN   \n",
       "2         mai5982          Mai          NaN  NaN   NaN          NaN   \n",
       "3  andrew86079135       Andrew          NaN  NaN   NaN          NaN   \n",
       "4      nguyen6962       Nguyen          NaN  NaN   NaN          NaN   \n",
       "\n",
       "   MEMBER_SINCE PERSONAL_URL OCCUPATION LOAN_BECAUSE OTHER_INFO  \\\n",
       "0    1461300457          NaN        NaN          NaN        NaN   \n",
       "1    1461300634          NaN        NaN          NaN        NaN   \n",
       "2    1461300853          NaN        NaN          NaN        NaN   \n",
       "3    1461301091          NaN        NaN          NaN        NaN   \n",
       "4    1461301154          NaN        NaN          NaN        NaN   \n",
       "\n",
       "   LOAN_PURCHASE_NUM INVITED_BY  NUM_INVITED  \n",
       "0                1.0        NaN            0  \n",
       "1                9.0        NaN            0  \n",
       "2                NaN        NaN            0  \n",
       "3                5.0  Peter Tan            0  \n",
       "4                NaN        NaN            0  "
      ]
     },
     "execution_count": 2,
     "metadata": {},
     "output_type": "execute_result"
    }
   ],
   "source": [
    "lenders = pd.read_csv('lenders.csv')\n",
    "lenders.head()"
   ]
  },
  {
   "cell_type": "code",
   "execution_count": 3,
   "metadata": {},
   "outputs": [
    {
     "data": {
      "text/plain": [
       "PERMANENT_NAME             0\n",
       "DISPLAY_NAME            2768\n",
       "MAIN_PIC_ID          1590116\n",
       "CITY                 1619306\n",
       "STATE                1713481\n",
       "COUNTRY_CODE         1458635\n",
       "MEMBER_SINCE               0\n",
       "PERSONAL_URL         2189805\n",
       "OCCUPATION           1844514\n",
       "LOAN_BECAUSE         2174852\n",
       "OTHER_INFO           2154640\n",
       "LOAN_PURCHASE_NUM     894281\n",
       "INVITED_BY           1852349\n",
       "NUM_INVITED                0\n",
       "dtype: int64"
      ]
     },
     "execution_count": 3,
     "metadata": {},
     "output_type": "execute_result"
    }
   ],
   "source": [
    "lenders.isnull().sum()"
   ]
  },
  {
   "cell_type": "code",
   "execution_count": 4,
   "metadata": {},
   "outputs": [
    {
     "data": {
      "text/plain": [
       "PERMANENT_NAME       0.000000\n",
       "DISPLAY_NAME         0.001178\n",
       "MAIN_PIC_ID          0.676883\n",
       "CITY                 0.689309\n",
       "STATE                0.729397\n",
       "COUNTRY_CODE         0.620914\n",
       "MEMBER_SINCE         0.000000\n",
       "PERSONAL_URL         0.932160\n",
       "OCCUPATION           0.785176\n",
       "LOAN_BECAUSE         0.925794\n",
       "OTHER_INFO           0.917190\n",
       "LOAN_PURCHASE_NUM    0.380679\n",
       "INVITED_BY           0.788511\n",
       "NUM_INVITED          0.000000\n",
       "dtype: float64"
      ]
     },
     "execution_count": 4,
     "metadata": {},
     "output_type": "execute_result"
    }
   ],
   "source": [
    "lenders.isnull().sum()/lenders.shape[0]"
   ]
  },
  {
   "cell_type": "markdown",
   "metadata": {},
   "source": [
    "<ul> <b> Key Observations : </b>\n",
    "    <li> How many loans has each lender funded <b> (38% missing) </b> </li> (null or 0 funded?)\n",
    "  <li> What country are they from? <b> (62% missing) </b>. It would have been nice to see the flow of capital across countries if we had more data. </li>\n",
    "  <li>How many people has each lender referred to Kiva? <b> (0% missing) </b> </li>\n",
    "  <li> Invited by contains the full name of a person who referred the current lender <b> (78% missing)</b> </li>\n",
    "</ul>"
   ]
  },
  {
   "cell_type": "markdown",
   "metadata": {},
   "source": [
    "<h3> Next we move on to see which lenders have funded each loan </h3>"
   ]
  },
  {
   "cell_type": "code",
   "execution_count": 5,
   "metadata": {},
   "outputs": [],
   "source": [
    "ll = pd.read_csv('loans_lenders.csv')"
   ]
  },
  {
   "cell_type": "code",
   "execution_count": 6,
   "metadata": {},
   "outputs": [
    {
     "data": {
      "text/html": [
       "<div>\n",
       "<style scoped>\n",
       "    .dataframe tbody tr th:only-of-type {\n",
       "        vertical-align: middle;\n",
       "    }\n",
       "\n",
       "    .dataframe tbody tr th {\n",
       "        vertical-align: top;\n",
       "    }\n",
       "\n",
       "    .dataframe thead th {\n",
       "        text-align: right;\n",
       "    }\n",
       "</style>\n",
       "<table border=\"1\" class=\"dataframe\">\n",
       "  <thead>\n",
       "    <tr style=\"text-align: right;\">\n",
       "      <th></th>\n",
       "      <th>LOAN_ID</th>\n",
       "      <th>LENDERS</th>\n",
       "    </tr>\n",
       "  </thead>\n",
       "  <tbody>\n",
       "    <tr>\n",
       "      <th>0</th>\n",
       "      <td>483693</td>\n",
       "      <td>muc888, sam4326, camaran3922, lachheb1865, reb...</td>\n",
       "    </tr>\n",
       "    <tr>\n",
       "      <th>1</th>\n",
       "      <td>483738</td>\n",
       "      <td>muc888, nora3555, williammanashi, barbara5610,...</td>\n",
       "    </tr>\n",
       "    <tr>\n",
       "      <th>2</th>\n",
       "      <td>485000</td>\n",
       "      <td>muc888, terrystl, richardandsusan8352, sherri4...</td>\n",
       "    </tr>\n",
       "    <tr>\n",
       "      <th>3</th>\n",
       "      <td>486087</td>\n",
       "      <td>muc888, james5068, rudi5955, daniel9859, don92...</td>\n",
       "    </tr>\n",
       "    <tr>\n",
       "      <th>4</th>\n",
       "      <td>534428</td>\n",
       "      <td>muc888, niki3008, teresa9174, mike4896, david7...</td>\n",
       "    </tr>\n",
       "  </tbody>\n",
       "</table>\n",
       "</div>"
      ],
      "text/plain": [
       "   LOAN_ID                                            LENDERS\n",
       "0   483693  muc888, sam4326, camaran3922, lachheb1865, reb...\n",
       "1   483738  muc888, nora3555, williammanashi, barbara5610,...\n",
       "2   485000  muc888, terrystl, richardandsusan8352, sherri4...\n",
       "3   486087  muc888, james5068, rudi5955, daniel9859, don92...\n",
       "4   534428  muc888, niki3008, teresa9174, mike4896, david7..."
      ]
     },
     "execution_count": 6,
     "metadata": {},
     "output_type": "execute_result"
    }
   ],
   "source": [
    "ll.head()"
   ]
  },
  {
   "cell_type": "code",
   "execution_count": 7,
   "metadata": {},
   "outputs": [],
   "source": [
    "ll['num_lenders']=ll['LENDERS'].str.split(',').apply(len)"
   ]
  },
  {
   "cell_type": "code",
   "execution_count": 8,
   "metadata": {},
   "outputs": [
    {
     "data": {
      "text/html": [
       "<div>\n",
       "<style scoped>\n",
       "    .dataframe tbody tr th:only-of-type {\n",
       "        vertical-align: middle;\n",
       "    }\n",
       "\n",
       "    .dataframe tbody tr th {\n",
       "        vertical-align: top;\n",
       "    }\n",
       "\n",
       "    .dataframe thead th {\n",
       "        text-align: right;\n",
       "    }\n",
       "</style>\n",
       "<table border=\"1\" class=\"dataframe\">\n",
       "  <thead>\n",
       "    <tr style=\"text-align: right;\">\n",
       "      <th></th>\n",
       "      <th>LOAN_ID</th>\n",
       "      <th>LENDERS</th>\n",
       "      <th>num_lenders</th>\n",
       "    </tr>\n",
       "  </thead>\n",
       "  <tbody>\n",
       "    <tr>\n",
       "      <th>0</th>\n",
       "      <td>483693</td>\n",
       "      <td>muc888, sam4326, camaran3922, lachheb1865, reb...</td>\n",
       "      <td>40</td>\n",
       "    </tr>\n",
       "    <tr>\n",
       "      <th>1</th>\n",
       "      <td>483738</td>\n",
       "      <td>muc888, nora3555, williammanashi, barbara5610,...</td>\n",
       "      <td>15</td>\n",
       "    </tr>\n",
       "    <tr>\n",
       "      <th>2</th>\n",
       "      <td>485000</td>\n",
       "      <td>muc888, terrystl, richardandsusan8352, sherri4...</td>\n",
       "      <td>15</td>\n",
       "    </tr>\n",
       "    <tr>\n",
       "      <th>3</th>\n",
       "      <td>486087</td>\n",
       "      <td>muc888, james5068, rudi5955, daniel9859, don92...</td>\n",
       "      <td>13</td>\n",
       "    </tr>\n",
       "    <tr>\n",
       "      <th>4</th>\n",
       "      <td>534428</td>\n",
       "      <td>muc888, niki3008, teresa9174, mike4896, david7...</td>\n",
       "      <td>19</td>\n",
       "    </tr>\n",
       "  </tbody>\n",
       "</table>\n",
       "</div>"
      ],
      "text/plain": [
       "   LOAN_ID                                            LENDERS  num_lenders\n",
       "0   483693  muc888, sam4326, camaran3922, lachheb1865, reb...           40\n",
       "1   483738  muc888, nora3555, williammanashi, barbara5610,...           15\n",
       "2   485000  muc888, terrystl, richardandsusan8352, sherri4...           15\n",
       "3   486087  muc888, james5068, rudi5955, daniel9859, don92...           13\n",
       "4   534428  muc888, niki3008, teresa9174, mike4896, david7...           19"
      ]
     },
     "execution_count": 8,
     "metadata": {},
     "output_type": "execute_result"
    }
   ],
   "source": [
    "ll.head()"
   ]
  },
  {
   "cell_type": "markdown",
   "metadata": {},
   "source": [
    "We now have the total number of lenders for each loan! "
   ]
  },
  {
   "cell_type": "code",
   "execution_count": 9,
   "metadata": {},
   "outputs": [
    {
     "data": {
      "text/plain": [
       "(array([ 35440.,  78594., 121851., 129825., 127073., 108458.,  94743.,\n",
       "         82799.,  72173.,  62840.,  52798.,  45903.,  40355.,  35947.,\n",
       "         32293.,  29318.,  26721.,  23747.,  19857.,  15798.,  13052.,\n",
       "         10877.,   9384.,   8250.,   7515.,   6840.,   5891.,   5140.,\n",
       "          4715.,   4483.,   4194.,   4002.,   3803.,   3501.,   3214.,\n",
       "          3209.,   2780.,   2693.,   2514.,   2453.,   2337.,   2280.,\n",
       "          2196.,   2013.,   1934.,   1876.,   1676.,   1721.,   1532.,\n",
       "          2166.]),\n",
       " array([  0.,   2.,   4.,   6.,   8.,  10.,  12.,  14.,  16.,  18.,  20.,\n",
       "         22.,  24.,  26.,  28.,  30.,  32.,  34.,  36.,  38.,  40.,  42.,\n",
       "         44.,  46.,  48.,  50.,  52.,  54.,  56.,  58.,  60.,  62.,  64.,\n",
       "         66.,  68.,  70.,  72.,  74.,  76.,  78.,  80.,  82.,  84.,  86.,\n",
       "         88.,  90.,  92.,  94.,  96.,  98., 100.]),\n",
       " <a list of 50 Patch objects>)"
      ]
     },
     "execution_count": 9,
     "metadata": {},
     "output_type": "execute_result"
    },
    {
     "data": {
      "image/png": "[encoded data removed]",
      "text/plain": [
       "<matplotlib.figure.Figure at 0x1a427bf828>"
      ]
     },
     "metadata": {},
     "output_type": "display_data"
    }
   ],
   "source": [
    "plt.hist(ll['num_lenders'], range = [0, 100], bins=50)"
   ]
  },
  {
   "cell_type": "code",
   "execution_count": 10,
   "metadata": {},
   "outputs": [
    {
     "name": "stdout",
     "output_type": "stream",
     "text": [
      "The mean number of lenders per loan is  20.39302178413068\n",
      "The median number of lenders per loan is  13.0\n",
      "The max number of lenders per loan is  2888\n",
      "The min number of lenders per loan is  1\n"
     ]
    }
   ],
   "source": [
    "print (\"The mean number of lenders per loan is \", ll.num_lenders.mean())\n",
    "print (\"The median number of lenders per loan is \", ll.num_lenders.median())\n",
    "print (\"The max number of lenders per loan is \", ll.num_lenders.max())\n",
    "print (\"The min number of lenders per loan is \", ll.num_lenders.min())"
   ]
  },
  {
   "cell_type": "markdown",
   "metadata": {},
   "source": [
    "Top 5/10 lenders by country"
   ]
  },
  {
   "cell_type": "markdown",
   "metadata": {},
   "source": [
    "<h4> Next, we load in the big loans file. This contains loan level details on the borrowers. Their names, description, amount requested, amount funded etc </h4>"
   ]
  },
  {
   "cell_type": "code",
   "execution_count": 11,
   "metadata": {},
   "outputs": [],
   "source": [
    "chunksize = 100000\n",
    "chunks = []\n",
    "for chunk in pd.read_csv('loans.csv', chunksize=chunksize, low_memory=False):\n",
    "    chunks.append(chunk)\n",
    "df = pd.concat(chunks, axis=0)"
   ]
  },
  {
   "cell_type": "code",
   "execution_count": 12,
   "metadata": {},
   "outputs": [
    {
     "data": {
      "text/html": [
       "<div>\n",
       "<style scoped>\n",
       "    .dataframe tbody tr th:only-of-type {\n",
       "        vertical-align: middle;\n",
       "    }\n",
       "\n",
       "    .dataframe tbody tr th {\n",
       "        vertical-align: top;\n",
       "    }\n",
       "\n",
       "    .dataframe thead th {\n",
       "        text-align: right;\n",
       "    }\n",
       "</style>\n",
       "<table border=\"1\" class=\"dataframe\">\n",
       "  <thead>\n",
       "    <tr style=\"text-align: right;\">\n",
       "      <th></th>\n",
       "      <th>LOAN_ID</th>\n",
       "      <th>LOAN_NAME</th>\n",
       "      <th>ORIGINAL_LANGUAGE</th>\n",
       "      <th>DESCRIPTION</th>\n",
       "      <th>DESCRIPTION_TRANSLATED</th>\n",
       "      <th>FUNDED_AMOUNT</th>\n",
       "      <th>LOAN_AMOUNT</th>\n",
       "      <th>STATUS</th>\n",
       "      <th>IMAGE_ID</th>\n",
       "      <th>VIDEO_ID</th>\n",
       "      <th>...</th>\n",
       "      <th>LENDER_TERM</th>\n",
       "      <th>NUM_LENDERS_TOTAL</th>\n",
       "      <th>NUM_JOURNAL_ENTRIES</th>\n",
       "      <th>NUM_BULK_ENTRIES</th>\n",
       "      <th>TAGS</th>\n",
       "      <th>BORROWER_NAMES</th>\n",
       "      <th>BORROWER_GENDERS</th>\n",
       "      <th>BORROWER_PICTURED</th>\n",
       "      <th>REPAYMENT_INTERVAL</th>\n",
       "      <th>DISTRIBUTION_MODEL</th>\n",
       "    </tr>\n",
       "  </thead>\n",
       "  <tbody>\n",
       "    <tr>\n",
       "      <th>0</th>\n",
       "      <td>657307</td>\n",
       "      <td>Aivy</td>\n",
       "      <td>English</td>\n",
       "      <td>Aivy, 21 years of age, is single and lives in ...</td>\n",
       "      <td>NaN</td>\n",
       "      <td>125.0</td>\n",
       "      <td>125.0</td>\n",
       "      <td>funded</td>\n",
       "      <td>1511246.0</td>\n",
       "      <td>NaN</td>\n",
       "      <td>...</td>\n",
       "      <td>7.0</td>\n",
       "      <td>3</td>\n",
       "      <td>2</td>\n",
       "      <td>1</td>\n",
       "      <td>NaN</td>\n",
       "      <td>Aivy</td>\n",
       "      <td>female</td>\n",
       "      <td>true</td>\n",
       "      <td>irregular</td>\n",
       "      <td>field_partner</td>\n",
       "    </tr>\n",
       "    <tr>\n",
       "      <th>1</th>\n",
       "      <td>657259</td>\n",
       "      <td>Idalia Marizza</td>\n",
       "      <td>Spanish</td>\n",
       "      <td>Doña Idalia, esta casada, tiene 57 años de eda...</td>\n",
       "      <td>Idalia, 57, is married and lives with her husb...</td>\n",
       "      <td>400.0</td>\n",
       "      <td>400.0</td>\n",
       "      <td>funded</td>\n",
       "      <td>1507947.0</td>\n",
       "      <td>NaN</td>\n",
       "      <td>...</td>\n",
       "      <td>8.0</td>\n",
       "      <td>11</td>\n",
       "      <td>2</td>\n",
       "      <td>1</td>\n",
       "      <td>NaN</td>\n",
       "      <td>Idalia Marizza</td>\n",
       "      <td>female</td>\n",
       "      <td>true</td>\n",
       "      <td>monthly</td>\n",
       "      <td>field_partner</td>\n",
       "    </tr>\n",
       "    <tr>\n",
       "      <th>2</th>\n",
       "      <td>658010</td>\n",
       "      <td>Aasia</td>\n",
       "      <td>English</td>\n",
       "      <td>Aasia is a 45-year-old married lady and she ha...</td>\n",
       "      <td>NaN</td>\n",
       "      <td>400.0</td>\n",
       "      <td>400.0</td>\n",
       "      <td>funded</td>\n",
       "      <td>1512245.0</td>\n",
       "      <td>NaN</td>\n",
       "      <td>...</td>\n",
       "      <td>14.0</td>\n",
       "      <td>16</td>\n",
       "      <td>2</td>\n",
       "      <td>1</td>\n",
       "      <td>#Woman Owned Biz, #Supporting Family, user_fav...</td>\n",
       "      <td>Aasia</td>\n",
       "      <td>female</td>\n",
       "      <td>true</td>\n",
       "      <td>monthly</td>\n",
       "      <td>field_partner</td>\n",
       "    </tr>\n",
       "    <tr>\n",
       "      <th>3</th>\n",
       "      <td>659347</td>\n",
       "      <td>Gulmira</td>\n",
       "      <td>Russian</td>\n",
       "      <td>Гулмире 36 лет, замужем, вместе с супругом вос...</td>\n",
       "      <td>Gulmira is 36 years old and married.  She and ...</td>\n",
       "      <td>625.0</td>\n",
       "      <td>625.0</td>\n",
       "      <td>funded</td>\n",
       "      <td>1514419.0</td>\n",
       "      <td>NaN</td>\n",
       "      <td>...</td>\n",
       "      <td>14.0</td>\n",
       "      <td>21</td>\n",
       "      <td>2</td>\n",
       "      <td>1</td>\n",
       "      <td>user_favorite</td>\n",
       "      <td>Gulmira</td>\n",
       "      <td>female</td>\n",
       "      <td>true</td>\n",
       "      <td>monthly</td>\n",
       "      <td>field_partner</td>\n",
       "    </tr>\n",
       "    <tr>\n",
       "      <th>4</th>\n",
       "      <td>656933</td>\n",
       "      <td>Ricky\\t</td>\n",
       "      <td>English</td>\n",
       "      <td>Ricky is a farmer who currently cultivates his...</td>\n",
       "      <td>NaN</td>\n",
       "      <td>425.0</td>\n",
       "      <td>425.0</td>\n",
       "      <td>funded</td>\n",
       "      <td>1506830.0</td>\n",
       "      <td>NaN</td>\n",
       "      <td>...</td>\n",
       "      <td>7.0</td>\n",
       "      <td>15</td>\n",
       "      <td>2</td>\n",
       "      <td>1</td>\n",
       "      <td>#Animals, #Eco-friendly, #Sustainable Ag</td>\n",
       "      <td>Ricky\\t</td>\n",
       "      <td>male</td>\n",
       "      <td>true</td>\n",
       "      <td>bullet</td>\n",
       "      <td>field_partner</td>\n",
       "    </tr>\n",
       "  </tbody>\n",
       "</table>\n",
       "<p>5 rows × 34 columns</p>\n",
       "</div>"
      ],
      "text/plain": [
       "   LOAN_ID       LOAN_NAME ORIGINAL_LANGUAGE  \\\n",
       "0   657307            Aivy           English   \n",
       "1   657259  Idalia Marizza           Spanish   \n",
       "2   658010           Aasia           English   \n",
       "3   659347         Gulmira           Russian   \n",
       "4   656933         Ricky\\t           English   \n",
       "\n",
       "                                         DESCRIPTION  \\\n",
       "0  Aivy, 21 years of age, is single and lives in ...   \n",
       "1  Doña Idalia, esta casada, tiene 57 años de eda...   \n",
       "2  Aasia is a 45-year-old married lady and she ha...   \n",
       "3  Гулмире 36 лет, замужем, вместе с супругом вос...   \n",
       "4  Ricky is a farmer who currently cultivates his...   \n",
       "\n",
       "                              DESCRIPTION_TRANSLATED  FUNDED_AMOUNT  \\\n",
       "0                                                NaN          125.0   \n",
       "1  Idalia, 57, is married and lives with her husb...          400.0   \n",
       "2                                                NaN          400.0   \n",
       "3  Gulmira is 36 years old and married.  She and ...          625.0   \n",
       "4                                                NaN          425.0   \n",
       "\n",
       "   LOAN_AMOUNT  STATUS   IMAGE_ID  VIDEO_ID         ...         LENDER_TERM  \\\n",
       "0        125.0  funded  1511246.0       NaN         ...                 7.0   \n",
       "1        400.0  funded  1507947.0       NaN         ...                 8.0   \n",
       "2        400.0  funded  1512245.0       NaN         ...                14.0   \n",
       "3        625.0  funded  1514419.0       NaN         ...                14.0   \n",
       "4        425.0  funded  1506830.0       NaN         ...                 7.0   \n",
       "\n",
       "  NUM_LENDERS_TOTAL NUM_JOURNAL_ENTRIES NUM_BULK_ENTRIES  \\\n",
       "0                 3                   2                1   \n",
       "1                11                   2                1   \n",
       "2                16                   2                1   \n",
       "3                21                   2                1   \n",
       "4                15                   2                1   \n",
       "\n",
       "                                                TAGS  BORROWER_NAMES  \\\n",
       "0                                                NaN            Aivy   \n",
       "1                                                NaN  Idalia Marizza   \n",
       "2  #Woman Owned Biz, #Supporting Family, user_fav...           Aasia   \n",
       "3                                      user_favorite         Gulmira   \n",
       "4           #Animals, #Eco-friendly, #Sustainable Ag         Ricky\\t   \n",
       "\n",
       "  BORROWER_GENDERS  BORROWER_PICTURED REPAYMENT_INTERVAL  DISTRIBUTION_MODEL  \n",
       "0           female               true          irregular       field_partner  \n",
       "1           female               true            monthly       field_partner  \n",
       "2           female               true            monthly       field_partner  \n",
       "3           female               true            monthly       field_partner  \n",
       "4             male               true             bullet       field_partner  \n",
       "\n",
       "[5 rows x 34 columns]"
      ]
     },
     "execution_count": 12,
     "metadata": {},
     "output_type": "execute_result"
    }
   ],
   "source": [
    "df.head()"
   ]
  },
  {
   "cell_type": "code",
   "execution_count": 13,
   "metadata": {},
   "outputs": [],
   "source": [
    "lp = df.merge(ll, left_on=\"LOAN_ID\", right_on=\"LOAN_ID\")"
   ]
  },
  {
   "cell_type": "code",
   "execution_count": 14,
   "metadata": {},
   "outputs": [
    {
     "data": {
      "text/plain": [
       "LOAN_ID                            0.000000\n",
       "LOAN_NAME                          0.033894\n",
       "ORIGINAL_LANGUAGE                  0.030805\n",
       "DESCRIPTION                        0.030828\n",
       "DESCRIPTION_TRANSLATED             0.325073\n",
       "FUNDED_AMOUNT                      0.000000\n",
       "LOAN_AMOUNT                        0.000000\n",
       "STATUS                             0.000000\n",
       "IMAGE_ID                           0.030805\n",
       "VIDEO_ID                           0.999568\n",
       "ACTIVITY_NAME                      0.000000\n",
       "SECTOR_NAME                        0.000000\n",
       "LOAN_USE                           0.030820\n",
       "COUNTRY_CODE                       0.000006\n",
       "COUNTRY_NAME                       0.000000\n",
       "TOWN_NAME                          0.115176\n",
       "CURRENCY_POLICY                    0.000000\n",
       "CURRENCY_EXCHANGE_COVERAGE_RATE    0.230156\n",
       "CURRENCY                           0.000000\n",
       "PARTNER_ID                         0.011248\n",
       "POSTED_TIME                        0.000000\n",
       "PLANNED_EXPIRATION_TIME            0.267206\n",
       "DISBURSE_TIME                      0.001197\n",
       "RAISED_TIME                        0.044305\n",
       "LENDER_TERM                        0.000017\n",
       "NUM_LENDERS_TOTAL                  0.000000\n",
       "NUM_JOURNAL_ENTRIES                0.000000\n",
       "NUM_BULK_ENTRIES                   0.000000\n",
       "TAGS                               0.546713\n",
       "BORROWER_NAMES                     0.033894\n",
       "BORROWER_GENDERS                   0.030805\n",
       "BORROWER_PICTURED                  0.030805\n",
       "REPAYMENT_INTERVAL                 0.000000\n",
       "DISTRIBUTION_MODEL                 0.000000\n",
       "LENDERS                            0.000000\n",
       "num_lenders                        0.000000\n",
       "dtype: float64"
      ]
     },
     "execution_count": 14,
     "metadata": {},
     "output_type": "execute_result"
    }
   ],
   "source": [
    "lp.isnull().sum()/lp.shape[0]"
   ]
  },
  {
   "cell_type": "code",
   "execution_count": 15,
   "metadata": {},
   "outputs": [],
   "source": [
    "'''Make everything lower case '''\n",
    "lp.columns = [x.lower() for x in lp.columns]"
   ]
  },
  {
   "cell_type": "markdown",
   "metadata": {},
   "source": [
    "\n",
    "<ul> <b> Key Observations : </b>\n",
    "    <li> Description translated fields have many missing values. This is likely because they were already written in English and do not need translations <b> (32% missing) </b> </li>\n",
    "  <li> Planned expiration time <b> (26% missing) </b>.  </li>\n",
    "  <li> Currency exchange coverage rates <b> (23% missing) </b> </li>\n",
    "  <li> Tags <b> (54% missing)</b> </li>\n",
    "</ul>"
   ]
  },
  {
   "cell_type": "markdown",
   "metadata": {},
   "source": [
    "<h4> Testing to see how many non English entries are missing a translation </h4>"
   ]
  },
  {
   "cell_type": "code",
   "execution_count": 16,
   "metadata": {},
   "outputs": [],
   "source": [
    "lp_non_eng = lp[lp.original_language != 'English']"
   ]
  },
  {
   "cell_type": "code",
   "execution_count": 17,
   "metadata": {},
   "outputs": [
    {
     "data": {
      "text/plain": [
       "loan_id                            0.000000\n",
       "loan_name                          0.094033\n",
       "original_language                  0.087905\n",
       "description                        0.087905\n",
       "description_translated             0.131955\n",
       "funded_amount                      0.000000\n",
       "loan_amount                        0.000000\n",
       "status                             0.000000\n",
       "image_id                           0.087905\n",
       "video_id                           0.999800\n",
       "activity_name                      0.000000\n",
       "sector_name                        0.000000\n",
       "loan_use                           0.087926\n",
       "country_code                       0.000000\n",
       "country_name                       0.000000\n",
       "town_name                          0.195253\n",
       "currency_policy                    0.000000\n",
       "currency_exchange_coverage_rate    0.292859\n",
       "currency                           0.000000\n",
       "partner_id                         0.000825\n",
       "posted_time                        0.000000\n",
       "planned_expiration_time            0.312626\n",
       "disburse_time                      0.000806\n",
       "raised_time                        0.055051\n",
       "lender_term                        0.000002\n",
       "num_lenders_total                  0.000000\n",
       "num_journal_entries                0.000000\n",
       "num_bulk_entries                   0.000000\n",
       "tags                               0.568683\n",
       "borrower_names                     0.094033\n",
       "borrower_genders                   0.087905\n",
       "borrower_pictured                  0.087905\n",
       "repayment_interval                 0.000000\n",
       "distribution_model                 0.000000\n",
       "lenders                            0.000000\n",
       "num_lenders                        0.000000\n",
       "dtype: float64"
      ]
     },
     "execution_count": 17,
     "metadata": {},
     "output_type": "execute_result"
    }
   ],
   "source": [
    "lp_non_eng.isnull().sum()/lp_non_eng.shape[0]"
   ]
  },
  {
   "cell_type": "markdown",
   "metadata": {},
   "source": [
    "<h4>It looks like even for non-English loans, 64k entries are missing a translation. This represents 13% of non-English entries. </h4>"
   ]
  },
  {
   "cell_type": "markdown",
   "metadata": {},
   "source": [
    "<h3> Conduct some exploratory analysis on the master loans table </h3>"
   ]
  },
  {
   "cell_type": "code",
   "execution_count": 18,
   "metadata": {},
   "outputs": [
    {
     "data": {
      "text/plain": [
       "<matplotlib.axes._subplots.AxesSubplot at 0x10f105cc0>"
      ]
     },
     "execution_count": 18,
     "metadata": {},
     "output_type": "execute_result"
    },
    {
     "data": {
      "image/png": "[encoded data removed]",
      "text/plain": [
       "<matplotlib.figure.Figure at 0x1a9b08a240>"
      ]
     },
     "metadata": {},
     "output_type": "display_data"
    }
   ],
   "source": [
    "plt.figure(figsize=(14,6))\n",
    "sns.countplot(x=\"status\", data=lp, palette=\"cubehelix\")"
   ]
  },
  {
   "cell_type": "code",
   "execution_count": 19,
   "metadata": {},
   "outputs": [
    {
     "data": {
      "text/plain": [
       "status\n",
       "expired          57716\n",
       "fundRaising       2535\n",
       "funded         1320997\n",
       "refunded          6180\n",
       "dtype: int64"
      ]
     },
     "execution_count": 19,
     "metadata": {},
     "output_type": "execute_result"
    }
   ],
   "source": [
    "grouped = lp.groupby(\"status\")\n",
    "grouped.size()"
   ]
  },
  {
   "cell_type": "code",
   "execution_count": 20,
   "metadata": {},
   "outputs": [
    {
     "data": {
      "text/plain": [
       "8     63517\n",
       "9     61445\n",
       "7     59359\n",
       "10    58630\n",
       "5     58039\n",
       "6     52328\n",
       "12    51297\n",
       "11    51214\n",
       "13    45634\n",
       "14    44501\n",
       "Name: num_lenders_total, dtype: int64"
      ]
     },
     "execution_count": 20,
     "metadata": {},
     "output_type": "execute_result"
    }
   ],
   "source": [
    "lp['num_lenders_total'].value_counts().head(10)"
   ]
  },
  {
   "cell_type": "code",
   "execution_count": 21,
   "metadata": {},
   "outputs": [
    {
     "data": {
      "text/plain": [
       "7     66463\n",
       "8     65508\n",
       "5     64184\n",
       "6     63362\n",
       "9     61565\n",
       "4     57666\n",
       "10    56630\n",
       "11    51827\n",
       "12    48839\n",
       "13    45904\n",
       "Name: num_lenders, dtype: int64"
      ]
     },
     "execution_count": 21,
     "metadata": {},
     "output_type": "execute_result"
    }
   ],
   "source": [
    "lp['num_lenders'].value_counts().head(10)"
   ]
  },
  {
   "cell_type": "markdown",
   "metadata": {},
   "source": [
    "Isolate rows where these fields are not the same"
   ]
  },
  {
   "cell_type": "code",
   "execution_count": 22,
   "metadata": {},
   "outputs": [
    {
     "data": {
      "text/html": [
       "<div>\n",
       "<style scoped>\n",
       "    .dataframe tbody tr th:only-of-type {\n",
       "        vertical-align: middle;\n",
       "    }\n",
       "\n",
       "    .dataframe tbody tr th {\n",
       "        vertical-align: top;\n",
       "    }\n",
       "\n",
       "    .dataframe thead th {\n",
       "        text-align: right;\n",
       "    }\n",
       "</style>\n",
       "<table border=\"1\" class=\"dataframe\">\n",
       "  <thead>\n",
       "    <tr style=\"text-align: right;\">\n",
       "      <th></th>\n",
       "      <th>loan_id</th>\n",
       "      <th>loan_name</th>\n",
       "      <th>original_language</th>\n",
       "      <th>description</th>\n",
       "      <th>description_translated</th>\n",
       "      <th>funded_amount</th>\n",
       "      <th>loan_amount</th>\n",
       "      <th>status</th>\n",
       "      <th>image_id</th>\n",
       "      <th>video_id</th>\n",
       "      <th>...</th>\n",
       "      <th>num_journal_entries</th>\n",
       "      <th>num_bulk_entries</th>\n",
       "      <th>tags</th>\n",
       "      <th>borrower_names</th>\n",
       "      <th>borrower_genders</th>\n",
       "      <th>borrower_pictured</th>\n",
       "      <th>repayment_interval</th>\n",
       "      <th>distribution_model</th>\n",
       "      <th>lenders</th>\n",
       "      <th>num_lenders</th>\n",
       "    </tr>\n",
       "  </thead>\n",
       "  <tbody>\n",
       "    <tr>\n",
       "      <th>0</th>\n",
       "      <td>657307</td>\n",
       "      <td>Aivy</td>\n",
       "      <td>English</td>\n",
       "      <td>Aivy, 21 years of age, is single and lives in ...</td>\n",
       "      <td>NaN</td>\n",
       "      <td>125.0</td>\n",
       "      <td>125.0</td>\n",
       "      <td>funded</td>\n",
       "      <td>1511246.0</td>\n",
       "      <td>NaN</td>\n",
       "      <td>...</td>\n",
       "      <td>2</td>\n",
       "      <td>1</td>\n",
       "      <td>NaN</td>\n",
       "      <td>Aivy</td>\n",
       "      <td>female</td>\n",
       "      <td>true</td>\n",
       "      <td>irregular</td>\n",
       "      <td>field_partner</td>\n",
       "      <td>spencer5657, matthew8640, larry71496105</td>\n",
       "      <td>3</td>\n",
       "    </tr>\n",
       "    <tr>\n",
       "      <th>1</th>\n",
       "      <td>657259</td>\n",
       "      <td>Idalia Marizza</td>\n",
       "      <td>Spanish</td>\n",
       "      <td>Doña Idalia, esta casada, tiene 57 años de eda...</td>\n",
       "      <td>Idalia, 57, is married and lives with her husb...</td>\n",
       "      <td>400.0</td>\n",
       "      <td>400.0</td>\n",
       "      <td>funded</td>\n",
       "      <td>1507947.0</td>\n",
       "      <td>NaN</td>\n",
       "      <td>...</td>\n",
       "      <td>2</td>\n",
       "      <td>1</td>\n",
       "      <td>NaN</td>\n",
       "      <td>Idalia Marizza</td>\n",
       "      <td>female</td>\n",
       "      <td>true</td>\n",
       "      <td>monthly</td>\n",
       "      <td>field_partner</td>\n",
       "      <td>ltr, andrew5306, dana9865, WHYu, robert9784528...</td>\n",
       "      <td>7</td>\n",
       "    </tr>\n",
       "    <tr>\n",
       "      <th>2</th>\n",
       "      <td>658010</td>\n",
       "      <td>Aasia</td>\n",
       "      <td>English</td>\n",
       "      <td>Aasia is a 45-year-old married lady and she ha...</td>\n",
       "      <td>NaN</td>\n",
       "      <td>400.0</td>\n",
       "      <td>400.0</td>\n",
       "      <td>funded</td>\n",
       "      <td>1512245.0</td>\n",
       "      <td>NaN</td>\n",
       "      <td>...</td>\n",
       "      <td>2</td>\n",
       "      <td>1</td>\n",
       "      <td>#Woman Owned Biz, #Supporting Family, user_fav...</td>\n",
       "      <td>Aasia</td>\n",
       "      <td>female</td>\n",
       "      <td>true</td>\n",
       "      <td>monthly</td>\n",
       "      <td>field_partner</td>\n",
       "      <td>kathy3100, omar7511, amirali5409, bingo, genie...</td>\n",
       "      <td>14</td>\n",
       "    </tr>\n",
       "  </tbody>\n",
       "</table>\n",
       "<p>3 rows × 36 columns</p>\n",
       "</div>"
      ],
      "text/plain": [
       "   loan_id       loan_name original_language  \\\n",
       "0   657307            Aivy           English   \n",
       "1   657259  Idalia Marizza           Spanish   \n",
       "2   658010           Aasia           English   \n",
       "\n",
       "                                         description  \\\n",
       "0  Aivy, 21 years of age, is single and lives in ...   \n",
       "1  Doña Idalia, esta casada, tiene 57 años de eda...   \n",
       "2  Aasia is a 45-year-old married lady and she ha...   \n",
       "\n",
       "                              description_translated  funded_amount  \\\n",
       "0                                                NaN          125.0   \n",
       "1  Idalia, 57, is married and lives with her husb...          400.0   \n",
       "2                                                NaN          400.0   \n",
       "\n",
       "   loan_amount  status   image_id  video_id     ...      num_journal_entries  \\\n",
       "0        125.0  funded  1511246.0       NaN     ...                        2   \n",
       "1        400.0  funded  1507947.0       NaN     ...                        2   \n",
       "2        400.0  funded  1512245.0       NaN     ...                        2   \n",
       "\n",
       "  num_bulk_entries                                               tags  \\\n",
       "0                1                                                NaN   \n",
       "1                1                                                NaN   \n",
       "2                1  #Woman Owned Biz, #Supporting Family, user_fav...   \n",
       "\n",
       "   borrower_names borrower_genders borrower_pictured repayment_interval  \\\n",
       "0            Aivy           female              true          irregular   \n",
       "1  Idalia Marizza           female              true            monthly   \n",
       "2           Aasia           female              true            monthly   \n",
       "\n",
       "   distribution_model                                            lenders  \\\n",
       "0       field_partner            spencer5657, matthew8640, larry71496105   \n",
       "1       field_partner  ltr, andrew5306, dana9865, WHYu, robert9784528...   \n",
       "2       field_partner  kathy3100, omar7511, amirali5409, bingo, genie...   \n",
       "\n",
       "   num_lenders  \n",
       "0            3  \n",
       "1            7  \n",
       "2           14  \n",
       "\n",
       "[3 rows x 36 columns]"
      ]
     },
     "execution_count": 22,
     "metadata": {},
     "output_type": "execute_result"
    }
   ],
   "source": [
    "lp.head(3)"
   ]
  },
  {
   "cell_type": "markdown",
   "metadata": {},
   "source": [
    "<h4> There is a discrepancy in our calculated \"number of lenders\" vs those in the loans table. Technically these should be the same. </h4>"
   ]
  },
  {
   "cell_type": "markdown",
   "metadata": {},
   "source": [
    "There are certain values here that will not be relevant to our analysis. These include image_id, video_id and town_name. Other variables, such as tags have too many missing values. I will also drop those for now. \"Description translated\" also has many missing values but I will keep those for now, as there may be some useful text analysis to come out of it in the future. "
   ]
  },
  {
   "cell_type": "code",
   "execution_count": 23,
   "metadata": {},
   "outputs": [],
   "source": [
    "lp.drop(['image_id', 'video_id','tags'], axis=1, inplace=True)"
   ]
  },
  {
   "cell_type": "markdown",
   "metadata": {},
   "source": [
    "<h4> Start by exploring loan amounts </h4>"
   ]
  },
  {
   "cell_type": "code",
   "execution_count": 24,
   "metadata": {},
   "outputs": [
    {
     "data": {
      "image/png": "[encoded data removed]",
      "text/plain": [
       "<matplotlib.figure.Figure at 0x1a9b09c048>"
      ]
     },
     "metadata": {},
     "output_type": "display_data"
    }
   ],
   "source": [
    "plt.figure(figsize=(9, 8))\n",
    "sns.distplot(lp['loan_amount'], color='g', bins=100,hist=False, kde_kws={'clip': (0.0, 4000)});"
   ]
  },
  {
   "cell_type": "code",
   "execution_count": 25,
   "metadata": {},
   "outputs": [
    {
     "name": "stdout",
     "output_type": "stream",
     "text": [
      "The mean loan amount is 838.5547754550146\n",
      "The max loan amount is 100000.0\n",
      "The min loan amount is 25.0\n"
     ]
    }
   ],
   "source": [
    "print (\"The mean loan amount is\", lp.loan_amount.mean())\n",
    "print (\"The max loan amount is\", lp.loan_amount.max())\n",
    "print (\"The min loan amount is\", lp.loan_amount.min())"
   ]
  },
  {
   "cell_type": "code",
   "execution_count": 26,
   "metadata": {},
   "outputs": [
    {
     "data": {
      "image/png": "[encoded data removed]",
      "text/plain": [
       "<matplotlib.figure.Figure at 0x1a3aa17550>"
      ]
     },
     "metadata": {},
     "output_type": "display_data"
    }
   ],
   "source": [
    "plt.figure(figsize=(9, 8))\n",
    "sns.distplot(lp['funded_amount'], color='b', bins=100,hist=False, kde_kws={'clip': (0.0, 5000)});"
   ]
  },
  {
   "cell_type": "code",
   "execution_count": 27,
   "metadata": {},
   "outputs": [
    {
     "name": "stdout",
     "output_type": "stream",
     "text": [
      "The mean funded loan amount is 805.7079898920881\n",
      "The max funded loan amount is 100000.0\n",
      "The min funded loan amount is 5.0\n"
     ]
    }
   ],
   "source": [
    "print (\"The mean funded loan amount is\", lp.funded_amount.mean())\n",
    "print (\"The max funded loan amount is\", lp.funded_amount.max())\n",
    "print (\"The min funded loan amount is\", lp.funded_amount.min())"
   ]
  },
  {
   "cell_type": "markdown",
   "metadata": {},
   "source": [
    "The mean funded loan amount is 33 lower than the requested amount. The max loan amount of 100k is funded ! The min funded loan amount of $5 looks like it may be an outlier. The minimum loan amount on Kiva is 25. "
   ]
  },
  {
   "cell_type": "code",
   "execution_count": 28,
   "metadata": {},
   "outputs": [
    {
     "data": {
      "text/html": [
       "<div>\n",
       "<style scoped>\n",
       "    .dataframe tbody tr th:only-of-type {\n",
       "        vertical-align: middle;\n",
       "    }\n",
       "\n",
       "    .dataframe tbody tr th {\n",
       "        vertical-align: top;\n",
       "    }\n",
       "\n",
       "    .dataframe thead th {\n",
       "        text-align: right;\n",
       "    }\n",
       "</style>\n",
       "<table border=\"1\" class=\"dataframe\">\n",
       "  <thead>\n",
       "    <tr style=\"text-align: right;\">\n",
       "      <th></th>\n",
       "      <th>loan_id</th>\n",
       "      <th>loan_name</th>\n",
       "      <th>original_language</th>\n",
       "      <th>description</th>\n",
       "      <th>description_translated</th>\n",
       "      <th>funded_amount</th>\n",
       "      <th>loan_amount</th>\n",
       "      <th>status</th>\n",
       "      <th>activity_name</th>\n",
       "      <th>sector_name</th>\n",
       "      <th>...</th>\n",
       "      <th>num_lenders_total</th>\n",
       "      <th>num_journal_entries</th>\n",
       "      <th>num_bulk_entries</th>\n",
       "      <th>borrower_names</th>\n",
       "      <th>borrower_genders</th>\n",
       "      <th>borrower_pictured</th>\n",
       "      <th>repayment_interval</th>\n",
       "      <th>distribution_model</th>\n",
       "      <th>lenders</th>\n",
       "      <th>num_lenders</th>\n",
       "    </tr>\n",
       "  </thead>\n",
       "  <tbody>\n",
       "    <tr>\n",
       "      <th>135956</th>\n",
       "      <td>1089026</td>\n",
       "      <td>Brian</td>\n",
       "      <td>English</td>\n",
       "      <td>I grew up on the south side of Chicago, IL in ...</td>\n",
       "      <td>I grew up on the south side of Chicago, IL in ...</td>\n",
       "      <td>5.0</td>\n",
       "      <td>5000.0</td>\n",
       "      <td>expired</td>\n",
       "      <td>Construction</td>\n",
       "      <td>Construction</td>\n",
       "      <td>...</td>\n",
       "      <td>1</td>\n",
       "      <td>1</td>\n",
       "      <td>1</td>\n",
       "      <td>Brian</td>\n",
       "      <td>male</td>\n",
       "      <td>true</td>\n",
       "      <td>bullet</td>\n",
       "      <td>direct</td>\n",
       "      <td>josie6558</td>\n",
       "      <td>1</td>\n",
       "    </tr>\n",
       "    <tr>\n",
       "      <th>725946</th>\n",
       "      <td>1089253</td>\n",
       "      <td>Treyvon</td>\n",
       "      <td>English</td>\n",
       "      <td>My name is Treyvon Wilson, I'm a student and s...</td>\n",
       "      <td>My name is Treyvon Wilson, I'm a student and s...</td>\n",
       "      <td>5.0</td>\n",
       "      <td>2950.0</td>\n",
       "      <td>expired</td>\n",
       "      <td>Entertainment</td>\n",
       "      <td>Entertainment</td>\n",
       "      <td>...</td>\n",
       "      <td>1</td>\n",
       "      <td>1</td>\n",
       "      <td>1</td>\n",
       "      <td>Treyvon</td>\n",
       "      <td>male</td>\n",
       "      <td>true</td>\n",
       "      <td>bullet</td>\n",
       "      <td>direct</td>\n",
       "      <td>trey4018</td>\n",
       "      <td>1</td>\n",
       "    </tr>\n",
       "    <tr>\n",
       "      <th>1038811</th>\n",
       "      <td>1079636</td>\n",
       "      <td>Marsha</td>\n",
       "      <td>English</td>\n",
       "      <td>I've always had a love of beauty from when i w...</td>\n",
       "      <td>I've always had a love of beauty from when i w...</td>\n",
       "      <td>5.0</td>\n",
       "      <td>5000.0</td>\n",
       "      <td>expired</td>\n",
       "      <td>Services</td>\n",
       "      <td>Services</td>\n",
       "      <td>...</td>\n",
       "      <td>1</td>\n",
       "      <td>1</td>\n",
       "      <td>1</td>\n",
       "      <td>Marsha</td>\n",
       "      <td>female</td>\n",
       "      <td>true</td>\n",
       "      <td>bullet</td>\n",
       "      <td>direct</td>\n",
       "      <td>jonnycprice</td>\n",
       "      <td>1</td>\n",
       "    </tr>\n",
       "    <tr>\n",
       "      <th>1190462</th>\n",
       "      <td>1088863</td>\n",
       "      <td>Ivette</td>\n",
       "      <td>English</td>\n",
       "      <td>I always say, I was made in Puerto Rico and bo...</td>\n",
       "      <td>I always say, I was made in Puerto Rico and bo...</td>\n",
       "      <td>5.0</td>\n",
       "      <td>500.0</td>\n",
       "      <td>expired</td>\n",
       "      <td>Services</td>\n",
       "      <td>Services</td>\n",
       "      <td>...</td>\n",
       "      <td>1</td>\n",
       "      <td>1</td>\n",
       "      <td>1</td>\n",
       "      <td>Ivette</td>\n",
       "      <td>female</td>\n",
       "      <td>true</td>\n",
       "      <td>bullet</td>\n",
       "      <td>direct</td>\n",
       "      <td>kmackay</td>\n",
       "      <td>1</td>\n",
       "    </tr>\n",
       "  </tbody>\n",
       "</table>\n",
       "<p>4 rows × 33 columns</p>\n",
       "</div>"
      ],
      "text/plain": [
       "         loan_id loan_name original_language  \\\n",
       "135956   1089026     Brian           English   \n",
       "725946   1089253   Treyvon           English   \n",
       "1038811  1079636    Marsha           English   \n",
       "1190462  1088863    Ivette           English   \n",
       "\n",
       "                                               description  \\\n",
       "135956   I grew up on the south side of Chicago, IL in ...   \n",
       "725946   My name is Treyvon Wilson, I'm a student and s...   \n",
       "1038811  I've always had a love of beauty from when i w...   \n",
       "1190462  I always say, I was made in Puerto Rico and bo...   \n",
       "\n",
       "                                    description_translated  funded_amount  \\\n",
       "135956   I grew up on the south side of Chicago, IL in ...            5.0   \n",
       "725946   My name is Treyvon Wilson, I'm a student and s...            5.0   \n",
       "1038811  I've always had a love of beauty from when i w...            5.0   \n",
       "1190462  I always say, I was made in Puerto Rico and bo...            5.0   \n",
       "\n",
       "         loan_amount   status  activity_name    sector_name     ...      \\\n",
       "135956        5000.0  expired   Construction   Construction     ...       \n",
       "725946        2950.0  expired  Entertainment  Entertainment     ...       \n",
       "1038811       5000.0  expired       Services       Services     ...       \n",
       "1190462        500.0  expired       Services       Services     ...       \n",
       "\n",
       "        num_lenders_total num_journal_entries num_bulk_entries borrower_names  \\\n",
       "135956                  1                   1                1          Brian   \n",
       "725946                  1                   1                1        Treyvon   \n",
       "1038811                 1                   1                1         Marsha   \n",
       "1190462                 1                   1                1         Ivette   \n",
       "\n",
       "        borrower_genders  borrower_pictured repayment_interval  \\\n",
       "135956              male               true             bullet   \n",
       "725946              male               true             bullet   \n",
       "1038811           female               true             bullet   \n",
       "1190462           female               true             bullet   \n",
       "\n",
       "         distribution_model      lenders num_lenders  \n",
       "135956               direct    josie6558           1  \n",
       "725946               direct     trey4018           1  \n",
       "1038811              direct  jonnycprice           1  \n",
       "1190462              direct      kmackay           1  \n",
       "\n",
       "[4 rows x 33 columns]"
      ]
     },
     "execution_count": 28,
     "metadata": {},
     "output_type": "execute_result"
    }
   ],
   "source": [
    "lp.loc[lp['funded_amount'] == 5]"
   ]
  },
  {
   "cell_type": "markdown",
   "metadata": {},
   "source": [
    "<h4> Ah, these loans are all expired. They did not manage to reach the loan_amount in each row. Still, this seems strange since you have to fund a minimum of 25 on each loan as a lender </h4>"
   ]
  },
  {
   "cell_type": "code",
   "execution_count": 33,
   "metadata": {},
   "outputs": [
    {
     "data": {
      "text/plain": [
       "<matplotlib.axes._subplots.AxesSubplot at 0x1ad2c78588>"
      ]
     },
     "execution_count": 33,
     "metadata": {},
     "output_type": "execute_result"
    },
    {
     "data": {
      "image/png": "[encoded data removed]",
      "text/plain": [
       "<matplotlib.figure.Figure at 0x1a82d596a0>"
      ]
     },
     "metadata": {},
     "output_type": "display_data"
    }
   ],
   "source": [
    "plt.figure(figsize=(20,6))\n",
    "sns.countplot(x=\"sector_name\", data=lp, palette='cubehelix')"
   ]
  },
  {
   "cell_type": "code",
   "execution_count": 30,
   "metadata": {},
   "outputs": [
    {
     "data": {
      "text/plain": [
       "Farming                      130849\n",
       "General Store                117129\n",
       "Retail                        69322\n",
       "Food Production/Sales         62960\n",
       "Agriculture                   58206\n",
       "Clothing Sales                58171\n",
       "Personal Housing Expenses     56471\n",
       "Grocery Store                 41669\n",
       "Pigs                          41455\n",
       "Fruits & Vegetables           35810\n",
       "Higher education costs        28557\n",
       "Food Market                   26467\n",
       "Home Appliances               25690\n",
       "Fish Selling                  25284\n",
       "Livestock                     24122\n",
       "Animal Sales                  21212\n",
       "Services                      20156\n",
       "Food Stall                    19926\n",
       "Tailoring                     19863\n",
       "Food                          18954\n",
       "Poultry                       17992\n",
       "Sewing                        17876\n",
       "Cattle                        17864\n",
       "Dairy                         16376\n",
       "Fishing                       15683\n",
       "Beauty Salon                  15459\n",
       "Motorcycle Transport          15329\n",
       "Cereals                       14004\n",
       "Cosmetics Sales               12871\n",
       "Restaurant                    12769\n",
       "                              ...  \n",
       "Tourism                         367\n",
       "Music Discs & Tapes             356\n",
       "Secretarial Services            354\n",
       "Phone Repair                    347\n",
       "Upholstery                      313\n",
       "Machine Shop                    311\n",
       "Machinery Rental                266\n",
       "Cleaning Services               264\n",
       "Energy                          263\n",
       "Religious Articles              216\n",
       "Musical Instruments             208\n",
       "Aquaculture                     207\n",
       "Bicycle Sales                   176\n",
       "Technology                      169\n",
       "Sporting Good Sales             161\n",
       "Computer                        139\n",
       "Air Conditioning                119\n",
       "Patchwork                       118\n",
       "Balut-Making                    113\n",
       "Florist                         107\n",
       "Communications                  105\n",
       "Well digging                    100\n",
       "Beekeeping                       91\n",
       "Funerals                         66\n",
       "Landscaping / Gardening          59\n",
       "Bookbinding                      56\n",
       "Film                             40\n",
       "Event Planning                   29\n",
       "Personal Care Products           26\n",
       "Celebrations                     10\n",
       "Name: activity_name, Length: 162, dtype: int64"
      ]
     },
     "execution_count": 30,
     "metadata": {},
     "output_type": "execute_result"
    }
   ],
   "source": [
    "lp.activity_name.value_counts()"
   ]
  },
  {
   "cell_type": "markdown",
   "metadata": {},
   "source": [
    "<h4> Definitely looks like there is a HEAVY correlation between activity types and sectors. Farming and agriculture are the most common loan uses </h4>"
   ]
  },
  {
   "cell_type": "code",
   "execution_count": 31,
   "metadata": {},
   "outputs": [
    {
     "data": {
      "text/plain": [
       "sector_name\n",
       "Personal Use       456.080922\n",
       "Housing            745.347832\n",
       "Transportation     746.514576\n",
       "Agriculture        801.842673\n",
       "Retail             812.144578\n",
       "Food               832.486518\n",
       "Manufacturing      868.704450\n",
       "Arts               935.902003\n",
       "Construction       952.787452\n",
       "Education          991.154439\n",
       "Services          1008.922389\n",
       "Clothing          1029.444078\n",
       "Health            1043.933476\n",
       "Entertainment     1301.755894\n",
       "Wholesale         1326.607143\n",
       "Name: loan_amount, dtype: float64"
      ]
     },
     "execution_count": 31,
     "metadata": {},
     "output_type": "execute_result"
    }
   ],
   "source": [
    "lp.groupby('sector_name')['loan_amount'].mean().sort_values()"
   ]
  },
  {
   "cell_type": "code",
   "execution_count": 32,
   "metadata": {},
   "outputs": [
    {
     "data": {
      "text/plain": [
       "sector_name\n",
       "Personal Use       435.138310\n",
       "Housing            688.967416\n",
       "Transportation     702.060567\n",
       "Agriculture        769.086679\n",
       "Retail             778.281295\n",
       "Food               806.982179\n",
       "Manufacturing      865.140327\n",
       "Arts               925.748064\n",
       "Construction       929.887216\n",
       "Services           959.163503\n",
       "Education          971.183521\n",
       "Clothing           989.127617\n",
       "Health            1001.380836\n",
       "Entertainment     1183.914538\n",
       "Wholesale         1289.321429\n",
       "Name: funded_amount, dtype: float64"
      ]
     },
     "execution_count": 32,
     "metadata": {},
     "output_type": "execute_result"
    }
   ],
   "source": [
    "lp.groupby('sector_name')['funded_amount'].mean().sort_values()"
   ]
  },
  {
   "cell_type": "code",
   "execution_count": 65,
   "metadata": {},
   "outputs": [],
   "source": [
    "group_by_sector = lp.groupby(['sector_name','status'])"
   ]
  },
  {
   "cell_type": "code",
   "execution_count": null,
   "metadata": {},
   "outputs": [],
   "source": [
    "group_by_sector.size()"
   ]
  },
  {
   "cell_type": "code",
   "execution_count": 34,
   "metadata": {},
   "outputs": [
    {
     "data": {
      "text/plain": [
       "<matplotlib.axes._subplots.AxesSubplot at 0x1a3aa0c940>"
      ]
     },
     "execution_count": 34,
     "metadata": {},
     "output_type": "execute_result"
    },
    {
     "data": {
      "image/png": "[encoded data removed]",
      "text/plain": [
       "<matplotlib.figure.Figure at 0x1a94d89278>"
      ]
     },
     "metadata": {},
     "output_type": "display_data"
    }
   ],
   "source": [
    "plt.figure(figsize=(20,6))\n",
    "sns.countplot(x=\"original_language\", data=lp, palette='rainbow')"
   ]
  },
  {
   "cell_type": "code",
   "execution_count": 35,
   "metadata": {},
   "outputs": [
    {
     "data": {
      "text/plain": [
       "<matplotlib.axes._subplots.AxesSubplot at 0x1a94b86940>"
      ]
     },
     "execution_count": 35,
     "metadata": {},
     "output_type": "execute_result"
    },
    {
     "data": {
      "image/png": "[encoded data removed]",
      "text/plain": [
       "<matplotlib.figure.Figure at 0x1a9aa5a358>"
      ]
     },
     "metadata": {},
     "output_type": "display_data"
    }
   ],
   "source": [
    "plt.figure(figsize=(20,6))\n",
    "sns.countplot(x=\"repayment_interval\", data=lp, palette='rainbow')"
   ]
  },
  {
   "cell_type": "code",
   "execution_count": 36,
   "metadata": {},
   "outputs": [
    {
     "data": {
      "text/plain": [
       "Philippines                         260541\n",
       "Kenya                               142817\n",
       "Peru                                 83961\n",
       "Cambodia                             79481\n",
       "El Salvador                          63754\n",
       "Uganda                               45691\n",
       "Pakistan                             44763\n",
       "Tajikistan                           43716\n",
       "Nicaragua                            42403\n",
       "Colombia                             33512\n",
       "Ecuador                              33347\n",
       "Bolivia                              25199\n",
       "Paraguay                             24520\n",
       "Ghana                                22070\n",
       "Vietnam                              21804\n",
       "Lebanon                              20009\n",
       "Nigeria                              19834\n",
       "Mexico                               19660\n",
       "Togo                                 17035\n",
       "Rwanda                               16725\n",
       "Samoa                                16390\n",
       "Tanzania                             16038\n",
       "Sierra Leone                         15554\n",
       "Honduras                             15054\n",
       "India                                15048\n",
       "Armenia                              13921\n",
       "Palestine                            13416\n",
       "Mali                                 13309\n",
       "Guatemala                            12852\n",
       "Senegal                              12060\n",
       "                                     ...  \n",
       "Solomon Islands                        903\n",
       "Chile                                  892\n",
       "Moldova                                732\n",
       "Lesotho                                648\n",
       "South Africa                           633\n",
       "Bosnia and Herzegovina                 607\n",
       "Brazil                                 482\n",
       "Israel                                 464\n",
       "Bulgaria                               293\n",
       "Suriname                               292\n",
       "Cote D'Ivoire                          281\n",
       "Sri Lanka                              264\n",
       "Thailand                               247\n",
       "Somalia                                227\n",
       "Belize                                 218\n",
       "Panama                                 196\n",
       "China                                  134\n",
       "Puerto Rico                             70\n",
       "Chad                                    61\n",
       "Saint Vincent and the Grenadines        16\n",
       "Namibia                                  9\n",
       "Gaza                                     8\n",
       "Vanuatu                                  4\n",
       "Guam                                     4\n",
       "Bhutan                                   2\n",
       "Canada                                   1\n",
       "Uruguay                                  1\n",
       "Botswana                                 1\n",
       "Papua New Guinea                         1\n",
       "Mauritania                               1\n",
       "Name: country_name, Length: 95, dtype: int64"
      ]
     },
     "execution_count": 36,
     "metadata": {},
     "output_type": "execute_result"
    }
   ],
   "source": [
    "lp.country_name.value_counts()"
   ]
  },
  {
   "cell_type": "markdown",
   "metadata": {},
   "source": [
    "<h4> Very interesting how Phillipines makes up majority of this sample! </h4>"
   ]
  },
  {
   "cell_type": "code",
   "execution_count": 37,
   "metadata": {},
   "outputs": [
    {
     "data": {
      "text/plain": [
       "female                                                                                                                                                                                                                                                                                                                847424\n",
       "male                                                                                                                                                                                                                                                                                                                  297023\n",
       "female, female, female                                                                                                                                                                                                                                                                                                 21607\n",
       "female, female                                                                                                                                                                                                                                                                                                         20015\n",
       "female, female, female, female, female                                                                                                                                                                                                                                                                                 18147\n",
       "female, female, female, female                                                                                                                                                                                                                                                                                         17575\n",
       "female, female, female, female, female, female                                                                                                                                                                                                                                                                          6332\n",
       "female, female, female, female, female, female, female, female, female, female                                                                                                                                                                                                                                          6117\n",
       "female, female, female, female, female, female, female                                                                                                                                                                                                                                                                  4507\n",
       "female, female, female, female, female, female, female, female                                                                                                                                                                                                                                                          4285\n",
       "female, female, female, female, female, female, female, female, female, female, female, female, female, female, female                                                                                                                                                                                                  2973\n",
       "female, female, female, female, female, female, female, female, female                                                                                                                                                                                                                                                  2872\n",
       "female, female, female, female, female, female, female, female, female, female, female, female, female, female, female, female, female                                                                                                                                                                                  2605\n",
       "male, female                                                                                                                                                                                                                                                                                                            2054\n",
       "female, male                                                                                                                                                                                                                                                                                                            2028\n",
       "female, female, female, female, female, female, female, female, female, female, female                                                                                                                                                                                                                                  1926\n",
       "female, female, female, female, female, female, female, female, female, female, female, female, female, female, female, female                                                                                                                                                                                          1797\n",
       "female, female, female, female, female, female, female, female, female, female, female, female                                                                                                                                                                                                                          1789\n",
       "female, female, female, female, female, female, female, female, female, female, female, female, female, female, female, female, female, female                                                                                                                                                                          1684\n",
       "male, male                                                                                                                                                                                                                                                                                                              1513\n",
       "female, male, female                                                                                                                                                                                                                                                                                                    1482\n",
       "female, female, male                                                                                                                                                                                                                                                                                                    1458\n",
       "male, female, female                                                                                                                                                                                                                                                                                                    1428\n",
       "female, female, female, female, female, female, female, female, female, female, female, female, female                                                                                                                                                                                                                  1424\n",
       "male, male, male                                                                                                                                                                                                                                                                                                        1290\n",
       "female, female, female, female, female, female, female, female, female, female, female, female, female, female                                                                                                                                                                                                          1257\n",
       "female, female, female, female, female, female, female, female, female, female, female, female, female, female, female, female, female, female, female                                                                                                                                                                  1209\n",
       "female, female, female, female, female, female, female, female, female, female, female, female, female, female, female, female, female, female, female, female                                                                                                                                                          1171\n",
       "female, male, female, female                                                                                                                                                                                                                                                                                            1014\n",
       "female, female, female, male                                                                                                                                                                                                                                                                                            1013\n",
       "                                                                                                                                                                                                                                                                                                                       ...  \n",
       "male, female, female, male, female, female, female, female, female, male, female, female, male, female, female                                                                                                                                                                                                             1\n",
       "male, male, male, female, male, female, male, male, male, male, male, male, male, male, male, male, male, male, male, female, male                                                                                                                                                                                         1\n",
       "female, female, female, female, male, female, male, female, female, female, male, female, female, female, male, male, male, female, female                                                                                                                                                                                 1\n",
       "male, male, female, female, female, female, female, female, female, female, female, female, male, female, male, female, male, male, male, female, male                                                                                                                                                                     1\n",
       "male, male, male, female, male, female, female, female, female, male, male                                                                                                                                                                                                                                                 1\n",
       "male, female, female, male, female, male, female, female, female, female, female, female, female, female, female, female                                                                                                                                                                                                   1\n",
       "male, female, female, female, female, female, female, male, female, female, female, female, female, female, female, female, female, female, female, male, female, female                                                                                                                                                   1\n",
       "male, female, female, female, female, female, female, female, male, female, female, male, female, female, female, female, female, female, male, female, female, male, male                                                                                                                                                 1\n",
       "male, male, female, female, male, female, female, male, female, female, female, female, female, female, female                                                                                                                                                                                                             1\n",
       "male, male, female, male, female, male, female, female, male, female, female, female                                                                                                                                                                                                                                       1\n",
       "female, male, female, female, male, female, female, male, male, male, male, female, male, female, female, male                                                                                                                                                                                                             1\n",
       "female, female, female, female, female, female, female, female, female, female, female, female, female, male, female, male, female, female, female, female, female, female, female, male, female, female, female                                                                                                           1\n",
       "female, female, female, male, male, female, male, male, male, female, female, female, female, female, female                                                                                                                                                                                                               1\n",
       "female, female, female, female, female, female, female, female, female, female, female, female, female, female, female, female, female, female, female, female, male, male, female, female, female, female, female, female, female, female, female, female, female, female, female, female, female, female, female         1\n",
       "female, female, male, female, female, male, female, female, male, male, female, male, female, male                                                                                                                                                                                                                         1\n",
       "female, female, female, male, female, male, female, male, female, female, male, female, female, male, female                                                                                                                                                                                                               1\n",
       "male, female, female, male, male, male, male, male, male, female, male, male, female, male, female, female                                                                                                                                                                                                                 1\n",
       "female, male, female, male, female, female, female, female, female, male, female, female, female, male, female, female, female                                                                                                                                                                                             1\n",
       "female, female, female, female, female, female, female, male, female, female, female, female, female, female, male, female, female, female, female, female, female, female, female, female, male, female                                                                                                                   1\n",
       "female, male, female, female, female, female, male, female, female, male, male, female, male                                                                                                                                                                                                                               1\n",
       "female, female, female, female, female, female, male, male, female, female, male, male, female, male, male, female, female, female                                                                                                                                                                                         1\n",
       "female, female, female, female, female, female, female, female, female, female, female, female, female, female, female, female, female, female, female, female, female, female, female, female, female, female, female, female, female, female, female, female, male, female, male, female                                 1\n",
       "male, male, female, female, male, male, male, female, female, male, male, female, male, male, female, female, male, male, male, male, male, male, male, male, male, male, female, female, male, male                                                                                                                       1\n",
       "male, male, female, female, female, female, female, female, female, female, male, male, male, female, female                                                                                                                                                                                                               1\n",
       "female, female, female, female, female, female, female, male, male, female, female, female, female, female, male, female, female                                                                                                                                                                                           1\n",
       "female, female, female, female, female, male, male, female, female, male, female                                                                                                                                                                                                                                           1\n",
       "female, male, male, male, male, male, female, male, male, female, female, female, female, female, male, female, male, male, female, female                                                                                                                                                                                 1\n",
       "female, female, male, female, female, female, female, female, female, female, male, female, male, female, female                                                                                                                                                                                                           1\n",
       "female, male, female, female, male, female, female, female, female, female, male, female, female, male, female, male                                                                                                                                                                                                       1\n",
       "male, female, male, female, male, female, female, female, male, female, male, female, female, male, female, female, female, male                                                                                                                                                                                           1\n",
       "Name: borrower_genders, Length: 17896, dtype: int64"
      ]
     },
     "execution_count": 37,
     "metadata": {},
     "output_type": "execute_result"
    }
   ],
   "source": [
    "lp.borrower_genders.value_counts()"
   ]
  },
  {
   "cell_type": "markdown",
   "metadata": {},
   "source": [
    "<h4> werid data due to group loans! </h4>\n"
   ]
  },
  {
   "cell_type": "code",
   "execution_count": 38,
   "metadata": {},
   "outputs": [],
   "source": [
    "def score_to_numeric(x):\n",
    "    if x=='funded':\n",
    "        return 1\n",
    "    if x=='expired':\n",
    "        return 0\n",
    "    if x=='refunded':\n",
    "        return 0\n",
    "    if x=='fundRaising':\n",
    "        return 0"
   ]
  },
  {
   "cell_type": "code",
   "execution_count": 39,
   "metadata": {},
   "outputs": [],
   "source": [
    "lp['status_num'] = lp['status'].apply(score_to_numeric)"
   ]
  },
  {
   "cell_type": "code",
   "execution_count": 40,
   "metadata": {},
   "outputs": [],
   "source": [
    "lp['funding_rate'] = lp['status_num']/lp['status_num'].sum()"
   ]
  },
  {
   "cell_type": "code",
   "execution_count": 42,
   "metadata": {},
   "outputs": [],
   "source": [
    "\n",
    "group_by_sector  = lp.groupby(['sector_name']).agg({'status_num': 'sum', 'loan_id': 'count'})"
   ]
  },
  {
   "cell_type": "code",
   "execution_count": 43,
   "metadata": {},
   "outputs": [],
   "source": [
    "group_by_sector['funding_rate'] = group_by_sector['status_num']/group_by_sector['loan_id']"
   ]
  },
  {
   "cell_type": "code",
   "execution_count": 44,
   "metadata": {},
   "outputs": [
    {
     "data": {
      "text/html": [
       "<div>\n",
       "<style scoped>\n",
       "    .dataframe tbody tr th:only-of-type {\n",
       "        vertical-align: middle;\n",
       "    }\n",
       "\n",
       "    .dataframe tbody tr th {\n",
       "        vertical-align: top;\n",
       "    }\n",
       "\n",
       "    .dataframe thead th {\n",
       "        text-align: right;\n",
       "    }\n",
       "</style>\n",
       "<table border=\"1\" class=\"dataframe\">\n",
       "  <thead>\n",
       "    <tr style=\"text-align: right;\">\n",
       "      <th></th>\n",
       "      <th>status_num</th>\n",
       "      <th>loan_id</th>\n",
       "      <th>funding_rate</th>\n",
       "    </tr>\n",
       "    <tr>\n",
       "      <th>sector_name</th>\n",
       "      <th></th>\n",
       "      <th></th>\n",
       "      <th></th>\n",
       "    </tr>\n",
       "  </thead>\n",
       "  <tbody>\n",
       "    <tr>\n",
       "      <th>Agriculture</th>\n",
       "      <td>321884</td>\n",
       "      <td>339344</td>\n",
       "      <td>0.948548</td>\n",
       "    </tr>\n",
       "    <tr>\n",
       "      <th>Arts</th>\n",
       "      <td>27279</td>\n",
       "      <td>27511</td>\n",
       "      <td>0.991567</td>\n",
       "    </tr>\n",
       "    <tr>\n",
       "      <th>Clothing</th>\n",
       "      <td>75812</td>\n",
       "      <td>80326</td>\n",
       "      <td>0.943804</td>\n",
       "    </tr>\n",
       "    <tr>\n",
       "      <th>Construction</th>\n",
       "      <td>18094</td>\n",
       "      <td>18664</td>\n",
       "      <td>0.969460</td>\n",
       "    </tr>\n",
       "    <tr>\n",
       "      <th>Education</th>\n",
       "      <td>44428</td>\n",
       "      <td>45390</td>\n",
       "      <td>0.978806</td>\n",
       "    </tr>\n",
       "    <tr>\n",
       "      <th>Entertainment</th>\n",
       "      <td>1951</td>\n",
       "      <td>2036</td>\n",
       "      <td>0.958251</td>\n",
       "    </tr>\n",
       "    <tr>\n",
       "      <th>Food</th>\n",
       "      <td>301959</td>\n",
       "      <td>313390</td>\n",
       "      <td>0.963525</td>\n",
       "    </tr>\n",
       "    <tr>\n",
       "      <th>Health</th>\n",
       "      <td>15612</td>\n",
       "      <td>16385</td>\n",
       "      <td>0.952823</td>\n",
       "    </tr>\n",
       "    <tr>\n",
       "      <th>Housing</th>\n",
       "      <td>53756</td>\n",
       "      <td>59569</td>\n",
       "      <td>0.902416</td>\n",
       "    </tr>\n",
       "    <tr>\n",
       "      <th>Manufacturing</th>\n",
       "      <td>15555</td>\n",
       "      <td>15642</td>\n",
       "      <td>0.994438</td>\n",
       "    </tr>\n",
       "    <tr>\n",
       "      <th>Personal Use</th>\n",
       "      <td>48878</td>\n",
       "      <td>50864</td>\n",
       "      <td>0.960955</td>\n",
       "    </tr>\n",
       "    <tr>\n",
       "      <th>Retail</th>\n",
       "      <td>261381</td>\n",
       "      <td>276080</td>\n",
       "      <td>0.946758</td>\n",
       "    </tr>\n",
       "    <tr>\n",
       "      <th>Services</th>\n",
       "      <td>96559</td>\n",
       "      <td>101674</td>\n",
       "      <td>0.949692</td>\n",
       "    </tr>\n",
       "    <tr>\n",
       "      <th>Transportation</th>\n",
       "      <td>35813</td>\n",
       "      <td>38453</td>\n",
       "      <td>0.931345</td>\n",
       "    </tr>\n",
       "    <tr>\n",
       "      <th>Wholesale</th>\n",
       "      <td>2036</td>\n",
       "      <td>2100</td>\n",
       "      <td>0.969524</td>\n",
       "    </tr>\n",
       "  </tbody>\n",
       "</table>\n",
       "</div>"
      ],
      "text/plain": [
       "                status_num  loan_id  funding_rate\n",
       "sector_name                                      \n",
       "Agriculture         321884   339344      0.948548\n",
       "Arts                 27279    27511      0.991567\n",
       "Clothing             75812    80326      0.943804\n",
       "Construction         18094    18664      0.969460\n",
       "Education            44428    45390      0.978806\n",
       "Entertainment         1951     2036      0.958251\n",
       "Food                301959   313390      0.963525\n",
       "Health               15612    16385      0.952823\n",
       "Housing              53756    59569      0.902416\n",
       "Manufacturing        15555    15642      0.994438\n",
       "Personal Use         48878    50864      0.960955\n",
       "Retail              261381   276080      0.946758\n",
       "Services             96559   101674      0.949692\n",
       "Transportation       35813    38453      0.931345\n",
       "Wholesale             2036     2100      0.969524"
      ]
     },
     "execution_count": 44,
     "metadata": {},
     "output_type": "execute_result"
    }
   ],
   "source": [
    "group_by_sector"
   ]
  },
  {
   "cell_type": "code",
   "execution_count": 45,
   "metadata": {},
   "outputs": [
    {
     "data": {
      "text/html": [
       "<div>\n",
       "<style scoped>\n",
       "    .dataframe tbody tr th:only-of-type {\n",
       "        vertical-align: middle;\n",
       "    }\n",
       "\n",
       "    .dataframe tbody tr th {\n",
       "        vertical-align: top;\n",
       "    }\n",
       "\n",
       "    .dataframe thead th {\n",
       "        text-align: right;\n",
       "    }\n",
       "</style>\n",
       "<table border=\"1\" class=\"dataframe\">\n",
       "  <thead>\n",
       "    <tr style=\"text-align: right;\">\n",
       "      <th>sector_name</th>\n",
       "      <th>Agriculture</th>\n",
       "      <th>Arts</th>\n",
       "      <th>Clothing</th>\n",
       "      <th>Construction</th>\n",
       "      <th>Education</th>\n",
       "      <th>Entertainment</th>\n",
       "      <th>Food</th>\n",
       "      <th>Health</th>\n",
       "      <th>Housing</th>\n",
       "      <th>Manufacturing</th>\n",
       "      <th>Personal Use</th>\n",
       "      <th>Retail</th>\n",
       "      <th>Services</th>\n",
       "      <th>Transportation</th>\n",
       "      <th>Wholesale</th>\n",
       "    </tr>\n",
       "  </thead>\n",
       "  <tbody>\n",
       "    <tr>\n",
       "      <th>loan_amount</th>\n",
       "      <td>801.842673</td>\n",
       "      <td>935.902003</td>\n",
       "      <td>1029.444078</td>\n",
       "      <td>952.787452</td>\n",
       "      <td>991.154439</td>\n",
       "      <td>1301.755894</td>\n",
       "      <td>832.486518</td>\n",
       "      <td>1043.933476</td>\n",
       "      <td>745.347832</td>\n",
       "      <td>868.70445</td>\n",
       "      <td>456.080922</td>\n",
       "      <td>812.144578</td>\n",
       "      <td>1008.922389</td>\n",
       "      <td>746.514576</td>\n",
       "      <td>1326.607143</td>\n",
       "    </tr>\n",
       "  </tbody>\n",
       "</table>\n",
       "</div>"
      ],
      "text/plain": [
       "sector_name  Agriculture        Arts     Clothing  Construction   Education  \\\n",
       "loan_amount   801.842673  935.902003  1029.444078    952.787452  991.154439   \n",
       "\n",
       "sector_name  Entertainment        Food       Health     Housing  \\\n",
       "loan_amount    1301.755894  832.486518  1043.933476  745.347832   \n",
       "\n",
       "sector_name  Manufacturing  Personal Use      Retail     Services  \\\n",
       "loan_amount      868.70445    456.080922  812.144578  1008.922389   \n",
       "\n",
       "sector_name  Transportation    Wholesale  \n",
       "loan_amount      746.514576  1326.607143  "
      ]
     },
     "execution_count": 45,
     "metadata": {},
     "output_type": "execute_result"
    }
   ],
   "source": [
    "# Avg loan amount by sector\n",
    "lp.pivot_table(columns=['sector_name'], values='loan_amount')"
   ]
  },
  {
   "cell_type": "code",
   "execution_count": 46,
   "metadata": {},
   "outputs": [
    {
     "data": {
      "text/plain": [
       "<matplotlib.axes._subplots.AxesSubplot at 0x1a9b08a9e8>"
      ]
     },
     "execution_count": 46,
     "metadata": {},
     "output_type": "execute_result"
    },
    {
     "data": {
      "image/png": "[encoded data removed]",
      "text/plain": [
       "<matplotlib.figure.Figure at 0x1a99e6e588>"
      ]
     },
     "metadata": {},
     "output_type": "display_data"
    }
   ],
   "source": [
    "# Avg loan and funded amount by sector\n",
    "lp.pivot_table(index=['sector_name'], values=['loan_amount', 'funded_amount']).plot(kind= 'bar')"
   ]
  },
  {
   "cell_type": "code",
   "execution_count": 47,
   "metadata": {},
   "outputs": [
    {
     "data": {
      "text/plain": [
       "<matplotlib.axes._subplots.AxesSubplot at 0x1a3a217470>"
      ]
     },
     "execution_count": 47,
     "metadata": {},
     "output_type": "execute_result"
    },
    {
     "data": {
      "image/png": "[encoded data removed]",
      "text/plain": [
       "<matplotlib.figure.Figure at 0x1a3a2380b8>"
      ]
     },
     "metadata": {},
     "output_type": "display_data"
    }
   ],
   "source": [
    "# Avg funding rate by repayment interval\n",
    "lp.pivot_table(index=['repayment_interval'], values=['status_num']).plot(kind= 'bar')"
   ]
  },
  {
   "cell_type": "code",
   "execution_count": 48,
   "metadata": {},
   "outputs": [
    {
     "data": {
      "text/html": [
       "<div>\n",
       "<style scoped>\n",
       "    .dataframe tbody tr th:only-of-type {\n",
       "        vertical-align: middle;\n",
       "    }\n",
       "\n",
       "    .dataframe tbody tr th {\n",
       "        vertical-align: top;\n",
       "    }\n",
       "\n",
       "    .dataframe thead th {\n",
       "        text-align: right;\n",
       "    }\n",
       "</style>\n",
       "<table border=\"1\" class=\"dataframe\">\n",
       "  <thead>\n",
       "    <tr style=\"text-align: right;\">\n",
       "      <th></th>\n",
       "      <th>status_num</th>\n",
       "    </tr>\n",
       "    <tr>\n",
       "      <th>country_name</th>\n",
       "      <th></th>\n",
       "    </tr>\n",
       "  </thead>\n",
       "  <tbody>\n",
       "    <tr>\n",
       "      <th>Papua New Guinea</th>\n",
       "      <td>1.000000</td>\n",
       "    </tr>\n",
       "    <tr>\n",
       "      <th>Saint Vincent and the Grenadines</th>\n",
       "      <td>1.000000</td>\n",
       "    </tr>\n",
       "    <tr>\n",
       "      <th>Lesotho</th>\n",
       "      <td>1.000000</td>\n",
       "    </tr>\n",
       "    <tr>\n",
       "      <th>Mauritania</th>\n",
       "      <td>1.000000</td>\n",
       "    </tr>\n",
       "    <tr>\n",
       "      <th>Namibia</th>\n",
       "      <td>1.000000</td>\n",
       "    </tr>\n",
       "    <tr>\n",
       "      <th>Canada</th>\n",
       "      <td>1.000000</td>\n",
       "    </tr>\n",
       "    <tr>\n",
       "      <th>Botswana</th>\n",
       "      <td>1.000000</td>\n",
       "    </tr>\n",
       "    <tr>\n",
       "      <th>Lao People's Democratic Republic</th>\n",
       "      <td>1.000000</td>\n",
       "    </tr>\n",
       "    <tr>\n",
       "      <th>Somalia</th>\n",
       "      <td>1.000000</td>\n",
       "    </tr>\n",
       "    <tr>\n",
       "      <th>Uruguay</th>\n",
       "      <td>1.000000</td>\n",
       "    </tr>\n",
       "    <tr>\n",
       "      <th>Vanuatu</th>\n",
       "      <td>1.000000</td>\n",
       "    </tr>\n",
       "    <tr>\n",
       "      <th>Turkey</th>\n",
       "      <td>0.998997</td>\n",
       "    </tr>\n",
       "    <tr>\n",
       "      <th>Nepal</th>\n",
       "      <td>0.998644</td>\n",
       "    </tr>\n",
       "    <tr>\n",
       "      <th>Madagascar</th>\n",
       "      <td>0.998355</td>\n",
       "    </tr>\n",
       "    <tr>\n",
       "      <th>Bulgaria</th>\n",
       "      <td>0.996587</td>\n",
       "    </tr>\n",
       "    <tr>\n",
       "      <th>Liberia</th>\n",
       "      <td>0.996411</td>\n",
       "    </tr>\n",
       "    <tr>\n",
       "      <th>Panama</th>\n",
       "      <td>0.994898</td>\n",
       "    </tr>\n",
       "    <tr>\n",
       "      <th>South Africa</th>\n",
       "      <td>0.993681</td>\n",
       "    </tr>\n",
       "    <tr>\n",
       "      <th>Congo</th>\n",
       "      <td>0.992647</td>\n",
       "    </tr>\n",
       "    <tr>\n",
       "      <th>China</th>\n",
       "      <td>0.992537</td>\n",
       "    </tr>\n",
       "    <tr>\n",
       "      <th>South Sudan</th>\n",
       "      <td>0.992422</td>\n",
       "    </tr>\n",
       "    <tr>\n",
       "      <th>Malawi</th>\n",
       "      <td>0.991898</td>\n",
       "    </tr>\n",
       "    <tr>\n",
       "      <th>Chile</th>\n",
       "      <td>0.991031</td>\n",
       "    </tr>\n",
       "    <tr>\n",
       "      <th>Israel</th>\n",
       "      <td>0.989224</td>\n",
       "    </tr>\n",
       "    <tr>\n",
       "      <th>Burkina Faso</th>\n",
       "      <td>0.988819</td>\n",
       "    </tr>\n",
       "    <tr>\n",
       "      <th>Philippines</th>\n",
       "      <td>0.988708</td>\n",
       "    </tr>\n",
       "    <tr>\n",
       "      <th>Zimbabwe</th>\n",
       "      <td>0.986197</td>\n",
       "    </tr>\n",
       "    <tr>\n",
       "      <th>Solomon Islands</th>\n",
       "      <td>0.985604</td>\n",
       "    </tr>\n",
       "    <tr>\n",
       "      <th>Benin</th>\n",
       "      <td>0.985314</td>\n",
       "    </tr>\n",
       "    <tr>\n",
       "      <th>Cambodia</th>\n",
       "      <td>0.983807</td>\n",
       "    </tr>\n",
       "    <tr>\n",
       "      <th>...</th>\n",
       "      <td>...</td>\n",
       "    </tr>\n",
       "    <tr>\n",
       "      <th>Timor-Leste</th>\n",
       "      <td>0.939696</td>\n",
       "    </tr>\n",
       "    <tr>\n",
       "      <th>Suriname</th>\n",
       "      <td>0.938356</td>\n",
       "    </tr>\n",
       "    <tr>\n",
       "      <th>Indonesia</th>\n",
       "      <td>0.938187</td>\n",
       "    </tr>\n",
       "    <tr>\n",
       "      <th>Zambia</th>\n",
       "      <td>0.937991</td>\n",
       "    </tr>\n",
       "    <tr>\n",
       "      <th>Nicaragua</th>\n",
       "      <td>0.937410</td>\n",
       "    </tr>\n",
       "    <tr>\n",
       "      <th>Lebanon</th>\n",
       "      <td>0.933080</td>\n",
       "    </tr>\n",
       "    <tr>\n",
       "      <th>Uganda</th>\n",
       "      <td>0.926375</td>\n",
       "    </tr>\n",
       "    <tr>\n",
       "      <th>Georgia</th>\n",
       "      <td>0.923302</td>\n",
       "    </tr>\n",
       "    <tr>\n",
       "      <th>Kyrgyzstan</th>\n",
       "      <td>0.920221</td>\n",
       "    </tr>\n",
       "    <tr>\n",
       "      <th>Bolivia</th>\n",
       "      <td>0.918370</td>\n",
       "    </tr>\n",
       "    <tr>\n",
       "      <th>Tajikistan</th>\n",
       "      <td>0.916941</td>\n",
       "    </tr>\n",
       "    <tr>\n",
       "      <th>Azerbaijan</th>\n",
       "      <td>0.911225</td>\n",
       "    </tr>\n",
       "    <tr>\n",
       "      <th>Moldova</th>\n",
       "      <td>0.909836</td>\n",
       "    </tr>\n",
       "    <tr>\n",
       "      <th>Iraq</th>\n",
       "      <td>0.900168</td>\n",
       "    </tr>\n",
       "    <tr>\n",
       "      <th>Palestine</th>\n",
       "      <td>0.897660</td>\n",
       "    </tr>\n",
       "    <tr>\n",
       "      <th>Albania</th>\n",
       "      <td>0.891283</td>\n",
       "    </tr>\n",
       "    <tr>\n",
       "      <th>Cote D'Ivoire</th>\n",
       "      <td>0.882562</td>\n",
       "    </tr>\n",
       "    <tr>\n",
       "      <th>Kosovo</th>\n",
       "      <td>0.875574</td>\n",
       "    </tr>\n",
       "    <tr>\n",
       "      <th>Gaza</th>\n",
       "      <td>0.875000</td>\n",
       "    </tr>\n",
       "    <tr>\n",
       "      <th>El Salvador</th>\n",
       "      <td>0.870377</td>\n",
       "    </tr>\n",
       "    <tr>\n",
       "      <th>Jordan</th>\n",
       "      <td>0.865878</td>\n",
       "    </tr>\n",
       "    <tr>\n",
       "      <th>Puerto Rico</th>\n",
       "      <td>0.857143</td>\n",
       "    </tr>\n",
       "    <tr>\n",
       "      <th>Colombia</th>\n",
       "      <td>0.854530</td>\n",
       "    </tr>\n",
       "    <tr>\n",
       "      <th>Myanmar (Burma)</th>\n",
       "      <td>0.848195</td>\n",
       "    </tr>\n",
       "    <tr>\n",
       "      <th>Armenia</th>\n",
       "      <td>0.806623</td>\n",
       "    </tr>\n",
       "    <tr>\n",
       "      <th>United States</th>\n",
       "      <td>0.787168</td>\n",
       "    </tr>\n",
       "    <tr>\n",
       "      <th>Sri Lanka</th>\n",
       "      <td>0.742424</td>\n",
       "    </tr>\n",
       "    <tr>\n",
       "      <th>Bhutan</th>\n",
       "      <td>0.500000</td>\n",
       "    </tr>\n",
       "    <tr>\n",
       "      <th>Guam</th>\n",
       "      <td>0.500000</td>\n",
       "    </tr>\n",
       "    <tr>\n",
       "      <th>Chad</th>\n",
       "      <td>0.000000</td>\n",
       "    </tr>\n",
       "  </tbody>\n",
       "</table>\n",
       "<p>95 rows × 1 columns</p>\n",
       "</div>"
      ],
      "text/plain": [
       "                                  status_num\n",
       "country_name                                \n",
       "Papua New Guinea                    1.000000\n",
       "Saint Vincent and the Grenadines    1.000000\n",
       "Lesotho                             1.000000\n",
       "Mauritania                          1.000000\n",
       "Namibia                             1.000000\n",
       "Canada                              1.000000\n",
       "Botswana                            1.000000\n",
       "Lao People's Democratic Republic    1.000000\n",
       "Somalia                             1.000000\n",
       "Uruguay                             1.000000\n",
       "Vanuatu                             1.000000\n",
       "Turkey                              0.998997\n",
       "Nepal                               0.998644\n",
       "Madagascar                          0.998355\n",
       "Bulgaria                            0.996587\n",
       "Liberia                             0.996411\n",
       "Panama                              0.994898\n",
       "South Africa                        0.993681\n",
       "Congo                               0.992647\n",
       "China                               0.992537\n",
       "South Sudan                         0.992422\n",
       "Malawi                              0.991898\n",
       "Chile                               0.991031\n",
       "Israel                              0.989224\n",
       "Burkina Faso                        0.988819\n",
       "Philippines                         0.988708\n",
       "Zimbabwe                            0.986197\n",
       "Solomon Islands                     0.985604\n",
       "Benin                               0.985314\n",
       "Cambodia                            0.983807\n",
       "...                                      ...\n",
       "Timor-Leste                         0.939696\n",
       "Suriname                            0.938356\n",
       "Indonesia                           0.938187\n",
       "Zambia                              0.937991\n",
       "Nicaragua                           0.937410\n",
       "Lebanon                             0.933080\n",
       "Uganda                              0.926375\n",
       "Georgia                             0.923302\n",
       "Kyrgyzstan                          0.920221\n",
       "Bolivia                             0.918370\n",
       "Tajikistan                          0.916941\n",
       "Azerbaijan                          0.911225\n",
       "Moldova                             0.909836\n",
       "Iraq                                0.900168\n",
       "Palestine                           0.897660\n",
       "Albania                             0.891283\n",
       "Cote D'Ivoire                       0.882562\n",
       "Kosovo                              0.875574\n",
       "Gaza                                0.875000\n",
       "El Salvador                         0.870377\n",
       "Jordan                              0.865878\n",
       "Puerto Rico                         0.857143\n",
       "Colombia                            0.854530\n",
       "Myanmar (Burma)                     0.848195\n",
       "Armenia                             0.806623\n",
       "United States                       0.787168\n",
       "Sri Lanka                           0.742424\n",
       "Bhutan                              0.500000\n",
       "Guam                                0.500000\n",
       "Chad                                0.000000\n",
       "\n",
       "[95 rows x 1 columns]"
      ]
     },
     "execution_count": 48,
     "metadata": {},
     "output_type": "execute_result"
    }
   ],
   "source": [
    "lp.pivot_table(index=['country_name'], values=['status_num']).sort_values(by=['status_num'], ascending=False)"
   ]
  },
  {
   "cell_type": "code",
   "execution_count": 49,
   "metadata": {},
   "outputs": [],
   "source": [
    "pd.options.display.max_columns = 999"
   ]
  },
  {
   "cell_type": "code",
   "execution_count": 50,
   "metadata": {},
   "outputs": [],
   "source": [
    "lp['posted_time'] = pd.to_datetime(lp['posted_time'], errors='coerce')"
   ]
  },
  {
   "cell_type": "code",
   "execution_count": 51,
   "metadata": {},
   "outputs": [],
   "source": [
    "lp['raised_time'] = pd.to_datetime(lp['raised_time'], errors='coerce')"
   ]
  },
  {
   "cell_type": "code",
   "execution_count": 52,
   "metadata": {},
   "outputs": [],
   "source": [
    "lp['post_to_raise_days'] = (lp['raised_time']-lp['posted_time'])"
   ]
  },
  {
   "cell_type": "code",
   "execution_count": 53,
   "metadata": {},
   "outputs": [],
   "source": [
    "lp['post_to_raise_days'] = lp['post_to_raise_days'].dt.days"
   ]
  },
  {
   "cell_type": "code",
   "execution_count": 54,
   "metadata": {},
   "outputs": [
    {
     "name": "stderr",
     "output_type": "stream",
     "text": [
      "/Users/arushi/anaconda3/lib/python3.6/site-packages/numpy/lib/function_base.py:780: RuntimeWarning: invalid value encountered in greater_equal\n",
      "  keep = (tmp_a >= first_edge)\n",
      "/Users/arushi/anaconda3/lib/python3.6/site-packages/numpy/lib/function_base.py:781: RuntimeWarning: invalid value encountered in less_equal\n",
      "  keep &= (tmp_a <= last_edge)\n"
     ]
    },
    {
     "data": {
      "text/plain": [
       "(array([101108.,  91595.,  87913.,  88911.,  86718.,  84116.,  72994.,\n",
       "         59307.,  51815.,  44046.,  38742.,  32718.,  29964.,  27656.,\n",
       "         24321.,  21242.,  18663.,  17781.,  17104.,  16587.,  16337.,\n",
       "         15865.,  14556.,  13608.,  13191.,  13390.,  13822.,  14741.,\n",
       "         16336.,  37354.]),\n",
       " array([ 0.,  1.,  2.,  3.,  4.,  5.,  6.,  7.,  8.,  9., 10., 11., 12.,\n",
       "        13., 14., 15., 16., 17., 18., 19., 20., 21., 22., 23., 24., 25.,\n",
       "        26., 27., 28., 29., 30.]),\n",
       " <a list of 30 Patch objects>)"
      ]
     },
     "execution_count": 54,
     "metadata": {},
     "output_type": "execute_result"
    },
    {
     "data": {
      "image/png": "[encoded data removed]",
      "text/plain": [
       "<matplotlib.figure.Figure at 0x1a99ea4cf8>"
      ]
     },
     "metadata": {},
     "output_type": "display_data"
    }
   ],
   "source": [
    "plt.hist(lp['post_to_raise_days'], range = [0, 30], bins=30)"
   ]
  },
  {
   "cell_type": "markdown",
   "metadata": {},
   "source": [
    "This is so cool! A lot of loans fund within the same day or on the last day.\n"
   ]
  },
  {
   "cell_type": "code",
   "execution_count": 55,
   "metadata": {},
   "outputs": [
    {
     "data": {
      "text/plain": [
       "<matplotlib.axes._subplots.AxesSubplot at 0x1a3a26f4a8>"
      ]
     },
     "execution_count": 55,
     "metadata": {},
     "output_type": "execute_result"
    },
    {
     "data": {
      "image/png": "[encoded data removed]",
      "text/plain": [
       "<matplotlib.figure.Figure at 0x1a3a49a898>"
      ]
     },
     "metadata": {},
     "output_type": "display_data"
    }
   ],
   "source": [
    "# Avg funding time by sector\n",
    "lp.pivot_table(index=['sector_name'], values=['post_to_raise_days']).plot(kind= 'bar')"
   ]
  },
  {
   "cell_type": "markdown",
   "metadata": {},
   "source": [
    "Arts, manufacting and education loans are the quickest to fund"
   ]
  },
  {
   "cell_type": "code",
   "execution_count": 56,
   "metadata": {},
   "outputs": [
    {
     "data": {
      "text/html": [
       "<div>\n",
       "<style scoped>\n",
       "    .dataframe tbody tr th:only-of-type {\n",
       "        vertical-align: middle;\n",
       "    }\n",
       "\n",
       "    .dataframe tbody tr th {\n",
       "        vertical-align: top;\n",
       "    }\n",
       "\n",
       "    .dataframe thead th {\n",
       "        text-align: right;\n",
       "    }\n",
       "</style>\n",
       "<table border=\"1\" class=\"dataframe\">\n",
       "  <thead>\n",
       "    <tr style=\"text-align: right;\">\n",
       "      <th></th>\n",
       "      <th>loan_id</th>\n",
       "      <th>funded_amount</th>\n",
       "      <th>loan_amount</th>\n",
       "      <th>currency_exchange_coverage_rate</th>\n",
       "      <th>partner_id</th>\n",
       "      <th>lender_term</th>\n",
       "      <th>num_lenders_total</th>\n",
       "      <th>num_journal_entries</th>\n",
       "      <th>num_bulk_entries</th>\n",
       "      <th>num_lenders</th>\n",
       "      <th>status_num</th>\n",
       "      <th>funding_rate</th>\n",
       "      <th>post_to_raise_days</th>\n",
       "    </tr>\n",
       "  </thead>\n",
       "  <tbody>\n",
       "    <tr>\n",
       "      <th>loan_id</th>\n",
       "      <td>1.000000</td>\n",
       "      <td>0.000483</td>\n",
       "      <td>0.020481</td>\n",
       "      <td>-0.676424</td>\n",
       "      <td>0.462127</td>\n",
       "      <td>0.094400</td>\n",
       "      <td>-0.060428</td>\n",
       "      <td>-0.215458</td>\n",
       "      <td>-0.127515</td>\n",
       "      <td>-0.075690</td>\n",
       "      <td>-0.103926</td>\n",
       "      <td>-0.103926</td>\n",
       "      <td>0.157323</td>\n",
       "    </tr>\n",
       "    <tr>\n",
       "      <th>funded_amount</th>\n",
       "      <td>0.000483</td>\n",
       "      <td>1.000000</td>\n",
       "      <td>0.969797</td>\n",
       "      <td>-0.012257</td>\n",
       "      <td>-0.065575</td>\n",
       "      <td>0.157252</td>\n",
       "      <td>0.879666</td>\n",
       "      <td>0.050196</td>\n",
       "      <td>0.043586</td>\n",
       "      <td>0.874155</td>\n",
       "      <td>0.012481</td>\n",
       "      <td>0.012481</td>\n",
       "      <td>0.153962</td>\n",
       "    </tr>\n",
       "    <tr>\n",
       "      <th>loan_amount</th>\n",
       "      <td>0.020481</td>\n",
       "      <td>0.969797</td>\n",
       "      <td>1.000000</td>\n",
       "      <td>-0.024867</td>\n",
       "      <td>-0.057218</td>\n",
       "      <td>0.182950</td>\n",
       "      <td>0.848706</td>\n",
       "      <td>0.033195</td>\n",
       "      <td>0.033637</td>\n",
       "      <td>0.844189</td>\n",
       "      <td>-0.123647</td>\n",
       "      <td>-0.123647</td>\n",
       "      <td>0.153962</td>\n",
       "    </tr>\n",
       "    <tr>\n",
       "      <th>currency_exchange_coverage_rate</th>\n",
       "      <td>-0.676424</td>\n",
       "      <td>-0.012257</td>\n",
       "      <td>-0.024867</td>\n",
       "      <td>1.000000</td>\n",
       "      <td>-0.260379</td>\n",
       "      <td>-0.109177</td>\n",
       "      <td>0.031934</td>\n",
       "      <td>0.073820</td>\n",
       "      <td>0.022367</td>\n",
       "      <td>0.042484</td>\n",
       "      <td>0.082571</td>\n",
       "      <td>0.082571</td>\n",
       "      <td>-0.152459</td>\n",
       "    </tr>\n",
       "    <tr>\n",
       "      <th>partner_id</th>\n",
       "      <td>0.462127</td>\n",
       "      <td>-0.065575</td>\n",
       "      <td>-0.057218</td>\n",
       "      <td>-0.260379</td>\n",
       "      <td>1.000000</td>\n",
       "      <td>0.114650</td>\n",
       "      <td>-0.039630</td>\n",
       "      <td>-0.052056</td>\n",
       "      <td>-0.023276</td>\n",
       "      <td>-0.044672</td>\n",
       "      <td>-0.030027</td>\n",
       "      <td>-0.030027</td>\n",
       "      <td>0.049447</td>\n",
       "    </tr>\n",
       "    <tr>\n",
       "      <th>lender_term</th>\n",
       "      <td>0.094400</td>\n",
       "      <td>0.157252</td>\n",
       "      <td>0.182950</td>\n",
       "      <td>-0.109177</td>\n",
       "      <td>0.114650</td>\n",
       "      <td>1.000000</td>\n",
       "      <td>0.204326</td>\n",
       "      <td>0.058118</td>\n",
       "      <td>0.143267</td>\n",
       "      <td>0.198753</td>\n",
       "      <td>-0.140487</td>\n",
       "      <td>-0.140487</td>\n",
       "      <td>0.143366</td>\n",
       "    </tr>\n",
       "    <tr>\n",
       "      <th>num_lenders_total</th>\n",
       "      <td>-0.060428</td>\n",
       "      <td>0.879666</td>\n",
       "      <td>0.848706</td>\n",
       "      <td>0.031934</td>\n",
       "      <td>-0.039630</td>\n",
       "      <td>0.204326</td>\n",
       "      <td>1.000000</td>\n",
       "      <td>0.072966</td>\n",
       "      <td>0.062655</td>\n",
       "      <td>0.994707</td>\n",
       "      <td>0.034583</td>\n",
       "      <td>0.034583</td>\n",
       "      <td>0.176323</td>\n",
       "    </tr>\n",
       "    <tr>\n",
       "      <th>num_journal_entries</th>\n",
       "      <td>-0.215458</td>\n",
       "      <td>0.050196</td>\n",
       "      <td>0.033195</td>\n",
       "      <td>0.073820</td>\n",
       "      <td>-0.052056</td>\n",
       "      <td>0.058118</td>\n",
       "      <td>0.072966</td>\n",
       "      <td>1.000000</td>\n",
       "      <td>0.871869</td>\n",
       "      <td>0.075338</td>\n",
       "      <td>0.100096</td>\n",
       "      <td>0.100096</td>\n",
       "      <td>-0.035539</td>\n",
       "    </tr>\n",
       "    <tr>\n",
       "      <th>num_bulk_entries</th>\n",
       "      <td>-0.127515</td>\n",
       "      <td>0.043586</td>\n",
       "      <td>0.033637</td>\n",
       "      <td>0.022367</td>\n",
       "      <td>-0.023276</td>\n",
       "      <td>0.143267</td>\n",
       "      <td>0.062655</td>\n",
       "      <td>0.871869</td>\n",
       "      <td>1.000000</td>\n",
       "      <td>0.064337</td>\n",
       "      <td>0.057594</td>\n",
       "      <td>0.057594</td>\n",
       "      <td>-0.012257</td>\n",
       "    </tr>\n",
       "    <tr>\n",
       "      <th>num_lenders</th>\n",
       "      <td>-0.075690</td>\n",
       "      <td>0.874155</td>\n",
       "      <td>0.844189</td>\n",
       "      <td>0.042484</td>\n",
       "      <td>-0.044672</td>\n",
       "      <td>0.198753</td>\n",
       "      <td>0.994707</td>\n",
       "      <td>0.075338</td>\n",
       "      <td>0.064337</td>\n",
       "      <td>1.000000</td>\n",
       "      <td>0.027277</td>\n",
       "      <td>0.027277</td>\n",
       "      <td>0.172602</td>\n",
       "    </tr>\n",
       "    <tr>\n",
       "      <th>status_num</th>\n",
       "      <td>-0.103926</td>\n",
       "      <td>0.012481</td>\n",
       "      <td>-0.123647</td>\n",
       "      <td>0.082571</td>\n",
       "      <td>-0.030027</td>\n",
       "      <td>-0.140487</td>\n",
       "      <td>0.034583</td>\n",
       "      <td>0.100096</td>\n",
       "      <td>0.057594</td>\n",
       "      <td>0.027277</td>\n",
       "      <td>1.000000</td>\n",
       "      <td>1.000000</td>\n",
       "      <td>-0.000795</td>\n",
       "    </tr>\n",
       "    <tr>\n",
       "      <th>funding_rate</th>\n",
       "      <td>-0.103926</td>\n",
       "      <td>0.012481</td>\n",
       "      <td>-0.123647</td>\n",
       "      <td>0.082571</td>\n",
       "      <td>-0.030027</td>\n",
       "      <td>-0.140487</td>\n",
       "      <td>0.034583</td>\n",
       "      <td>0.100096</td>\n",
       "      <td>0.057594</td>\n",
       "      <td>0.027277</td>\n",
       "      <td>1.000000</td>\n",
       "      <td>1.000000</td>\n",
       "      <td>-0.000795</td>\n",
       "    </tr>\n",
       "    <tr>\n",
       "      <th>post_to_raise_days</th>\n",
       "      <td>0.157323</td>\n",
       "      <td>0.153962</td>\n",
       "      <td>0.153962</td>\n",
       "      <td>-0.152459</td>\n",
       "      <td>0.049447</td>\n",
       "      <td>0.143366</td>\n",
       "      <td>0.176323</td>\n",
       "      <td>-0.035539</td>\n",
       "      <td>-0.012257</td>\n",
       "      <td>0.172602</td>\n",
       "      <td>-0.000795</td>\n",
       "      <td>-0.000795</td>\n",
       "      <td>1.000000</td>\n",
       "    </tr>\n",
       "  </tbody>\n",
       "</table>\n",
       "</div>"
      ],
      "text/plain": [
       "                                  loan_id  funded_amount  loan_amount  \\\n",
       "loan_id                          1.000000       0.000483     0.020481   \n",
       "funded_amount                    0.000483       1.000000     0.969797   \n",
       "loan_amount                      0.020481       0.969797     1.000000   \n",
       "currency_exchange_coverage_rate -0.676424      -0.012257    -0.024867   \n",
       "partner_id                       0.462127      -0.065575    -0.057218   \n",
       "lender_term                      0.094400       0.157252     0.182950   \n",
       "num_lenders_total               -0.060428       0.879666     0.848706   \n",
       "num_journal_entries             -0.215458       0.050196     0.033195   \n",
       "num_bulk_entries                -0.127515       0.043586     0.033637   \n",
       "num_lenders                     -0.075690       0.874155     0.844189   \n",
       "status_num                      -0.103926       0.012481    -0.123647   \n",
       "funding_rate                    -0.103926       0.012481    -0.123647   \n",
       "post_to_raise_days               0.157323       0.153962     0.153962   \n",
       "\n",
       "                                 currency_exchange_coverage_rate  partner_id  \\\n",
       "loan_id                                                -0.676424    0.462127   \n",
       "funded_amount                                          -0.012257   -0.065575   \n",
       "loan_amount                                            -0.024867   -0.057218   \n",
       "currency_exchange_coverage_rate                         1.000000   -0.260379   \n",
       "partner_id                                             -0.260379    1.000000   \n",
       "lender_term                                            -0.109177    0.114650   \n",
       "num_lenders_total                                       0.031934   -0.039630   \n",
       "num_journal_entries                                     0.073820   -0.052056   \n",
       "num_bulk_entries                                        0.022367   -0.023276   \n",
       "num_lenders                                             0.042484   -0.044672   \n",
       "status_num                                              0.082571   -0.030027   \n",
       "funding_rate                                            0.082571   -0.030027   \n",
       "post_to_raise_days                                     -0.152459    0.049447   \n",
       "\n",
       "                                 lender_term  num_lenders_total  \\\n",
       "loan_id                             0.094400          -0.060428   \n",
       "funded_amount                       0.157252           0.879666   \n",
       "loan_amount                         0.182950           0.848706   \n",
       "currency_exchange_coverage_rate    -0.109177           0.031934   \n",
       "partner_id                          0.114650          -0.039630   \n",
       "lender_term                         1.000000           0.204326   \n",
       "num_lenders_total                   0.204326           1.000000   \n",
       "num_journal_entries                 0.058118           0.072966   \n",
       "num_bulk_entries                    0.143267           0.062655   \n",
       "num_lenders                         0.198753           0.994707   \n",
       "status_num                         -0.140487           0.034583   \n",
       "funding_rate                       -0.140487           0.034583   \n",
       "post_to_raise_days                  0.143366           0.176323   \n",
       "\n",
       "                                 num_journal_entries  num_bulk_entries  \\\n",
       "loan_id                                    -0.215458         -0.127515   \n",
       "funded_amount                               0.050196          0.043586   \n",
       "loan_amount                                 0.033195          0.033637   \n",
       "currency_exchange_coverage_rate             0.073820          0.022367   \n",
       "partner_id                                 -0.052056         -0.023276   \n",
       "lender_term                                 0.058118          0.143267   \n",
       "num_lenders_total                           0.072966          0.062655   \n",
       "num_journal_entries                         1.000000          0.871869   \n",
       "num_bulk_entries                            0.871869          1.000000   \n",
       "num_lenders                                 0.075338          0.064337   \n",
       "status_num                                  0.100096          0.057594   \n",
       "funding_rate                                0.100096          0.057594   \n",
       "post_to_raise_days                         -0.035539         -0.012257   \n",
       "\n",
       "                                 num_lenders  status_num  funding_rate  \\\n",
       "loan_id                            -0.075690   -0.103926     -0.103926   \n",
       "funded_amount                       0.874155    0.012481      0.012481   \n",
       "loan_amount                         0.844189   -0.123647     -0.123647   \n",
       "currency_exchange_coverage_rate     0.042484    0.082571      0.082571   \n",
       "partner_id                         -0.044672   -0.030027     -0.030027   \n",
       "lender_term                         0.198753   -0.140487     -0.140487   \n",
       "num_lenders_total                   0.994707    0.034583      0.034583   \n",
       "num_journal_entries                 0.075338    0.100096      0.100096   \n",
       "num_bulk_entries                    0.064337    0.057594      0.057594   \n",
       "num_lenders                         1.000000    0.027277      0.027277   \n",
       "status_num                          0.027277    1.000000      1.000000   \n",
       "funding_rate                        0.027277    1.000000      1.000000   \n",
       "post_to_raise_days                  0.172602   -0.000795     -0.000795   \n",
       "\n",
       "                                 post_to_raise_days  \n",
       "loan_id                                    0.157323  \n",
       "funded_amount                              0.153962  \n",
       "loan_amount                                0.153962  \n",
       "currency_exchange_coverage_rate           -0.152459  \n",
       "partner_id                                 0.049447  \n",
       "lender_term                                0.143366  \n",
       "num_lenders_total                          0.176323  \n",
       "num_journal_entries                       -0.035539  \n",
       "num_bulk_entries                          -0.012257  \n",
       "num_lenders                                0.172602  \n",
       "status_num                                -0.000795  \n",
       "funding_rate                              -0.000795  \n",
       "post_to_raise_days                         1.000000  "
      ]
     },
     "execution_count": 56,
     "metadata": {},
     "output_type": "execute_result"
    }
   ],
   "source": [
    "lp.corr()"
   ]
  },
  {
   "cell_type": "code",
   "execution_count": 68,
   "metadata": {},
   "outputs": [],
   "source": [
    "lpcorr = lp.copy()"
   ]
  },
  {
   "cell_type": "code",
   "execution_count": 69,
   "metadata": {},
   "outputs": [],
   "source": [
    "lpcorr.drop(['loan_id','num_lenders'], axis=1, inplace=True)"
   ]
  },
  {
   "cell_type": "code",
   "execution_count": 70,
   "metadata": {},
   "outputs": [
    {
     "data": {
      "text/html": [
       "<div>\n",
       "<style scoped>\n",
       "    .dataframe tbody tr th:only-of-type {\n",
       "        vertical-align: middle;\n",
       "    }\n",
       "\n",
       "    .dataframe tbody tr th {\n",
       "        vertical-align: top;\n",
       "    }\n",
       "\n",
       "    .dataframe thead th {\n",
       "        text-align: right;\n",
       "    }\n",
       "</style>\n",
       "<table border=\"1\" class=\"dataframe\">\n",
       "  <thead>\n",
       "    <tr style=\"text-align: right;\">\n",
       "      <th></th>\n",
       "      <th>funded_amount</th>\n",
       "      <th>loan_amount</th>\n",
       "      <th>currency_exchange_coverage_rate</th>\n",
       "      <th>partner_id</th>\n",
       "      <th>lender_term</th>\n",
       "      <th>num_lenders_total</th>\n",
       "      <th>num_journal_entries</th>\n",
       "      <th>num_bulk_entries</th>\n",
       "      <th>status_num</th>\n",
       "      <th>funding_rate</th>\n",
       "      <th>post_to_raise_days</th>\n",
       "    </tr>\n",
       "  </thead>\n",
       "  <tbody>\n",
       "    <tr>\n",
       "      <th>funded_amount</th>\n",
       "      <td>1.000000</td>\n",
       "      <td>0.969797</td>\n",
       "      <td>-0.012257</td>\n",
       "      <td>-0.065575</td>\n",
       "      <td>0.157252</td>\n",
       "      <td>0.879666</td>\n",
       "      <td>0.050196</td>\n",
       "      <td>0.043586</td>\n",
       "      <td>0.012481</td>\n",
       "      <td>0.012481</td>\n",
       "      <td>0.153962</td>\n",
       "    </tr>\n",
       "    <tr>\n",
       "      <th>loan_amount</th>\n",
       "      <td>0.969797</td>\n",
       "      <td>1.000000</td>\n",
       "      <td>-0.024867</td>\n",
       "      <td>-0.057218</td>\n",
       "      <td>0.182950</td>\n",
       "      <td>0.848706</td>\n",
       "      <td>0.033195</td>\n",
       "      <td>0.033637</td>\n",
       "      <td>-0.123647</td>\n",
       "      <td>-0.123647</td>\n",
       "      <td>0.153962</td>\n",
       "    </tr>\n",
       "    <tr>\n",
       "      <th>currency_exchange_coverage_rate</th>\n",
       "      <td>-0.012257</td>\n",
       "      <td>-0.024867</td>\n",
       "      <td>1.000000</td>\n",
       "      <td>-0.260379</td>\n",
       "      <td>-0.109177</td>\n",
       "      <td>0.031934</td>\n",
       "      <td>0.073820</td>\n",
       "      <td>0.022367</td>\n",
       "      <td>0.082571</td>\n",
       "      <td>0.082571</td>\n",
       "      <td>-0.152459</td>\n",
       "    </tr>\n",
       "    <tr>\n",
       "      <th>partner_id</th>\n",
       "      <td>-0.065575</td>\n",
       "      <td>-0.057218</td>\n",
       "      <td>-0.260379</td>\n",
       "      <td>1.000000</td>\n",
       "      <td>0.114650</td>\n",
       "      <td>-0.039630</td>\n",
       "      <td>-0.052056</td>\n",
       "      <td>-0.023276</td>\n",
       "      <td>-0.030027</td>\n",
       "      <td>-0.030027</td>\n",
       "      <td>0.049447</td>\n",
       "    </tr>\n",
       "    <tr>\n",
       "      <th>lender_term</th>\n",
       "      <td>0.157252</td>\n",
       "      <td>0.182950</td>\n",
       "      <td>-0.109177</td>\n",
       "      <td>0.114650</td>\n",
       "      <td>1.000000</td>\n",
       "      <td>0.204326</td>\n",
       "      <td>0.058118</td>\n",
       "      <td>0.143267</td>\n",
       "      <td>-0.140487</td>\n",
       "      <td>-0.140487</td>\n",
       "      <td>0.143366</td>\n",
       "    </tr>\n",
       "    <tr>\n",
       "      <th>num_lenders_total</th>\n",
       "      <td>0.879666</td>\n",
       "      <td>0.848706</td>\n",
       "      <td>0.031934</td>\n",
       "      <td>-0.039630</td>\n",
       "      <td>0.204326</td>\n",
       "      <td>1.000000</td>\n",
       "      <td>0.072966</td>\n",
       "      <td>0.062655</td>\n",
       "      <td>0.034583</td>\n",
       "      <td>0.034583</td>\n",
       "      <td>0.176323</td>\n",
       "    </tr>\n",
       "    <tr>\n",
       "      <th>num_journal_entries</th>\n",
       "      <td>0.050196</td>\n",
       "      <td>0.033195</td>\n",
       "      <td>0.073820</td>\n",
       "      <td>-0.052056</td>\n",
       "      <td>0.058118</td>\n",
       "      <td>0.072966</td>\n",
       "      <td>1.000000</td>\n",
       "      <td>0.871869</td>\n",
       "      <td>0.100096</td>\n",
       "      <td>0.100096</td>\n",
       "      <td>-0.035539</td>\n",
       "    </tr>\n",
       "    <tr>\n",
       "      <th>num_bulk_entries</th>\n",
       "      <td>0.043586</td>\n",
       "      <td>0.033637</td>\n",
       "      <td>0.022367</td>\n",
       "      <td>-0.023276</td>\n",
       "      <td>0.143267</td>\n",
       "      <td>0.062655</td>\n",
       "      <td>0.871869</td>\n",
       "      <td>1.000000</td>\n",
       "      <td>0.057594</td>\n",
       "      <td>0.057594</td>\n",
       "      <td>-0.012257</td>\n",
       "    </tr>\n",
       "    <tr>\n",
       "      <th>status_num</th>\n",
       "      <td>0.012481</td>\n",
       "      <td>-0.123647</td>\n",
       "      <td>0.082571</td>\n",
       "      <td>-0.030027</td>\n",
       "      <td>-0.140487</td>\n",
       "      <td>0.034583</td>\n",
       "      <td>0.100096</td>\n",
       "      <td>0.057594</td>\n",
       "      <td>1.000000</td>\n",
       "      <td>1.000000</td>\n",
       "      <td>-0.000795</td>\n",
       "    </tr>\n",
       "    <tr>\n",
       "      <th>funding_rate</th>\n",
       "      <td>0.012481</td>\n",
       "      <td>-0.123647</td>\n",
       "      <td>0.082571</td>\n",
       "      <td>-0.030027</td>\n",
       "      <td>-0.140487</td>\n",
       "      <td>0.034583</td>\n",
       "      <td>0.100096</td>\n",
       "      <td>0.057594</td>\n",
       "      <td>1.000000</td>\n",
       "      <td>1.000000</td>\n",
       "      <td>-0.000795</td>\n",
       "    </tr>\n",
       "    <tr>\n",
       "      <th>post_to_raise_days</th>\n",
       "      <td>0.153962</td>\n",
       "      <td>0.153962</td>\n",
       "      <td>-0.152459</td>\n",
       "      <td>0.049447</td>\n",
       "      <td>0.143366</td>\n",
       "      <td>0.176323</td>\n",
       "      <td>-0.035539</td>\n",
       "      <td>-0.012257</td>\n",
       "      <td>-0.000795</td>\n",
       "      <td>-0.000795</td>\n",
       "      <td>1.000000</td>\n",
       "    </tr>\n",
       "  </tbody>\n",
       "</table>\n",
       "</div>"
      ],
      "text/plain": [
       "                                 funded_amount  loan_amount  \\\n",
       "funded_amount                         1.000000     0.969797   \n",
       "loan_amount                           0.969797     1.000000   \n",
       "currency_exchange_coverage_rate      -0.012257    -0.024867   \n",
       "partner_id                           -0.065575    -0.057218   \n",
       "lender_term                           0.157252     0.182950   \n",
       "num_lenders_total                     0.879666     0.848706   \n",
       "num_journal_entries                   0.050196     0.033195   \n",
       "num_bulk_entries                      0.043586     0.033637   \n",
       "status_num                            0.012481    -0.123647   \n",
       "funding_rate                          0.012481    -0.123647   \n",
       "post_to_raise_days                    0.153962     0.153962   \n",
       "\n",
       "                                 currency_exchange_coverage_rate  partner_id  \\\n",
       "funded_amount                                          -0.012257   -0.065575   \n",
       "loan_amount                                            -0.024867   -0.057218   \n",
       "currency_exchange_coverage_rate                         1.000000   -0.260379   \n",
       "partner_id                                             -0.260379    1.000000   \n",
       "lender_term                                            -0.109177    0.114650   \n",
       "num_lenders_total                                       0.031934   -0.039630   \n",
       "num_journal_entries                                     0.073820   -0.052056   \n",
       "num_bulk_entries                                        0.022367   -0.023276   \n",
       "status_num                                              0.082571   -0.030027   \n",
       "funding_rate                                            0.082571   -0.030027   \n",
       "post_to_raise_days                                     -0.152459    0.049447   \n",
       "\n",
       "                                 lender_term  num_lenders_total  \\\n",
       "funded_amount                       0.157252           0.879666   \n",
       "loan_amount                         0.182950           0.848706   \n",
       "currency_exchange_coverage_rate    -0.109177           0.031934   \n",
       "partner_id                          0.114650          -0.039630   \n",
       "lender_term                         1.000000           0.204326   \n",
       "num_lenders_total                   0.204326           1.000000   \n",
       "num_journal_entries                 0.058118           0.072966   \n",
       "num_bulk_entries                    0.143267           0.062655   \n",
       "status_num                         -0.140487           0.034583   \n",
       "funding_rate                       -0.140487           0.034583   \n",
       "post_to_raise_days                  0.143366           0.176323   \n",
       "\n",
       "                                 num_journal_entries  num_bulk_entries  \\\n",
       "funded_amount                               0.050196          0.043586   \n",
       "loan_amount                                 0.033195          0.033637   \n",
       "currency_exchange_coverage_rate             0.073820          0.022367   \n",
       "partner_id                                 -0.052056         -0.023276   \n",
       "lender_term                                 0.058118          0.143267   \n",
       "num_lenders_total                           0.072966          0.062655   \n",
       "num_journal_entries                         1.000000          0.871869   \n",
       "num_bulk_entries                            0.871869          1.000000   \n",
       "status_num                                  0.100096          0.057594   \n",
       "funding_rate                                0.100096          0.057594   \n",
       "post_to_raise_days                         -0.035539         -0.012257   \n",
       "\n",
       "                                 status_num  funding_rate  post_to_raise_days  \n",
       "funded_amount                      0.012481      0.012481            0.153962  \n",
       "loan_amount                       -0.123647     -0.123647            0.153962  \n",
       "currency_exchange_coverage_rate    0.082571      0.082571           -0.152459  \n",
       "partner_id                        -0.030027     -0.030027            0.049447  \n",
       "lender_term                       -0.140487     -0.140487            0.143366  \n",
       "num_lenders_total                  0.034583      0.034583            0.176323  \n",
       "num_journal_entries                0.100096      0.100096           -0.035539  \n",
       "num_bulk_entries                   0.057594      0.057594           -0.012257  \n",
       "status_num                         1.000000      1.000000           -0.000795  \n",
       "funding_rate                       1.000000      1.000000           -0.000795  \n",
       "post_to_raise_days                -0.000795     -0.000795            1.000000  "
      ]
     },
     "execution_count": 70,
     "metadata": {},
     "output_type": "execute_result"
    }
   ],
   "source": [
    "lpcorr.corr()"
   ]
  },
  {
   "cell_type": "code",
   "execution_count": 71,
   "metadata": {},
   "outputs": [
    {
     "data": {
      "image/png": "[encoded data removed]",
      "text/plain": [
       "<matplotlib.figure.Figure at 0x1a99d6b710>"
      ]
     },
     "metadata": {},
     "output_type": "display_data"
    }
   ],
   "source": [
    "ax = sns.pointplot(x=\"funded_amount\", y=\"num_lenders_total\", data=lp)"
   ]
  },
  {
   "cell_type": "code",
   "execution_count": 74,
   "metadata": {},
   "outputs": [
    {
     "data": {
      "image/png": "[encoded data removed]",
      "text/plain": [
       "<matplotlib.figure.Figure at 0x1adea64c88>"
      ]
     },
     "metadata": {},
     "output_type": "display_data"
    }
   ],
   "source": [
    "fig, ax = plt.subplots()\n",
    "fig.set_size_inches(14.7, 8.27)\n",
    "ax = sns.pointplot(x=\"funded_amount\", y=\"num_lenders_total\", data=lp)"
   ]
  },
  {
   "cell_type": "code",
   "execution_count": 78,
   "metadata": {},
   "outputs": [
    {
     "data": {
      "text/plain": [
       "<matplotlib.axes._subplots.AxesSubplot at 0x1b5521aa90>"
      ]
     },
     "execution_count": 78,
     "metadata": {},
     "output_type": "execute_result"
    },
    {
     "data": {
      "image/png": "[encoded data removed]",
      "text/plain": [
       "<matplotlib.figure.Figure at 0x1b657c3f28>"
      ]
     },
     "metadata": {},
     "output_type": "display_data"
    }
   ],
   "source": [
    "fig, ax = plt.subplots()\n",
    "fig.set_size_inches(14.7, 8.27)\n",
    "sns.distplot(lp['funded_amount'], bins=50, kde=False)"
   ]
  },
  {
   "cell_type": "code",
   "execution_count": 87,
   "metadata": {},
   "outputs": [
    {
     "data": {
      "text/plain": [
       "<seaborn.axisgrid.JointGrid at 0x1b53347198>"
      ]
     },
     "execution_count": 87,
     "metadata": {},
     "output_type": "execute_result"
    },
    {
     "data": {
      "image/png": "[encoded data removed]",
      "text/plain": [
       "<matplotlib.figure.Figure at 0x1b533473c8>"
      ]
     },
     "metadata": {},
     "output_type": "display_data"
    }
   ],
   "source": [
    "sns.jointplot(x=\"funded_amount\", y=\"num_lenders_total\", data=lp[lp[\"funded_amount\"] < 10000])"
   ]
  },
  {
   "cell_type": "code",
   "execution_count": 90,
   "metadata": {},
   "outputs": [
    {
     "data": {
      "text/plain": [
       "<seaborn.axisgrid.JointGrid at 0x1b5a8de278>"
      ]
     },
     "execution_count": 90,
     "metadata": {},
     "output_type": "execute_result"
    },
    {
     "data": {
      "image/png": "[encoded data removed]",
      "text/plain": [
       "<matplotlib.figure.Figure at 0x1b5a8de0f0>"
      ]
     },
     "metadata": {},
     "output_type": "display_data"
    }
   ],
   "source": [
    "sns.jointplot(x=\"funded_amount\", y=\"post_to_raise_days\", kind='hex', data=lp[lp[\"post_to_raise_days\"] > 0])"
   ]
  },
  {
   "cell_type": "code",
   "execution_count": 94,
   "metadata": {},
   "outputs": [
    {
     "data": {
      "text/plain": [
       "<seaborn.axisgrid.JointGrid at 0x1b5db02f28>"
      ]
     },
     "execution_count": 94,
     "metadata": {},
     "output_type": "execute_result"
    },
    {
     "data": {
      "image/png": "[encoded data removed]",
      "text/plain": [
       "<matplotlib.figure.Figure at 0x1b5db024a8>"
      ]
     },
     "metadata": {},
     "output_type": "display_data"
    }
   ],
   "source": [
    "sns.jointplot(x=\"loan_amount\", y=\"status_num\", kind='hex', data=lp[lp[\"loan_amount\"] < 10000])"
   ]
  },
  {
   "cell_type": "code",
   "execution_count": 95,
   "metadata": {},
   "outputs": [
    {
     "data": {
      "text/plain": [
       "<seaborn.axisgrid.JointGrid at 0x1b5a0a7f28>"
      ]
     },
     "execution_count": 95,
     "metadata": {},
     "output_type": "execute_result"
    },
    {
     "data": {
      "image/png": "[encoded data removed]",
      "text/plain": [
       "<matplotlib.figure.Figure at 0x1b5a0a7438>"
      ]
     },
     "metadata": {},
     "output_type": "display_data"
    }
   ],
   "source": [
    "sns.jointplot(x=\"lender_term\", y=\"num_lenders_total\", data=lp[lp[\"funded_amount\"] < 10000])"
   ]
  },
  {
   "cell_type": "code",
   "execution_count": 96,
   "metadata": {},
   "outputs": [
    {
     "data": {
      "text/plain": [
       "<seaborn.axisgrid.JointGrid at 0x1b6243f2b0>"
      ]
     },
     "execution_count": 96,
     "metadata": {},
     "output_type": "execute_result"
    },
    {
     "data": {
      "image/png": "[encoded data removed]",
      "text/plain": [
       "<matplotlib.figure.Figure at 0x1b6243f898>"
      ]
     },
     "metadata": {},
     "output_type": "display_data"
    }
   ],
   "source": [
    "sns.jointplot(x=\"post_to_raise_days\", y=\"num_lenders_total\", data=lp[lp[\"post_to_raise_days\"] >0])"
   ]
  },
  {
   "cell_type": "code",
   "execution_count": 98,
   "metadata": {},
   "outputs": [
    {
     "data": {
      "text/plain": [
       "<seaborn.axisgrid.JointGrid at 0x1bcd8a9518>"
      ]
     },
     "execution_count": 98,
     "metadata": {},
     "output_type": "execute_result"
    },
    {
     "data": {
      "image/png": "[encoded data removed]",
      "text/plain": [
       "<matplotlib.figure.Figure at 0x1bcd8a9390>"
      ]
     },
     "metadata": {},
     "output_type": "display_data"
    }
   ],
   "source": [
    "sns.jointplot(x=\"currency_exchange_coverage_rate\", y=\"funded_amount\", data=lp)"
   ]
  },
  {
   "cell_type": "code",
   "execution_count": 101,
   "metadata": {},
   "outputs": [
    {
     "data": {
      "text/plain": [
       "<seaborn.axisgrid.JointGrid at 0x1b5d575e48>"
      ]
     },
     "execution_count": 101,
     "metadata": {},
     "output_type": "execute_result"
    },
    {
     "data": {
      "image/png": "[encoded data removed]",
      "text/plain": [
       "<matplotlib.figure.Figure at 0x1b5a2a50b8>"
      ]
     },
     "metadata": {},
     "output_type": "display_data"
    }
   ],
   "source": [
    "sns.jointplot(x=\"num_journal_entries\", y=\"status_num\", data=lp)"
   ]
  },
  {
   "cell_type": "markdown",
   "metadata": {},
   "source": [
    "/ regression, SVM, random forest"
   ]
  },
  {
   "cell_type": "code",
   "execution_count": null,
   "metadata": {},
   "outputs": [],
   "source": []
  }
 ],
 "metadata": {
  "kernelspec": {
   "display_name": "Python 3",
   "language": "python",
   "name": "python3"
  },
  "language_info": {
   "codemirror_mode": {
    "name": "ipython",
    "version": 3
   },
   "file_extension": ".py",
   "mimetype": "text/x-python",
   "name": "python",
   "nbconvert_exporter": "python",
   "pygments_lexer": "ipython3",
   "version": "3.6.4"
  }
 },
 "nbformat": 4,
 "nbformat_minor": 2
}
